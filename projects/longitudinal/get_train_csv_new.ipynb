{
 "cells": [
  {
   "cell_type": "code",
   "execution_count": 1,
   "id": "initial_id",
   "metadata": {
    "collapsed": true,
    "ExecuteTime": {
     "end_time": "2024-02-08T01:26:41.382363437Z",
     "start_time": "2024-02-08T01:26:41.214605731Z"
    }
   },
   "outputs": [],
   "source": [
    "import pandas as pd\n",
    "\n",
    "data = pd.read_csv('csvs/meta.csv',index_col=None)"
   ]
  },
  {
   "cell_type": "code",
   "execution_count": 2,
   "outputs": [
    {
     "data": {
      "text/plain": "                                   Relative path        File name  \\\n0    datasets/Dataset_C2/12_channel/Test-phantom  e13970s4_P48128   \n1            datasets/Dataset_C2/12_channel/Test  e13992s4_P08704   \n2            datasets/Dataset_C2/12_channel/Test  e13993s4_P16896   \n3            datasets/Dataset_C2/12_channel/Test  e13991s3_P01536   \n4            datasets/Dataset_C2/12_channel/Test  e14079s3_P09216   \n..                                           ...              ...   \n333           datasets/Dataset_C2/12_channel/new  e19994s3_P54784   \n334           datasets/Dataset_C2/12_channel/new  e19993s9_P50176   \n335           datasets/Dataset_C2/12_channel/new  e20039s3_P33792   \n336           datasets/Dataset_C2/12_channel/new  e20059s3_P51200   \n337           datasets/Dataset_C2/12_channel/new  e20060s3_P59904   \n\n     Image X res  Image Y res  k space X res  k space Y res  Phases  Slices  \\\n0            256          256            256            218       1     170   \n1            256          256            256            218       1     170   \n2            256          256            256            218       1     170   \n3            256          256            256            218       1     170   \n4            256          256            256            218       1     170   \n..           ...          ...            ...            ...     ...     ...   \n333          256          256            256            218       1     170   \n334          256          256            256            218       1     170   \n335          256          256            256            218       1     170   \n336          256          256            256            218       1     170   \n337          256          256            256            218       1     170   \n\n     Echos  Channels   Scan date      TE        TI      TR  Flip angle  \\\n0        1        12  2018-05-23  2568.0  650000.0  6344.0         8.0   \n1        1        12  2018-05-27  2568.0  650000.0  6344.0         8.0   \n2        1        12  2018-05-27  2568.0  650000.0  6344.0         8.0   \n3        1        12  2018-05-27  2568.0  650000.0  6344.0         8.0   \n4        1        12  2018-06-10  2568.0  650000.0  6344.0         8.0   \n..     ...       ...         ...     ...       ...     ...         ...   \n333      1        12  2022-04-21  2584.0  650000.0  6380.0         8.0   \n334      1        12  2022-04-21  2584.0  650000.0  6380.0         8.0   \n335      1        12  2022-05-03  2584.0  650000.0  6380.0         8.0   \n336      1        12  2022-05-05  2584.0  650000.0  6380.0         8.0   \n337      1        12  2022-05-05  2584.0  650000.0  6380.0         8.0   \n\n        Type Patient ID  Relative scan date  Number of scan  \n0    phantom       test                 0.0             1.0  \n1    healthy    NORM469                 0.0             1.0  \n2    healthy    NORM316                 0.0             1.0  \n3    healthy    NORM306                 0.0             1.0  \n4    healthy    NORM339                 0.0             1.0  \n..       ...        ...                 ...             ...  \n333  healthy    NORM448                 0.0             1.0  \n334  healthy    NORM440                 0.0             1.0  \n335  healthy    NORM423                 0.0             1.0  \n336  healthy    NORM446                 0.0             1.0  \n337  healthy    NORM444                 0.0             1.0  \n\n[338 rows x 19 columns]",
      "text/html": "<div>\n<style scoped>\n    .dataframe tbody tr th:only-of-type {\n        vertical-align: middle;\n    }\n\n    .dataframe tbody tr th {\n        vertical-align: top;\n    }\n\n    .dataframe thead th {\n        text-align: right;\n    }\n</style>\n<table border=\"1\" class=\"dataframe\">\n  <thead>\n    <tr style=\"text-align: right;\">\n      <th></th>\n      <th>Relative path</th>\n      <th>File name</th>\n      <th>Image X res</th>\n      <th>Image Y res</th>\n      <th>k space X res</th>\n      <th>k space Y res</th>\n      <th>Phases</th>\n      <th>Slices</th>\n      <th>Echos</th>\n      <th>Channels</th>\n      <th>Scan date</th>\n      <th>TE</th>\n      <th>TI</th>\n      <th>TR</th>\n      <th>Flip angle</th>\n      <th>Type</th>\n      <th>Patient ID</th>\n      <th>Relative scan date</th>\n      <th>Number of scan</th>\n    </tr>\n  </thead>\n  <tbody>\n    <tr>\n      <th>0</th>\n      <td>datasets/Dataset_C2/12_channel/Test-phantom</td>\n      <td>e13970s4_P48128</td>\n      <td>256</td>\n      <td>256</td>\n      <td>256</td>\n      <td>218</td>\n      <td>1</td>\n      <td>170</td>\n      <td>1</td>\n      <td>12</td>\n      <td>2018-05-23</td>\n      <td>2568.0</td>\n      <td>650000.0</td>\n      <td>6344.0</td>\n      <td>8.0</td>\n      <td>phantom</td>\n      <td>test</td>\n      <td>0.0</td>\n      <td>1.0</td>\n    </tr>\n    <tr>\n      <th>1</th>\n      <td>datasets/Dataset_C2/12_channel/Test</td>\n      <td>e13992s4_P08704</td>\n      <td>256</td>\n      <td>256</td>\n      <td>256</td>\n      <td>218</td>\n      <td>1</td>\n      <td>170</td>\n      <td>1</td>\n      <td>12</td>\n      <td>2018-05-27</td>\n      <td>2568.0</td>\n      <td>650000.0</td>\n      <td>6344.0</td>\n      <td>8.0</td>\n      <td>healthy</td>\n      <td>NORM469</td>\n      <td>0.0</td>\n      <td>1.0</td>\n    </tr>\n    <tr>\n      <th>2</th>\n      <td>datasets/Dataset_C2/12_channel/Test</td>\n      <td>e13993s4_P16896</td>\n      <td>256</td>\n      <td>256</td>\n      <td>256</td>\n      <td>218</td>\n      <td>1</td>\n      <td>170</td>\n      <td>1</td>\n      <td>12</td>\n      <td>2018-05-27</td>\n      <td>2568.0</td>\n      <td>650000.0</td>\n      <td>6344.0</td>\n      <td>8.0</td>\n      <td>healthy</td>\n      <td>NORM316</td>\n      <td>0.0</td>\n      <td>1.0</td>\n    </tr>\n    <tr>\n      <th>3</th>\n      <td>datasets/Dataset_C2/12_channel/Test</td>\n      <td>e13991s3_P01536</td>\n      <td>256</td>\n      <td>256</td>\n      <td>256</td>\n      <td>218</td>\n      <td>1</td>\n      <td>170</td>\n      <td>1</td>\n      <td>12</td>\n      <td>2018-05-27</td>\n      <td>2568.0</td>\n      <td>650000.0</td>\n      <td>6344.0</td>\n      <td>8.0</td>\n      <td>healthy</td>\n      <td>NORM306</td>\n      <td>0.0</td>\n      <td>1.0</td>\n    </tr>\n    <tr>\n      <th>4</th>\n      <td>datasets/Dataset_C2/12_channel/Test</td>\n      <td>e14079s3_P09216</td>\n      <td>256</td>\n      <td>256</td>\n      <td>256</td>\n      <td>218</td>\n      <td>1</td>\n      <td>170</td>\n      <td>1</td>\n      <td>12</td>\n      <td>2018-06-10</td>\n      <td>2568.0</td>\n      <td>650000.0</td>\n      <td>6344.0</td>\n      <td>8.0</td>\n      <td>healthy</td>\n      <td>NORM339</td>\n      <td>0.0</td>\n      <td>1.0</td>\n    </tr>\n    <tr>\n      <th>...</th>\n      <td>...</td>\n      <td>...</td>\n      <td>...</td>\n      <td>...</td>\n      <td>...</td>\n      <td>...</td>\n      <td>...</td>\n      <td>...</td>\n      <td>...</td>\n      <td>...</td>\n      <td>...</td>\n      <td>...</td>\n      <td>...</td>\n      <td>...</td>\n      <td>...</td>\n      <td>...</td>\n      <td>...</td>\n      <td>...</td>\n      <td>...</td>\n    </tr>\n    <tr>\n      <th>333</th>\n      <td>datasets/Dataset_C2/12_channel/new</td>\n      <td>e19994s3_P54784</td>\n      <td>256</td>\n      <td>256</td>\n      <td>256</td>\n      <td>218</td>\n      <td>1</td>\n      <td>170</td>\n      <td>1</td>\n      <td>12</td>\n      <td>2022-04-21</td>\n      <td>2584.0</td>\n      <td>650000.0</td>\n      <td>6380.0</td>\n      <td>8.0</td>\n      <td>healthy</td>\n      <td>NORM448</td>\n      <td>0.0</td>\n      <td>1.0</td>\n    </tr>\n    <tr>\n      <th>334</th>\n      <td>datasets/Dataset_C2/12_channel/new</td>\n      <td>e19993s9_P50176</td>\n      <td>256</td>\n      <td>256</td>\n      <td>256</td>\n      <td>218</td>\n      <td>1</td>\n      <td>170</td>\n      <td>1</td>\n      <td>12</td>\n      <td>2022-04-21</td>\n      <td>2584.0</td>\n      <td>650000.0</td>\n      <td>6380.0</td>\n      <td>8.0</td>\n      <td>healthy</td>\n      <td>NORM440</td>\n      <td>0.0</td>\n      <td>1.0</td>\n    </tr>\n    <tr>\n      <th>335</th>\n      <td>datasets/Dataset_C2/12_channel/new</td>\n      <td>e20039s3_P33792</td>\n      <td>256</td>\n      <td>256</td>\n      <td>256</td>\n      <td>218</td>\n      <td>1</td>\n      <td>170</td>\n      <td>1</td>\n      <td>12</td>\n      <td>2022-05-03</td>\n      <td>2584.0</td>\n      <td>650000.0</td>\n      <td>6380.0</td>\n      <td>8.0</td>\n      <td>healthy</td>\n      <td>NORM423</td>\n      <td>0.0</td>\n      <td>1.0</td>\n    </tr>\n    <tr>\n      <th>336</th>\n      <td>datasets/Dataset_C2/12_channel/new</td>\n      <td>e20059s3_P51200</td>\n      <td>256</td>\n      <td>256</td>\n      <td>256</td>\n      <td>218</td>\n      <td>1</td>\n      <td>170</td>\n      <td>1</td>\n      <td>12</td>\n      <td>2022-05-05</td>\n      <td>2584.0</td>\n      <td>650000.0</td>\n      <td>6380.0</td>\n      <td>8.0</td>\n      <td>healthy</td>\n      <td>NORM446</td>\n      <td>0.0</td>\n      <td>1.0</td>\n    </tr>\n    <tr>\n      <th>337</th>\n      <td>datasets/Dataset_C2/12_channel/new</td>\n      <td>e20060s3_P59904</td>\n      <td>256</td>\n      <td>256</td>\n      <td>256</td>\n      <td>218</td>\n      <td>1</td>\n      <td>170</td>\n      <td>1</td>\n      <td>12</td>\n      <td>2022-05-05</td>\n      <td>2584.0</td>\n      <td>650000.0</td>\n      <td>6380.0</td>\n      <td>8.0</td>\n      <td>healthy</td>\n      <td>NORM444</td>\n      <td>0.0</td>\n      <td>1.0</td>\n    </tr>\n  </tbody>\n</table>\n<p>338 rows × 19 columns</p>\n</div>"
     },
     "execution_count": 2,
     "metadata": {},
     "output_type": "execute_result"
    }
   ],
   "source": [
    "data"
   ],
   "metadata": {
    "collapsed": false,
    "ExecuteTime": {
     "end_time": "2024-02-08T01:26:42.169399938Z",
     "start_time": "2024-02-08T01:26:42.153827151Z"
    }
   },
   "id": "e24beb6b4614317"
  },
  {
   "cell_type": "code",
   "execution_count": 3,
   "outputs": [
    {
     "name": "stdout",
     "output_type": "stream",
     "text": [
      "CSV files created in csv/Train\n"
     ]
    },
    {
     "name": "stderr",
     "output_type": "stream",
     "text": [
      "/tmp/ipykernel_632414/1580787170.py:17: UserWarning: Boolean Series key will be reindexed to match DataFrame index.\n",
      "  patient_data = healthy_data[healthy_data['Number of scan'] == 1][healthy_data['Patient ID'] == patient_id]\n",
      "/tmp/ipykernel_632414/1580787170.py:17: UserWarning: Boolean Series key will be reindexed to match DataFrame index.\n",
      "  patient_data = healthy_data[healthy_data['Number of scan'] == 1][healthy_data['Patient ID'] == patient_id]\n",
      "/tmp/ipykernel_632414/1580787170.py:17: UserWarning: Boolean Series key will be reindexed to match DataFrame index.\n",
      "  patient_data = healthy_data[healthy_data['Number of scan'] == 1][healthy_data['Patient ID'] == patient_id]\n",
      "/tmp/ipykernel_632414/1580787170.py:17: UserWarning: Boolean Series key will be reindexed to match DataFrame index.\n",
      "  patient_data = healthy_data[healthy_data['Number of scan'] == 1][healthy_data['Patient ID'] == patient_id]\n",
      "/tmp/ipykernel_632414/1580787170.py:17: UserWarning: Boolean Series key will be reindexed to match DataFrame index.\n",
      "  patient_data = healthy_data[healthy_data['Number of scan'] == 1][healthy_data['Patient ID'] == patient_id]\n",
      "/tmp/ipykernel_632414/1580787170.py:21: UserWarning: Boolean Series key will be reindexed to match DataFrame index.\n",
      "  patient_data = healthy_data[healthy_data['Number of scan'] != 1][healthy_data['Patient ID'] == patient_id]\n",
      "/tmp/ipykernel_632414/1580787170.py:21: UserWarning: Boolean Series key will be reindexed to match DataFrame index.\n",
      "  patient_data = healthy_data[healthy_data['Number of scan'] != 1][healthy_data['Patient ID'] == patient_id]\n",
      "/tmp/ipykernel_632414/1580787170.py:21: UserWarning: Boolean Series key will be reindexed to match DataFrame index.\n",
      "  patient_data = healthy_data[healthy_data['Number of scan'] != 1][healthy_data['Patient ID'] == patient_id]\n",
      "/tmp/ipykernel_632414/1580787170.py:21: UserWarning: Boolean Series key will be reindexed to match DataFrame index.\n",
      "  patient_data = healthy_data[healthy_data['Number of scan'] != 1][healthy_data['Patient ID'] == patient_id]\n",
      "/tmp/ipykernel_632414/1580787170.py:21: UserWarning: Boolean Series key will be reindexed to match DataFrame index.\n",
      "  patient_data = healthy_data[healthy_data['Number of scan'] != 1][healthy_data['Patient ID'] == patient_id]\n"
     ]
    }
   ],
   "source": [
    "import pandas as pd\n",
    "import os\n",
    "\n",
    "def create_patient_csvs(data, output_dir):\n",
    "\n",
    "    # Filter data for healthy subjects with 12 channels\n",
    "    healthy_data = data[(data['Type'] == 'healthy') & (data['Channels'] == 12)]\n",
    "\n",
    "    # Identify patients with more than one scan\n",
    "    patients_multiple_scans = healthy_data['Patient ID'][healthy_data['Number of scan'] != 1].unique()\n",
    "\n",
    "    # Create the output directory if it doesn't exist\n",
    "    os.makedirs(output_dir, exist_ok=True)\n",
    "\n",
    "    # Create a CSV file for each patient with multiple scans\n",
    "    for patient_id in patients_multiple_scans:\n",
    "        patient_data = healthy_data[healthy_data['Number of scan'] == 1][healthy_data['Patient ID'] == patient_id]\n",
    "        output_file = os.path.join(output_dir, f'{patient_id}_sv.csv')\n",
    "        patient_data.to_csv(output_file, index=False)\n",
    "    for patient_id in patients_multiple_scans:\n",
    "        patient_data = healthy_data[healthy_data['Number of scan'] != 1][healthy_data['Patient ID'] == patient_id]\n",
    "        output_file = os.path.join(output_dir, f'{patient_id}_mv.csv')\n",
    "        patient_data.to_csv(output_file, index=False)\n",
    "    print(f\"CSV files created in {output_dir}\")\n",
    "\n",
    "# Example usage\n",
    "input_csv_path =  data.loc[data[\"Relative path\"].str.contains(\"Train\")]# Replace with your input CSV file path\n",
    "output_directory = f'csv/Train'   # Replace with your desired output directory\n",
    "\n",
    "# input_csv_path =  data.loc[data[\"Relative path\"].str.contains(\"Test\") | data[\"Relative path\"].str.contains(\"Val\") | data[\"Relative path\"].str.contains(\"new\")]# Replace with your input CSV file path\n",
    "# output_directory = f'csv/Test'   # Replace with your desired output directory\n",
    "\n",
    "create_patient_csvs(input_csv_path, output_directory)"
   ],
   "metadata": {
    "collapsed": false,
    "ExecuteTime": {
     "end_time": "2024-02-08T01:26:45.469803695Z",
     "start_time": "2024-02-08T01:26:45.451954603Z"
    }
   },
   "id": "d73b72b176990a1b"
  },
  {
   "cell_type": "code",
   "execution_count": 5,
   "outputs": [],
   "source": [
    "train = data.loc[data[\"Type\"] == \"healthy\"].loc[data[\"Channels\"] == 12].loc[data[\"Relative path\"].str.contains(\"Train\")]\n",
    "train.to_csv('csvs/train_chal.csv')\n",
    "val = data.loc[data[\"Type\"] == \"healthy\"].loc[data[\"Channels\"] == 12].loc[data[\"Relative path\"].str.contains(\"Val\")]\n",
    "val.to_csv('csvs/val_chal.csv')\n",
    "test = data.loc[data[\"Type\"] == \"healthy\"].loc[data[\"Channels\"] == 12].loc[data[\"Relative path\"].str.contains(\"Test\")]\n",
    "test.to_csv('csvs/test_chal.csv')\n",
    "new = data.loc[data[\"Type\"] == \"healthy\"].loc[data[\"Channels\"] == 12].loc[data[\"Relative path\"].str.contains(\"new\")]\n",
    "new.to_csv('csvs/new_chal.csv')"
   ],
   "metadata": {
    "collapsed": false,
    "ExecuteTime": {
     "end_time": "2024-02-08T01:28:00.645144781Z",
     "start_time": "2024-02-08T01:28:00.560425441Z"
    }
   },
   "id": "fcbbbb0dc13948ee"
  },
  {
   "cell_type": "code",
   "execution_count": 158,
   "outputs": [
    {
     "data": {
      "text/plain": "Patient ID\nNORM138    8\nNORM101    6\nNORM442    3\nNORM400    2\nNORM487    2\nNORM476    2\nNORM491    2\nNORM486    2\nNORM489    2\nNorm488    2\nNORM480    2\nNORM483    2\nNORM478    2\nName: count, dtype: int64"
     },
     "execution_count": 158,
     "metadata": {},
     "output_type": "execute_result"
    }
   ],
   "source": [
    "mv_patients_train"
   ],
   "metadata": {
    "collapsed": false,
    "ExecuteTime": {
     "end_time": "2024-01-17T18:16:11.282367100Z",
     "start_time": "2024-01-17T18:16:11.272216800Z"
    }
   },
   "id": "8013d153aa34ba17"
  },
  {
   "cell_type": "code",
   "execution_count": 159,
   "outputs": [
    {
     "name": "stdout",
     "output_type": "stream",
     "text": [
      "94\n",
      "28\n",
      "15\n",
      "13\n",
      "12\n",
      "4\n",
      "8\n",
      "37\n",
      "34\n",
      "3\n",
      "22\n",
      "19\n",
      "3\n"
     ]
    }
   ],
   "source": [
    "# Group by 'Patient ID' and count the occurrences\n",
    "patient_data = data['Patient ID'].loc[data[\"Type\"] == \"healthy\"].loc[data[\"Channels\"] == 12].value_counts()\n",
    "print(len(patient_data))\n",
    "patient_counts_train = train['Patient ID'].value_counts()\n",
    "print(len(patient_counts_train))\n",
    "sv_patients_train = patient_counts_train[patient_counts_train == 1]\n",
    "print(sv_patients_train.count())\n",
    "mv_patients_train = patient_counts_train[patient_counts_train != 1]\n",
    "print(mv_patients_train.count())\n",
    "\n",
    "patient_counts_val = val['Patient ID'].value_counts()\n",
    "print(len(patient_counts_val))\n",
    "sv_patients_val = patient_counts_val[patient_counts_val == 1]\n",
    "print(sv_patients_val.count())\n",
    "mv_patients_val = patient_counts_val[patient_counts_val != 1]\n",
    "print(mv_patients_val.count())\n",
    "\n",
    "\n",
    "patient_counts_test = test['Patient ID'].value_counts()\n",
    "print(len(patient_counts_test))\n",
    "sv_patients_test = patient_counts_test[patient_counts_test == 1]\n",
    "print(sv_patients_test.count())\n",
    "mv_patients_test = patient_counts_test[patient_counts_test != 1]\n",
    "print(mv_patients_test.count())\n",
    "\n",
    "patient_counts = new['Patient ID'].value_counts()\n",
    "print(len(patient_counts))\n",
    "sv_patients_new = patient_counts[patient_counts == 1]\n",
    "print(sv_patients_new.count())\n",
    "mv_patients_new = patient_counts[patient_counts != 1]\n",
    "print(mv_patients_new.count())"
   ],
   "metadata": {
    "collapsed": false,
    "ExecuteTime": {
     "end_time": "2024-01-17T18:16:11.719217100Z",
     "start_time": "2024-01-17T18:16:11.710705900Z"
    }
   },
   "id": "ffa85539ea24b667"
  },
  {
   "cell_type": "code",
   "execution_count": 160,
   "outputs": [
    {
     "data": {
      "text/plain": "                          Relative path        File name  Image X res  \\\n319  datasets/Dataset_C2/12_channel/new  e19850s3_P09728          256   \n320  datasets/Dataset_C2/12_channel/new  e19861s3_P16384          256   \n321  datasets/Dataset_C2/12_channel/new  e19864s3_P17408          256   \n322  datasets/Dataset_C2/12_channel/new  e19869s3_P60928          256   \n323  datasets/Dataset_C2/12_channel/new  e19870s3_P70656          256   \n324  datasets/Dataset_C2/12_channel/new  e19890s3_P36352          256   \n326  datasets/Dataset_C2/12_channel/new  e19928s3_P17408          256   \n327  datasets/Dataset_C2/12_channel/new  e19933s5_P59904          256   \n328  datasets/Dataset_C2/12_channel/new  e19932s3_P49664          256   \n329  datasets/Dataset_C2/12_channel/new  e19961s3_P20480          256   \n330  datasets/Dataset_C2/12_channel/new  e19963s3_P39936          256   \n331  datasets/Dataset_C2/12_channel/new  e19967s4_P16896          256   \n332  datasets/Dataset_C2/12_channel/new  e19977s3_P37888          256   \n333  datasets/Dataset_C2/12_channel/new  e19994s3_P54784          256   \n334  datasets/Dataset_C2/12_channel/new  e19993s9_P50176          256   \n335  datasets/Dataset_C2/12_channel/new  e20039s3_P33792          256   \n336  datasets/Dataset_C2/12_channel/new  e20059s3_P51200          256   \n337  datasets/Dataset_C2/12_channel/new  e20060s3_P59904          256   \n\n     Image Y res  k space X res  k space Y res  Phases  Slices  Echos  \\\n319          256            256            218       1     170      1   \n320          256            256            218       1     170      1   \n321          256            256            218       1     170      1   \n322          256            256            218       1     170      1   \n323          256            256            218       1     170      1   \n324          256            256            218       1     170      1   \n326          256            256            218       1     170      1   \n327          256            256            218       1     170      1   \n328          256            256            218       1     170      1   \n329          256            256            218       1     170      1   \n330          256            256            218       1     170      1   \n331          256            256            218       1     170      1   \n332          256            256            218       1     170      1   \n333          256            256            218       1     170      1   \n334          256            256            218       1     170      1   \n335          256            256            218       1     170      1   \n336          256            256            218       1     170      1   \n337          256            256            218       1     170      1   \n\n     Channels   Scan date      TE        TI      TR  Flip angle     Type  \\\n319        12  2022-03-17  2584.0  650000.0  6380.0         8.0  healthy   \n320        12  2022-03-21  2584.0  650000.0  6380.0         8.0  healthy   \n321        12  2022-03-22  2584.0  650000.0  6380.0         8.0  healthy   \n322        12  2022-03-23  2584.0  650000.0  6380.0         8.0  healthy   \n323        12  2022-03-23  2584.0  650000.0  6380.0         8.0  healthy   \n324        12  2022-03-28  2584.0  650000.0  6380.0         8.0  healthy   \n326        12  2022-04-06  2584.0  650000.0  6380.0         8.0  healthy   \n327        12  2022-04-07  2584.0  650000.0  6380.0         8.0  healthy   \n328        12  2022-04-07  2584.0  650000.0  6380.0         8.0  healthy   \n329        12  2022-04-13  2584.0  650000.0  6380.0         8.0  healthy   \n330        12  2022-04-13  2584.0  650000.0  6380.0         8.0  healthy   \n331        12  2022-04-14  2584.0  650000.0  6380.0         8.0  healthy   \n332        12  2022-04-18  2584.0  650000.0  6380.0         8.0  healthy   \n333        12  2022-04-21  2584.0  650000.0  6380.0         8.0  healthy   \n334        12  2022-04-21  2584.0  650000.0  6380.0         8.0  healthy   \n335        12  2022-05-03  2584.0  650000.0  6380.0         8.0  healthy   \n336        12  2022-05-05  2584.0  650000.0  6380.0         8.0  healthy   \n337        12  2022-05-05  2584.0  650000.0  6380.0         8.0  healthy   \n\n    Patient ID  Relative scan date  Number of scan  \n319    NORM414                 0.0             1.0  \n320    NORM406                 0.0             1.0  \n321    NORM422                 0.0             1.0  \n322    NORM438                 0.0             1.0  \n323    NORM410                 0.0             1.0  \n324    NORM424                 0.0             1.0  \n326    NORM426                 0.0             1.0  \n327    NORM441                 0.0             1.0  \n328    NORM421                 0.0             1.0  \n329    NORM411                 0.0             1.0  \n330    NORM404                 0.0             1.0  \n331    NORM435                 0.0             1.0  \n332    NROM405                 0.0             1.0  \n333    NORM448                 0.0             1.0  \n334    NORM440                 0.0             1.0  \n335    NORM423                 0.0             1.0  \n336    NORM446                 0.0             1.0  \n337    NORM444                 0.0             1.0  ",
      "text/html": "<div>\n<style scoped>\n    .dataframe tbody tr th:only-of-type {\n        vertical-align: middle;\n    }\n\n    .dataframe tbody tr th {\n        vertical-align: top;\n    }\n\n    .dataframe thead th {\n        text-align: right;\n    }\n</style>\n<table border=\"1\" class=\"dataframe\">\n  <thead>\n    <tr style=\"text-align: right;\">\n      <th></th>\n      <th>Relative path</th>\n      <th>File name</th>\n      <th>Image X res</th>\n      <th>Image Y res</th>\n      <th>k space X res</th>\n      <th>k space Y res</th>\n      <th>Phases</th>\n      <th>Slices</th>\n      <th>Echos</th>\n      <th>Channels</th>\n      <th>Scan date</th>\n      <th>TE</th>\n      <th>TI</th>\n      <th>TR</th>\n      <th>Flip angle</th>\n      <th>Type</th>\n      <th>Patient ID</th>\n      <th>Relative scan date</th>\n      <th>Number of scan</th>\n    </tr>\n  </thead>\n  <tbody>\n    <tr>\n      <th>319</th>\n      <td>datasets/Dataset_C2/12_channel/new</td>\n      <td>e19850s3_P09728</td>\n      <td>256</td>\n      <td>256</td>\n      <td>256</td>\n      <td>218</td>\n      <td>1</td>\n      <td>170</td>\n      <td>1</td>\n      <td>12</td>\n      <td>2022-03-17</td>\n      <td>2584.0</td>\n      <td>650000.0</td>\n      <td>6380.0</td>\n      <td>8.0</td>\n      <td>healthy</td>\n      <td>NORM414</td>\n      <td>0.0</td>\n      <td>1.0</td>\n    </tr>\n    <tr>\n      <th>320</th>\n      <td>datasets/Dataset_C2/12_channel/new</td>\n      <td>e19861s3_P16384</td>\n      <td>256</td>\n      <td>256</td>\n      <td>256</td>\n      <td>218</td>\n      <td>1</td>\n      <td>170</td>\n      <td>1</td>\n      <td>12</td>\n      <td>2022-03-21</td>\n      <td>2584.0</td>\n      <td>650000.0</td>\n      <td>6380.0</td>\n      <td>8.0</td>\n      <td>healthy</td>\n      <td>NORM406</td>\n      <td>0.0</td>\n      <td>1.0</td>\n    </tr>\n    <tr>\n      <th>321</th>\n      <td>datasets/Dataset_C2/12_channel/new</td>\n      <td>e19864s3_P17408</td>\n      <td>256</td>\n      <td>256</td>\n      <td>256</td>\n      <td>218</td>\n      <td>1</td>\n      <td>170</td>\n      <td>1</td>\n      <td>12</td>\n      <td>2022-03-22</td>\n      <td>2584.0</td>\n      <td>650000.0</td>\n      <td>6380.0</td>\n      <td>8.0</td>\n      <td>healthy</td>\n      <td>NORM422</td>\n      <td>0.0</td>\n      <td>1.0</td>\n    </tr>\n    <tr>\n      <th>322</th>\n      <td>datasets/Dataset_C2/12_channel/new</td>\n      <td>e19869s3_P60928</td>\n      <td>256</td>\n      <td>256</td>\n      <td>256</td>\n      <td>218</td>\n      <td>1</td>\n      <td>170</td>\n      <td>1</td>\n      <td>12</td>\n      <td>2022-03-23</td>\n      <td>2584.0</td>\n      <td>650000.0</td>\n      <td>6380.0</td>\n      <td>8.0</td>\n      <td>healthy</td>\n      <td>NORM438</td>\n      <td>0.0</td>\n      <td>1.0</td>\n    </tr>\n    <tr>\n      <th>323</th>\n      <td>datasets/Dataset_C2/12_channel/new</td>\n      <td>e19870s3_P70656</td>\n      <td>256</td>\n      <td>256</td>\n      <td>256</td>\n      <td>218</td>\n      <td>1</td>\n      <td>170</td>\n      <td>1</td>\n      <td>12</td>\n      <td>2022-03-23</td>\n      <td>2584.0</td>\n      <td>650000.0</td>\n      <td>6380.0</td>\n      <td>8.0</td>\n      <td>healthy</td>\n      <td>NORM410</td>\n      <td>0.0</td>\n      <td>1.0</td>\n    </tr>\n    <tr>\n      <th>324</th>\n      <td>datasets/Dataset_C2/12_channel/new</td>\n      <td>e19890s3_P36352</td>\n      <td>256</td>\n      <td>256</td>\n      <td>256</td>\n      <td>218</td>\n      <td>1</td>\n      <td>170</td>\n      <td>1</td>\n      <td>12</td>\n      <td>2022-03-28</td>\n      <td>2584.0</td>\n      <td>650000.0</td>\n      <td>6380.0</td>\n      <td>8.0</td>\n      <td>healthy</td>\n      <td>NORM424</td>\n      <td>0.0</td>\n      <td>1.0</td>\n    </tr>\n    <tr>\n      <th>326</th>\n      <td>datasets/Dataset_C2/12_channel/new</td>\n      <td>e19928s3_P17408</td>\n      <td>256</td>\n      <td>256</td>\n      <td>256</td>\n      <td>218</td>\n      <td>1</td>\n      <td>170</td>\n      <td>1</td>\n      <td>12</td>\n      <td>2022-04-06</td>\n      <td>2584.0</td>\n      <td>650000.0</td>\n      <td>6380.0</td>\n      <td>8.0</td>\n      <td>healthy</td>\n      <td>NORM426</td>\n      <td>0.0</td>\n      <td>1.0</td>\n    </tr>\n    <tr>\n      <th>327</th>\n      <td>datasets/Dataset_C2/12_channel/new</td>\n      <td>e19933s5_P59904</td>\n      <td>256</td>\n      <td>256</td>\n      <td>256</td>\n      <td>218</td>\n      <td>1</td>\n      <td>170</td>\n      <td>1</td>\n      <td>12</td>\n      <td>2022-04-07</td>\n      <td>2584.0</td>\n      <td>650000.0</td>\n      <td>6380.0</td>\n      <td>8.0</td>\n      <td>healthy</td>\n      <td>NORM441</td>\n      <td>0.0</td>\n      <td>1.0</td>\n    </tr>\n    <tr>\n      <th>328</th>\n      <td>datasets/Dataset_C2/12_channel/new</td>\n      <td>e19932s3_P49664</td>\n      <td>256</td>\n      <td>256</td>\n      <td>256</td>\n      <td>218</td>\n      <td>1</td>\n      <td>170</td>\n      <td>1</td>\n      <td>12</td>\n      <td>2022-04-07</td>\n      <td>2584.0</td>\n      <td>650000.0</td>\n      <td>6380.0</td>\n      <td>8.0</td>\n      <td>healthy</td>\n      <td>NORM421</td>\n      <td>0.0</td>\n      <td>1.0</td>\n    </tr>\n    <tr>\n      <th>329</th>\n      <td>datasets/Dataset_C2/12_channel/new</td>\n      <td>e19961s3_P20480</td>\n      <td>256</td>\n      <td>256</td>\n      <td>256</td>\n      <td>218</td>\n      <td>1</td>\n      <td>170</td>\n      <td>1</td>\n      <td>12</td>\n      <td>2022-04-13</td>\n      <td>2584.0</td>\n      <td>650000.0</td>\n      <td>6380.0</td>\n      <td>8.0</td>\n      <td>healthy</td>\n      <td>NORM411</td>\n      <td>0.0</td>\n      <td>1.0</td>\n    </tr>\n    <tr>\n      <th>330</th>\n      <td>datasets/Dataset_C2/12_channel/new</td>\n      <td>e19963s3_P39936</td>\n      <td>256</td>\n      <td>256</td>\n      <td>256</td>\n      <td>218</td>\n      <td>1</td>\n      <td>170</td>\n      <td>1</td>\n      <td>12</td>\n      <td>2022-04-13</td>\n      <td>2584.0</td>\n      <td>650000.0</td>\n      <td>6380.0</td>\n      <td>8.0</td>\n      <td>healthy</td>\n      <td>NORM404</td>\n      <td>0.0</td>\n      <td>1.0</td>\n    </tr>\n    <tr>\n      <th>331</th>\n      <td>datasets/Dataset_C2/12_channel/new</td>\n      <td>e19967s4_P16896</td>\n      <td>256</td>\n      <td>256</td>\n      <td>256</td>\n      <td>218</td>\n      <td>1</td>\n      <td>170</td>\n      <td>1</td>\n      <td>12</td>\n      <td>2022-04-14</td>\n      <td>2584.0</td>\n      <td>650000.0</td>\n      <td>6380.0</td>\n      <td>8.0</td>\n      <td>healthy</td>\n      <td>NORM435</td>\n      <td>0.0</td>\n      <td>1.0</td>\n    </tr>\n    <tr>\n      <th>332</th>\n      <td>datasets/Dataset_C2/12_channel/new</td>\n      <td>e19977s3_P37888</td>\n      <td>256</td>\n      <td>256</td>\n      <td>256</td>\n      <td>218</td>\n      <td>1</td>\n      <td>170</td>\n      <td>1</td>\n      <td>12</td>\n      <td>2022-04-18</td>\n      <td>2584.0</td>\n      <td>650000.0</td>\n      <td>6380.0</td>\n      <td>8.0</td>\n      <td>healthy</td>\n      <td>NROM405</td>\n      <td>0.0</td>\n      <td>1.0</td>\n    </tr>\n    <tr>\n      <th>333</th>\n      <td>datasets/Dataset_C2/12_channel/new</td>\n      <td>e19994s3_P54784</td>\n      <td>256</td>\n      <td>256</td>\n      <td>256</td>\n      <td>218</td>\n      <td>1</td>\n      <td>170</td>\n      <td>1</td>\n      <td>12</td>\n      <td>2022-04-21</td>\n      <td>2584.0</td>\n      <td>650000.0</td>\n      <td>6380.0</td>\n      <td>8.0</td>\n      <td>healthy</td>\n      <td>NORM448</td>\n      <td>0.0</td>\n      <td>1.0</td>\n    </tr>\n    <tr>\n      <th>334</th>\n      <td>datasets/Dataset_C2/12_channel/new</td>\n      <td>e19993s9_P50176</td>\n      <td>256</td>\n      <td>256</td>\n      <td>256</td>\n      <td>218</td>\n      <td>1</td>\n      <td>170</td>\n      <td>1</td>\n      <td>12</td>\n      <td>2022-04-21</td>\n      <td>2584.0</td>\n      <td>650000.0</td>\n      <td>6380.0</td>\n      <td>8.0</td>\n      <td>healthy</td>\n      <td>NORM440</td>\n      <td>0.0</td>\n      <td>1.0</td>\n    </tr>\n    <tr>\n      <th>335</th>\n      <td>datasets/Dataset_C2/12_channel/new</td>\n      <td>e20039s3_P33792</td>\n      <td>256</td>\n      <td>256</td>\n      <td>256</td>\n      <td>218</td>\n      <td>1</td>\n      <td>170</td>\n      <td>1</td>\n      <td>12</td>\n      <td>2022-05-03</td>\n      <td>2584.0</td>\n      <td>650000.0</td>\n      <td>6380.0</td>\n      <td>8.0</td>\n      <td>healthy</td>\n      <td>NORM423</td>\n      <td>0.0</td>\n      <td>1.0</td>\n    </tr>\n    <tr>\n      <th>336</th>\n      <td>datasets/Dataset_C2/12_channel/new</td>\n      <td>e20059s3_P51200</td>\n      <td>256</td>\n      <td>256</td>\n      <td>256</td>\n      <td>218</td>\n      <td>1</td>\n      <td>170</td>\n      <td>1</td>\n      <td>12</td>\n      <td>2022-05-05</td>\n      <td>2584.0</td>\n      <td>650000.0</td>\n      <td>6380.0</td>\n      <td>8.0</td>\n      <td>healthy</td>\n      <td>NORM446</td>\n      <td>0.0</td>\n      <td>1.0</td>\n    </tr>\n    <tr>\n      <th>337</th>\n      <td>datasets/Dataset_C2/12_channel/new</td>\n      <td>e20060s3_P59904</td>\n      <td>256</td>\n      <td>256</td>\n      <td>256</td>\n      <td>218</td>\n      <td>1</td>\n      <td>170</td>\n      <td>1</td>\n      <td>12</td>\n      <td>2022-05-05</td>\n      <td>2584.0</td>\n      <td>650000.0</td>\n      <td>6380.0</td>\n      <td>8.0</td>\n      <td>healthy</td>\n      <td>NORM444</td>\n      <td>0.0</td>\n      <td>1.0</td>\n    </tr>\n  </tbody>\n</table>\n</div>"
     },
     "execution_count": 160,
     "metadata": {},
     "output_type": "execute_result"
    }
   ],
   "source": [
    "new[~(new['Patient ID'].isin(patient_counts_train.keys()) | new['Patient ID'].isin(patient_counts_test.keys()) | new['Patient ID'].isin(patient_counts_val.keys()))]"
   ],
   "metadata": {
    "collapsed": false,
    "ExecuteTime": {
     "end_time": "2024-01-17T18:16:12.758002200Z",
     "start_time": "2024-01-17T18:16:12.732775100Z"
    }
   },
   "id": "d1455f0bc540ff43"
  },
  {
   "cell_type": "code",
   "execution_count": 161,
   "outputs": [
    {
     "name": "stdout",
     "output_type": "stream",
     "text": [
      "46\n",
      "33\n",
      "13\n"
     ]
    }
   ],
   "source": [
    "train = pd.concat([train,new[new['Patient ID'].isin(patient_counts_train.keys())]])\n",
    "val = pd.concat([val,new[new['Patient ID'].isin(patient_counts_val.keys())]])\n",
    "test = pd.concat([test,new[new['Patient ID'].isin(patient_counts_test.keys())]])\n",
    "\n",
    "train = pd.concat([train,new[~(new['Patient ID'].isin(patient_counts_train.keys()) | new['Patient ID'].isin(patient_counts_test.keys()) | new['Patient ID'].isin(patient_counts_val.keys()))]])\n",
    "\n",
    "patient_counts_train = train['Patient ID'].value_counts()\n",
    "print(len(patient_counts_train))\n",
    "sv_patients_train = patient_counts_train[patient_counts_train == 1]\n",
    "print(sv_patients_train.count())\n",
    "mv_patients_train = patient_counts_train[patient_counts_train != 1]\n",
    "print(mv_patients_train.count())\n",
    "\n"
   ],
   "metadata": {
    "collapsed": false,
    "ExecuteTime": {
     "end_time": "2024-01-17T18:16:14.071423200Z",
     "start_time": "2024-01-17T18:16:14.061637Z"
    }
   },
   "id": "f59fb00194cb78fb"
  },
  {
   "cell_type": "code",
   "execution_count": 6,
   "outputs": [
    {
     "data": {
      "text/plain": "                            Relative path         File name  Image X res  \\\n9    datasets/Dataset_C2/12_channel/Train   e14089s3_P53248          256   \n12   datasets/Dataset_C2/12_channel/Train   e14134s3_P06656          256   \n13   datasets/Dataset_C2/12_channel/Train   e14141s3_P58880          256   \n14   datasets/Dataset_C2/12_channel/Train   e14140s3_P52224          256   \n16   datasets/Dataset_C2/12_channel/Train   e14191s3_P58368          256   \n17   datasets/Dataset_C2/12_channel/Train   e14195s3_P03584          256   \n20   datasets/Dataset_C2/12_channel/Train   e14268s3_P26112          256   \n22   datasets/Dataset_C2/12_channel/Train   e14292s3_P85504          256   \n23   datasets/Dataset_C2/12_channel/Train   e14302s3_P52224          256   \n24   datasets/Dataset_C2/12_channel/Train   e14304s3_P64000          256   \n25   datasets/Dataset_C2/12_channel/Train   e14296s4_P09216          256   \n27   datasets/Dataset_C2/12_channel/Train   e14351s3_P29184          256   \n28   datasets/Dataset_C2/12_channel/Train   e14352s3_P35840          256   \n29   datasets/Dataset_C2/12_channel/Train   e14369s5_P40960          256   \n30   datasets/Dataset_C2/12_channel/Train   e14378s5_P40448          256   \n31   datasets/Dataset_C2/12_channel/Train   e14377s6_P33280          256   \n32   datasets/Dataset_C2/12_channel/Train   e14396s3_P52224          256   \n33   datasets/Dataset_C2/12_channel/Train   e14423s3_P29696          256   \n34   datasets/Dataset_C2/12_channel/Train   e14427s3_P76288          256   \n35   datasets/Dataset_C2/12_channel/Train   e14441s5_P76800          256   \n36   datasets/Dataset_C2/12_channel/Train   e14437s5_P49152          256   \n37   datasets/Dataset_C2/12_channel/Train   e14477s5_P34816          256   \n38   datasets/Dataset_C2/12_channel/Train   e14487s5_P47616          256   \n40   datasets/Dataset_C2/12_channel/Train   e14508s5_P48128          256   \n41   datasets/Dataset_C2/12_channel/Train   e14507s5_P41472          256   \n42   datasets/Dataset_C2/12_channel/Train   e14530s5_P60416          256   \n43   datasets/Dataset_C2/12_channel/Train   e14532s5_P74752          256   \n46   datasets/Dataset_C2/12_channel/Train   e14537s3_P14336          256   \n60   datasets/Dataset_C2/12_channel/Train   e15135s4_P48640          256   \n61   datasets/Dataset_C2/12_channel/Train   e15184s3_P58880          256   \n64   datasets/Dataset_C2/12_channel/Train   e15198s3_P61952          256   \n65   datasets/Dataset_C2/12_channel/Train   e15195s3_P39424          256   \n74   datasets/Dataset_C2/12_channel/Train   e15494s3_P24064          256   \n76   datasets/Dataset_C2/12_channel/Train   e15523s3_P52224          256   \n77   datasets/Dataset_C2/12_channel/Train  e15578s13_P08192          256   \n78   datasets/Dataset_C2/12_channel/Train   e15581s3_P27136          256   \n79   datasets/Dataset_C2/12_channel/Train   e15598s3_P54784          256   \n92   datasets/Dataset_C2/12_channel/Train  e15802s13_P50176          256   \n93   datasets/Dataset_C2/12_channel/Train   e15802s3_P42496          256   \n96   datasets/Dataset_C2/12_channel/Train  e15828s13_P65536          256   \n97   datasets/Dataset_C2/12_channel/Train   e15828s3_P57856          256   \n102  datasets/Dataset_C2/12_channel/Train  e15862s13_P40960          256   \n103  datasets/Dataset_C2/12_channel/Train   e15862s3_P33792          256   \n155  datasets/Dataset_C2/12_channel/Train  e16882s14_P46080          256   \n156  datasets/Dataset_C2/12_channel/Train   e16882s4_P38912          256   \n163  datasets/Dataset_C2/12_channel/Train   e16971s3_P23040          256   \n164  datasets/Dataset_C2/12_channel/Train   e16972s3_P31232          256   \n\n     Image Y res  k space X res  k space Y res  Phases  Slices  Echos  \\\n9            256            256            218       1     170      1   \n12           256            256            218       1     170      1   \n13           256            256            218       1     170      1   \n14           256            256            218       1     170      1   \n16           256            256            218       1     170      1   \n17           256            256            218       1     170      1   \n20           256            256            218       1     170      1   \n22           256            256            218       1     170      1   \n23           256            256            218       1     170      1   \n24           256            256            218       1     170      1   \n25           256            256            218       1     170      1   \n27           256            256            218       1     170      1   \n28           256            256            218       1     170      1   \n29           256            256            218       1     170      1   \n30           256            256            218       1     170      1   \n31           256            256            218       1     170      1   \n32           256            256            218       1     170      1   \n33           256            256            218       1     170      1   \n34           256            256            218       1     170      1   \n35           256            256            218       1     170      1   \n36           256            256            218       1     170      1   \n37           256            256            218       1     170      1   \n38           256            256            218       1     170      1   \n40           256            256            218       1     170      1   \n41           256            256            218       1     170      1   \n42           256            256            218       1     170      1   \n43           256            256            218       1     170      1   \n46           256            256            218       1     170      1   \n60           256            256            218       1     170      1   \n61           256            256            218       1     170      1   \n64           256            256            218       1     170      1   \n65           256            256            218       1     170      1   \n74           256            256            218       1     170      1   \n76           256            256            218       1     170      1   \n77           256            256            218       1     180      1   \n78           256            256            218       1     170      1   \n79           256            256            218       1     170      1   \n92           256            256            218       1     170      1   \n93           256            256            218       1     180      1   \n96           256            256            218       1     170      1   \n97           256            256            218       1     180      1   \n102          256            256            218       1     170      1   \n103          256            256            218       1     180      1   \n155          256            256            218       1     170      1   \n156          256            256            218       1     180      1   \n163          256            256            218       1     180      1   \n164          256            256            218       1     180      1   \n\n     Channels   Scan date      TE        TI      TR  Flip angle     Type  \\\n9          12  2018-06-11  2568.0  650000.0  6344.0         8.0  healthy   \n12         12  2018-06-18  2568.0  650000.0  6344.0         8.0  healthy   \n13         12  2018-06-18  2568.0  650000.0  6344.0         8.0  healthy   \n14         12  2018-06-18  2568.0  650000.0  6344.0         8.0  healthy   \n16         12  2018-06-26  2568.0  650000.0  6344.0         8.0  healthy   \n17         12  2018-06-27  2568.0  650000.0  6344.0         8.0  healthy   \n20         12  2018-07-06  2568.0  650000.0  6344.0         8.0  healthy   \n22         12  2018-07-10  2568.0  650000.0  6344.0         8.0  healthy   \n23         12  2018-07-11  2568.0  650000.0  6344.0         8.0  healthy   \n24         12  2018-07-11  2568.0  650000.0  6344.0         8.0  healthy   \n25         12  2018-07-11  2568.0  650000.0  6344.0         8.0  healthy   \n27         12  2018-07-19  2568.0  650000.0  6344.0         8.0  healthy   \n28         12  2018-07-19  2568.0  650000.0  6344.0         8.0  healthy   \n29         12  2018-07-23  2568.0  650000.0  6344.0         8.0  healthy   \n30         12  2018-07-24  2568.0  650000.0  6344.0         8.0  healthy   \n31         12  2018-07-24  2568.0  650000.0  6344.0         8.0  healthy   \n32         12  2018-07-26  2568.0  650000.0  6344.0         8.0  healthy   \n33         12  2018-07-31  2568.0  650000.0  6344.0         8.0  healthy   \n34         12  2018-07-31  2568.0  650000.0  6344.0         8.0  healthy   \n35         12  2018-08-01  2568.0  650000.0  6344.0         8.0  healthy   \n36         12  2018-08-01  2568.0  650000.0  6344.0         8.0  healthy   \n37         12  2018-08-08  2568.0  650000.0  6344.0         8.0  healthy   \n38         12  2018-08-09  2568.0  650000.0  6344.0         8.0  healthy   \n40         12  2018-08-13  2568.0  650000.0  6344.0         8.0  healthy   \n41         12  2018-08-13  2568.0  650000.0  6344.0         8.0  healthy   \n42         12  2018-08-15  2568.0  650000.0  6344.0         8.0  healthy   \n43         12  2018-08-15  2568.0  650000.0  6344.0         8.0  healthy   \n46         12  2018-08-16  2568.0  650000.0  6344.0         8.0  healthy   \n60         12  2018-11-20  2568.0  650000.0  6344.0         8.0  healthy   \n61         12  2018-11-27  2568.0  650000.0  6344.0         8.0  healthy   \n64         12  2018-11-28  2568.0  650000.0  6344.0         8.0  healthy   \n65         12  2018-11-28  2568.0  650000.0  6344.0         8.0  healthy   \n74         12  2019-01-20  2568.0  650000.0  6344.0         8.0  healthy   \n76         12  2019-01-24  2568.0  650000.0  6344.0         8.0  healthy   \n77         12  2019-02-02  3056.0  400000.0  7376.0        10.0  healthy   \n78         12  2019-02-02  2568.0  650000.0  6344.0         8.0  healthy   \n79         12  2019-02-05  2568.0  650000.0  6344.0         8.0  healthy   \n92         12  2019-03-11  2568.0  650000.0  6344.0         8.0  healthy   \n93         12  2019-03-11  3056.0  400000.0  7376.0        10.0  healthy   \n96         12  2019-03-14  2568.0  650000.0  6344.0         8.0  healthy   \n97         12  2019-03-14  3056.0  400000.0  7376.0        10.0  healthy   \n102        12  2019-03-20  2568.0  650000.0  6344.0         8.0  healthy   \n103        12  2019-03-20  3056.0  400000.0  7376.0        10.0  healthy   \n155        12  2019-09-05  2568.0  650000.0  6344.0         8.0  healthy   \n156        12  2019-09-05  3056.0  400000.0  7376.0        10.0  healthy   \n163        12  2019-09-25  3056.0  400000.0  7376.0        10.0  healthy   \n164        12  2019-09-25  3056.0  400000.0  7376.0        10.0  healthy   \n\n    Patient ID  Relative scan date  Number of scan  \n9      NORM400                 0.0             1.0  \n12     NORM476                 0.0             1.0  \n13     NORM476                 0.0             1.0  \n14     NORM400                 7.0             2.0  \n16     NORM478                 0.0             1.0  \n17     NORM478                 1.0             2.0  \n20     NORM481                 0.0             1.0  \n22     NORM483                 0.0             1.0  \n23     NORM483                 1.0             2.0  \n24     NORM480                 0.0             1.0  \n25     NORM480                 0.0             1.0  \n27     Norm488                 0.0             1.0  \n28     Norm488                 0.0             1.0  \n29     NORM138                 0.0             1.0  \n30     NORM487                 0.0             1.0  \n31     NORM487                 0.0             1.0  \n32     NORM138                 3.0             2.0  \n33     NORM489                 0.0             1.0  \n34     NORM489                 0.0             1.0  \n35     NORM486                 0.0             1.0  \n36     NORM486                 0.0             1.0  \n37     NORM442                 0.0             1.0  \n38     NORM442                 1.0             2.0  \n40     NORM491                 0.0             1.0  \n41     NORM491                 0.0             1.0  \n42     Norm493                 0.0             1.0  \n43     NORM493                 0.0             1.0  \n46     NORM346                 0.0             1.0  \n60     NORM372                 0.0             1.0  \n61     NORM500                 0.0             1.0  \n64     NORM360                 0.0             1.0  \n65     NORM355                 0.0             1.0  \n74     NORM352                 0.0             1.0  \n76     NORM370                 0.0             1.0  \n77     NORM602                 0.0             1.0  \n78     NORM345                 0.0             1.0  \n79     NORM380                 0.0             1.0  \n92     NORM138               231.0             3.0  \n93     NORM138               231.0             3.0  \n96     NORM138               234.0             4.0  \n97     NORM138               234.0             4.0  \n102    NORM138               240.0             5.0  \n103    NORM138               240.0             5.0  \n155    NORM101                 0.0             1.0  \n156    NORM101                 0.0             1.0  \n163    NORM710                 0.0             1.0  \n164    NORM709                 0.0             1.0  ",
      "text/html": "<div>\n<style scoped>\n    .dataframe tbody tr th:only-of-type {\n        vertical-align: middle;\n    }\n\n    .dataframe tbody tr th {\n        vertical-align: top;\n    }\n\n    .dataframe thead th {\n        text-align: right;\n    }\n</style>\n<table border=\"1\" class=\"dataframe\">\n  <thead>\n    <tr style=\"text-align: right;\">\n      <th></th>\n      <th>Relative path</th>\n      <th>File name</th>\n      <th>Image X res</th>\n      <th>Image Y res</th>\n      <th>k space X res</th>\n      <th>k space Y res</th>\n      <th>Phases</th>\n      <th>Slices</th>\n      <th>Echos</th>\n      <th>Channels</th>\n      <th>Scan date</th>\n      <th>TE</th>\n      <th>TI</th>\n      <th>TR</th>\n      <th>Flip angle</th>\n      <th>Type</th>\n      <th>Patient ID</th>\n      <th>Relative scan date</th>\n      <th>Number of scan</th>\n    </tr>\n  </thead>\n  <tbody>\n    <tr>\n      <th>9</th>\n      <td>datasets/Dataset_C2/12_channel/Train</td>\n      <td>e14089s3_P53248</td>\n      <td>256</td>\n      <td>256</td>\n      <td>256</td>\n      <td>218</td>\n      <td>1</td>\n      <td>170</td>\n      <td>1</td>\n      <td>12</td>\n      <td>2018-06-11</td>\n      <td>2568.0</td>\n      <td>650000.0</td>\n      <td>6344.0</td>\n      <td>8.0</td>\n      <td>healthy</td>\n      <td>NORM400</td>\n      <td>0.0</td>\n      <td>1.0</td>\n    </tr>\n    <tr>\n      <th>12</th>\n      <td>datasets/Dataset_C2/12_channel/Train</td>\n      <td>e14134s3_P06656</td>\n      <td>256</td>\n      <td>256</td>\n      <td>256</td>\n      <td>218</td>\n      <td>1</td>\n      <td>170</td>\n      <td>1</td>\n      <td>12</td>\n      <td>2018-06-18</td>\n      <td>2568.0</td>\n      <td>650000.0</td>\n      <td>6344.0</td>\n      <td>8.0</td>\n      <td>healthy</td>\n      <td>NORM476</td>\n      <td>0.0</td>\n      <td>1.0</td>\n    </tr>\n    <tr>\n      <th>13</th>\n      <td>datasets/Dataset_C2/12_channel/Train</td>\n      <td>e14141s3_P58880</td>\n      <td>256</td>\n      <td>256</td>\n      <td>256</td>\n      <td>218</td>\n      <td>1</td>\n      <td>170</td>\n      <td>1</td>\n      <td>12</td>\n      <td>2018-06-18</td>\n      <td>2568.0</td>\n      <td>650000.0</td>\n      <td>6344.0</td>\n      <td>8.0</td>\n      <td>healthy</td>\n      <td>NORM476</td>\n      <td>0.0</td>\n      <td>1.0</td>\n    </tr>\n    <tr>\n      <th>14</th>\n      <td>datasets/Dataset_C2/12_channel/Train</td>\n      <td>e14140s3_P52224</td>\n      <td>256</td>\n      <td>256</td>\n      <td>256</td>\n      <td>218</td>\n      <td>1</td>\n      <td>170</td>\n      <td>1</td>\n      <td>12</td>\n      <td>2018-06-18</td>\n      <td>2568.0</td>\n      <td>650000.0</td>\n      <td>6344.0</td>\n      <td>8.0</td>\n      <td>healthy</td>\n      <td>NORM400</td>\n      <td>7.0</td>\n      <td>2.0</td>\n    </tr>\n    <tr>\n      <th>16</th>\n      <td>datasets/Dataset_C2/12_channel/Train</td>\n      <td>e14191s3_P58368</td>\n      <td>256</td>\n      <td>256</td>\n      <td>256</td>\n      <td>218</td>\n      <td>1</td>\n      <td>170</td>\n      <td>1</td>\n      <td>12</td>\n      <td>2018-06-26</td>\n      <td>2568.0</td>\n      <td>650000.0</td>\n      <td>6344.0</td>\n      <td>8.0</td>\n      <td>healthy</td>\n      <td>NORM478</td>\n      <td>0.0</td>\n      <td>1.0</td>\n    </tr>\n    <tr>\n      <th>17</th>\n      <td>datasets/Dataset_C2/12_channel/Train</td>\n      <td>e14195s3_P03584</td>\n      <td>256</td>\n      <td>256</td>\n      <td>256</td>\n      <td>218</td>\n      <td>1</td>\n      <td>170</td>\n      <td>1</td>\n      <td>12</td>\n      <td>2018-06-27</td>\n      <td>2568.0</td>\n      <td>650000.0</td>\n      <td>6344.0</td>\n      <td>8.0</td>\n      <td>healthy</td>\n      <td>NORM478</td>\n      <td>1.0</td>\n      <td>2.0</td>\n    </tr>\n    <tr>\n      <th>20</th>\n      <td>datasets/Dataset_C2/12_channel/Train</td>\n      <td>e14268s3_P26112</td>\n      <td>256</td>\n      <td>256</td>\n      <td>256</td>\n      <td>218</td>\n      <td>1</td>\n      <td>170</td>\n      <td>1</td>\n      <td>12</td>\n      <td>2018-07-06</td>\n      <td>2568.0</td>\n      <td>650000.0</td>\n      <td>6344.0</td>\n      <td>8.0</td>\n      <td>healthy</td>\n      <td>NORM481</td>\n      <td>0.0</td>\n      <td>1.0</td>\n    </tr>\n    <tr>\n      <th>22</th>\n      <td>datasets/Dataset_C2/12_channel/Train</td>\n      <td>e14292s3_P85504</td>\n      <td>256</td>\n      <td>256</td>\n      <td>256</td>\n      <td>218</td>\n      <td>1</td>\n      <td>170</td>\n      <td>1</td>\n      <td>12</td>\n      <td>2018-07-10</td>\n      <td>2568.0</td>\n      <td>650000.0</td>\n      <td>6344.0</td>\n      <td>8.0</td>\n      <td>healthy</td>\n      <td>NORM483</td>\n      <td>0.0</td>\n      <td>1.0</td>\n    </tr>\n    <tr>\n      <th>23</th>\n      <td>datasets/Dataset_C2/12_channel/Train</td>\n      <td>e14302s3_P52224</td>\n      <td>256</td>\n      <td>256</td>\n      <td>256</td>\n      <td>218</td>\n      <td>1</td>\n      <td>170</td>\n      <td>1</td>\n      <td>12</td>\n      <td>2018-07-11</td>\n      <td>2568.0</td>\n      <td>650000.0</td>\n      <td>6344.0</td>\n      <td>8.0</td>\n      <td>healthy</td>\n      <td>NORM483</td>\n      <td>1.0</td>\n      <td>2.0</td>\n    </tr>\n    <tr>\n      <th>24</th>\n      <td>datasets/Dataset_C2/12_channel/Train</td>\n      <td>e14304s3_P64000</td>\n      <td>256</td>\n      <td>256</td>\n      <td>256</td>\n      <td>218</td>\n      <td>1</td>\n      <td>170</td>\n      <td>1</td>\n      <td>12</td>\n      <td>2018-07-11</td>\n      <td>2568.0</td>\n      <td>650000.0</td>\n      <td>6344.0</td>\n      <td>8.0</td>\n      <td>healthy</td>\n      <td>NORM480</td>\n      <td>0.0</td>\n      <td>1.0</td>\n    </tr>\n    <tr>\n      <th>25</th>\n      <td>datasets/Dataset_C2/12_channel/Train</td>\n      <td>e14296s4_P09216</td>\n      <td>256</td>\n      <td>256</td>\n      <td>256</td>\n      <td>218</td>\n      <td>1</td>\n      <td>170</td>\n      <td>1</td>\n      <td>12</td>\n      <td>2018-07-11</td>\n      <td>2568.0</td>\n      <td>650000.0</td>\n      <td>6344.0</td>\n      <td>8.0</td>\n      <td>healthy</td>\n      <td>NORM480</td>\n      <td>0.0</td>\n      <td>1.0</td>\n    </tr>\n    <tr>\n      <th>27</th>\n      <td>datasets/Dataset_C2/12_channel/Train</td>\n      <td>e14351s3_P29184</td>\n      <td>256</td>\n      <td>256</td>\n      <td>256</td>\n      <td>218</td>\n      <td>1</td>\n      <td>170</td>\n      <td>1</td>\n      <td>12</td>\n      <td>2018-07-19</td>\n      <td>2568.0</td>\n      <td>650000.0</td>\n      <td>6344.0</td>\n      <td>8.0</td>\n      <td>healthy</td>\n      <td>Norm488</td>\n      <td>0.0</td>\n      <td>1.0</td>\n    </tr>\n    <tr>\n      <th>28</th>\n      <td>datasets/Dataset_C2/12_channel/Train</td>\n      <td>e14352s3_P35840</td>\n      <td>256</td>\n      <td>256</td>\n      <td>256</td>\n      <td>218</td>\n      <td>1</td>\n      <td>170</td>\n      <td>1</td>\n      <td>12</td>\n      <td>2018-07-19</td>\n      <td>2568.0</td>\n      <td>650000.0</td>\n      <td>6344.0</td>\n      <td>8.0</td>\n      <td>healthy</td>\n      <td>Norm488</td>\n      <td>0.0</td>\n      <td>1.0</td>\n    </tr>\n    <tr>\n      <th>29</th>\n      <td>datasets/Dataset_C2/12_channel/Train</td>\n      <td>e14369s5_P40960</td>\n      <td>256</td>\n      <td>256</td>\n      <td>256</td>\n      <td>218</td>\n      <td>1</td>\n      <td>170</td>\n      <td>1</td>\n      <td>12</td>\n      <td>2018-07-23</td>\n      <td>2568.0</td>\n      <td>650000.0</td>\n      <td>6344.0</td>\n      <td>8.0</td>\n      <td>healthy</td>\n      <td>NORM138</td>\n      <td>0.0</td>\n      <td>1.0</td>\n    </tr>\n    <tr>\n      <th>30</th>\n      <td>datasets/Dataset_C2/12_channel/Train</td>\n      <td>e14378s5_P40448</td>\n      <td>256</td>\n      <td>256</td>\n      <td>256</td>\n      <td>218</td>\n      <td>1</td>\n      <td>170</td>\n      <td>1</td>\n      <td>12</td>\n      <td>2018-07-24</td>\n      <td>2568.0</td>\n      <td>650000.0</td>\n      <td>6344.0</td>\n      <td>8.0</td>\n      <td>healthy</td>\n      <td>NORM487</td>\n      <td>0.0</td>\n      <td>1.0</td>\n    </tr>\n    <tr>\n      <th>31</th>\n      <td>datasets/Dataset_C2/12_channel/Train</td>\n      <td>e14377s6_P33280</td>\n      <td>256</td>\n      <td>256</td>\n      <td>256</td>\n      <td>218</td>\n      <td>1</td>\n      <td>170</td>\n      <td>1</td>\n      <td>12</td>\n      <td>2018-07-24</td>\n      <td>2568.0</td>\n      <td>650000.0</td>\n      <td>6344.0</td>\n      <td>8.0</td>\n      <td>healthy</td>\n      <td>NORM487</td>\n      <td>0.0</td>\n      <td>1.0</td>\n    </tr>\n    <tr>\n      <th>32</th>\n      <td>datasets/Dataset_C2/12_channel/Train</td>\n      <td>e14396s3_P52224</td>\n      <td>256</td>\n      <td>256</td>\n      <td>256</td>\n      <td>218</td>\n      <td>1</td>\n      <td>170</td>\n      <td>1</td>\n      <td>12</td>\n      <td>2018-07-26</td>\n      <td>2568.0</td>\n      <td>650000.0</td>\n      <td>6344.0</td>\n      <td>8.0</td>\n      <td>healthy</td>\n      <td>NORM138</td>\n      <td>3.0</td>\n      <td>2.0</td>\n    </tr>\n    <tr>\n      <th>33</th>\n      <td>datasets/Dataset_C2/12_channel/Train</td>\n      <td>e14423s3_P29696</td>\n      <td>256</td>\n      <td>256</td>\n      <td>256</td>\n      <td>218</td>\n      <td>1</td>\n      <td>170</td>\n      <td>1</td>\n      <td>12</td>\n      <td>2018-07-31</td>\n      <td>2568.0</td>\n      <td>650000.0</td>\n      <td>6344.0</td>\n      <td>8.0</td>\n      <td>healthy</td>\n      <td>NORM489</td>\n      <td>0.0</td>\n      <td>1.0</td>\n    </tr>\n    <tr>\n      <th>34</th>\n      <td>datasets/Dataset_C2/12_channel/Train</td>\n      <td>e14427s3_P76288</td>\n      <td>256</td>\n      <td>256</td>\n      <td>256</td>\n      <td>218</td>\n      <td>1</td>\n      <td>170</td>\n      <td>1</td>\n      <td>12</td>\n      <td>2018-07-31</td>\n      <td>2568.0</td>\n      <td>650000.0</td>\n      <td>6344.0</td>\n      <td>8.0</td>\n      <td>healthy</td>\n      <td>NORM489</td>\n      <td>0.0</td>\n      <td>1.0</td>\n    </tr>\n    <tr>\n      <th>35</th>\n      <td>datasets/Dataset_C2/12_channel/Train</td>\n      <td>e14441s5_P76800</td>\n      <td>256</td>\n      <td>256</td>\n      <td>256</td>\n      <td>218</td>\n      <td>1</td>\n      <td>170</td>\n      <td>1</td>\n      <td>12</td>\n      <td>2018-08-01</td>\n      <td>2568.0</td>\n      <td>650000.0</td>\n      <td>6344.0</td>\n      <td>8.0</td>\n      <td>healthy</td>\n      <td>NORM486</td>\n      <td>0.0</td>\n      <td>1.0</td>\n    </tr>\n    <tr>\n      <th>36</th>\n      <td>datasets/Dataset_C2/12_channel/Train</td>\n      <td>e14437s5_P49152</td>\n      <td>256</td>\n      <td>256</td>\n      <td>256</td>\n      <td>218</td>\n      <td>1</td>\n      <td>170</td>\n      <td>1</td>\n      <td>12</td>\n      <td>2018-08-01</td>\n      <td>2568.0</td>\n      <td>650000.0</td>\n      <td>6344.0</td>\n      <td>8.0</td>\n      <td>healthy</td>\n      <td>NORM486</td>\n      <td>0.0</td>\n      <td>1.0</td>\n    </tr>\n    <tr>\n      <th>37</th>\n      <td>datasets/Dataset_C2/12_channel/Train</td>\n      <td>e14477s5_P34816</td>\n      <td>256</td>\n      <td>256</td>\n      <td>256</td>\n      <td>218</td>\n      <td>1</td>\n      <td>170</td>\n      <td>1</td>\n      <td>12</td>\n      <td>2018-08-08</td>\n      <td>2568.0</td>\n      <td>650000.0</td>\n      <td>6344.0</td>\n      <td>8.0</td>\n      <td>healthy</td>\n      <td>NORM442</td>\n      <td>0.0</td>\n      <td>1.0</td>\n    </tr>\n    <tr>\n      <th>38</th>\n      <td>datasets/Dataset_C2/12_channel/Train</td>\n      <td>e14487s5_P47616</td>\n      <td>256</td>\n      <td>256</td>\n      <td>256</td>\n      <td>218</td>\n      <td>1</td>\n      <td>170</td>\n      <td>1</td>\n      <td>12</td>\n      <td>2018-08-09</td>\n      <td>2568.0</td>\n      <td>650000.0</td>\n      <td>6344.0</td>\n      <td>8.0</td>\n      <td>healthy</td>\n      <td>NORM442</td>\n      <td>1.0</td>\n      <td>2.0</td>\n    </tr>\n    <tr>\n      <th>40</th>\n      <td>datasets/Dataset_C2/12_channel/Train</td>\n      <td>e14508s5_P48128</td>\n      <td>256</td>\n      <td>256</td>\n      <td>256</td>\n      <td>218</td>\n      <td>1</td>\n      <td>170</td>\n      <td>1</td>\n      <td>12</td>\n      <td>2018-08-13</td>\n      <td>2568.0</td>\n      <td>650000.0</td>\n      <td>6344.0</td>\n      <td>8.0</td>\n      <td>healthy</td>\n      <td>NORM491</td>\n      <td>0.0</td>\n      <td>1.0</td>\n    </tr>\n    <tr>\n      <th>41</th>\n      <td>datasets/Dataset_C2/12_channel/Train</td>\n      <td>e14507s5_P41472</td>\n      <td>256</td>\n      <td>256</td>\n      <td>256</td>\n      <td>218</td>\n      <td>1</td>\n      <td>170</td>\n      <td>1</td>\n      <td>12</td>\n      <td>2018-08-13</td>\n      <td>2568.0</td>\n      <td>650000.0</td>\n      <td>6344.0</td>\n      <td>8.0</td>\n      <td>healthy</td>\n      <td>NORM491</td>\n      <td>0.0</td>\n      <td>1.0</td>\n    </tr>\n    <tr>\n      <th>42</th>\n      <td>datasets/Dataset_C2/12_channel/Train</td>\n      <td>e14530s5_P60416</td>\n      <td>256</td>\n      <td>256</td>\n      <td>256</td>\n      <td>218</td>\n      <td>1</td>\n      <td>170</td>\n      <td>1</td>\n      <td>12</td>\n      <td>2018-08-15</td>\n      <td>2568.0</td>\n      <td>650000.0</td>\n      <td>6344.0</td>\n      <td>8.0</td>\n      <td>healthy</td>\n      <td>Norm493</td>\n      <td>0.0</td>\n      <td>1.0</td>\n    </tr>\n    <tr>\n      <th>43</th>\n      <td>datasets/Dataset_C2/12_channel/Train</td>\n      <td>e14532s5_P74752</td>\n      <td>256</td>\n      <td>256</td>\n      <td>256</td>\n      <td>218</td>\n      <td>1</td>\n      <td>170</td>\n      <td>1</td>\n      <td>12</td>\n      <td>2018-08-15</td>\n      <td>2568.0</td>\n      <td>650000.0</td>\n      <td>6344.0</td>\n      <td>8.0</td>\n      <td>healthy</td>\n      <td>NORM493</td>\n      <td>0.0</td>\n      <td>1.0</td>\n    </tr>\n    <tr>\n      <th>46</th>\n      <td>datasets/Dataset_C2/12_channel/Train</td>\n      <td>e14537s3_P14336</td>\n      <td>256</td>\n      <td>256</td>\n      <td>256</td>\n      <td>218</td>\n      <td>1</td>\n      <td>170</td>\n      <td>1</td>\n      <td>12</td>\n      <td>2018-08-16</td>\n      <td>2568.0</td>\n      <td>650000.0</td>\n      <td>6344.0</td>\n      <td>8.0</td>\n      <td>healthy</td>\n      <td>NORM346</td>\n      <td>0.0</td>\n      <td>1.0</td>\n    </tr>\n    <tr>\n      <th>60</th>\n      <td>datasets/Dataset_C2/12_channel/Train</td>\n      <td>e15135s4_P48640</td>\n      <td>256</td>\n      <td>256</td>\n      <td>256</td>\n      <td>218</td>\n      <td>1</td>\n      <td>170</td>\n      <td>1</td>\n      <td>12</td>\n      <td>2018-11-20</td>\n      <td>2568.0</td>\n      <td>650000.0</td>\n      <td>6344.0</td>\n      <td>8.0</td>\n      <td>healthy</td>\n      <td>NORM372</td>\n      <td>0.0</td>\n      <td>1.0</td>\n    </tr>\n    <tr>\n      <th>61</th>\n      <td>datasets/Dataset_C2/12_channel/Train</td>\n      <td>e15184s3_P58880</td>\n      <td>256</td>\n      <td>256</td>\n      <td>256</td>\n      <td>218</td>\n      <td>1</td>\n      <td>170</td>\n      <td>1</td>\n      <td>12</td>\n      <td>2018-11-27</td>\n      <td>2568.0</td>\n      <td>650000.0</td>\n      <td>6344.0</td>\n      <td>8.0</td>\n      <td>healthy</td>\n      <td>NORM500</td>\n      <td>0.0</td>\n      <td>1.0</td>\n    </tr>\n    <tr>\n      <th>64</th>\n      <td>datasets/Dataset_C2/12_channel/Train</td>\n      <td>e15198s3_P61952</td>\n      <td>256</td>\n      <td>256</td>\n      <td>256</td>\n      <td>218</td>\n      <td>1</td>\n      <td>170</td>\n      <td>1</td>\n      <td>12</td>\n      <td>2018-11-28</td>\n      <td>2568.0</td>\n      <td>650000.0</td>\n      <td>6344.0</td>\n      <td>8.0</td>\n      <td>healthy</td>\n      <td>NORM360</td>\n      <td>0.0</td>\n      <td>1.0</td>\n    </tr>\n    <tr>\n      <th>65</th>\n      <td>datasets/Dataset_C2/12_channel/Train</td>\n      <td>e15195s3_P39424</td>\n      <td>256</td>\n      <td>256</td>\n      <td>256</td>\n      <td>218</td>\n      <td>1</td>\n      <td>170</td>\n      <td>1</td>\n      <td>12</td>\n      <td>2018-11-28</td>\n      <td>2568.0</td>\n      <td>650000.0</td>\n      <td>6344.0</td>\n      <td>8.0</td>\n      <td>healthy</td>\n      <td>NORM355</td>\n      <td>0.0</td>\n      <td>1.0</td>\n    </tr>\n    <tr>\n      <th>74</th>\n      <td>datasets/Dataset_C2/12_channel/Train</td>\n      <td>e15494s3_P24064</td>\n      <td>256</td>\n      <td>256</td>\n      <td>256</td>\n      <td>218</td>\n      <td>1</td>\n      <td>170</td>\n      <td>1</td>\n      <td>12</td>\n      <td>2019-01-20</td>\n      <td>2568.0</td>\n      <td>650000.0</td>\n      <td>6344.0</td>\n      <td>8.0</td>\n      <td>healthy</td>\n      <td>NORM352</td>\n      <td>0.0</td>\n      <td>1.0</td>\n    </tr>\n    <tr>\n      <th>76</th>\n      <td>datasets/Dataset_C2/12_channel/Train</td>\n      <td>e15523s3_P52224</td>\n      <td>256</td>\n      <td>256</td>\n      <td>256</td>\n      <td>218</td>\n      <td>1</td>\n      <td>170</td>\n      <td>1</td>\n      <td>12</td>\n      <td>2019-01-24</td>\n      <td>2568.0</td>\n      <td>650000.0</td>\n      <td>6344.0</td>\n      <td>8.0</td>\n      <td>healthy</td>\n      <td>NORM370</td>\n      <td>0.0</td>\n      <td>1.0</td>\n    </tr>\n    <tr>\n      <th>77</th>\n      <td>datasets/Dataset_C2/12_channel/Train</td>\n      <td>e15578s13_P08192</td>\n      <td>256</td>\n      <td>256</td>\n      <td>256</td>\n      <td>218</td>\n      <td>1</td>\n      <td>180</td>\n      <td>1</td>\n      <td>12</td>\n      <td>2019-02-02</td>\n      <td>3056.0</td>\n      <td>400000.0</td>\n      <td>7376.0</td>\n      <td>10.0</td>\n      <td>healthy</td>\n      <td>NORM602</td>\n      <td>0.0</td>\n      <td>1.0</td>\n    </tr>\n    <tr>\n      <th>78</th>\n      <td>datasets/Dataset_C2/12_channel/Train</td>\n      <td>e15581s3_P27136</td>\n      <td>256</td>\n      <td>256</td>\n      <td>256</td>\n      <td>218</td>\n      <td>1</td>\n      <td>170</td>\n      <td>1</td>\n      <td>12</td>\n      <td>2019-02-02</td>\n      <td>2568.0</td>\n      <td>650000.0</td>\n      <td>6344.0</td>\n      <td>8.0</td>\n      <td>healthy</td>\n      <td>NORM345</td>\n      <td>0.0</td>\n      <td>1.0</td>\n    </tr>\n    <tr>\n      <th>79</th>\n      <td>datasets/Dataset_C2/12_channel/Train</td>\n      <td>e15598s3_P54784</td>\n      <td>256</td>\n      <td>256</td>\n      <td>256</td>\n      <td>218</td>\n      <td>1</td>\n      <td>170</td>\n      <td>1</td>\n      <td>12</td>\n      <td>2019-02-05</td>\n      <td>2568.0</td>\n      <td>650000.0</td>\n      <td>6344.0</td>\n      <td>8.0</td>\n      <td>healthy</td>\n      <td>NORM380</td>\n      <td>0.0</td>\n      <td>1.0</td>\n    </tr>\n    <tr>\n      <th>92</th>\n      <td>datasets/Dataset_C2/12_channel/Train</td>\n      <td>e15802s13_P50176</td>\n      <td>256</td>\n      <td>256</td>\n      <td>256</td>\n      <td>218</td>\n      <td>1</td>\n      <td>170</td>\n      <td>1</td>\n      <td>12</td>\n      <td>2019-03-11</td>\n      <td>2568.0</td>\n      <td>650000.0</td>\n      <td>6344.0</td>\n      <td>8.0</td>\n      <td>healthy</td>\n      <td>NORM138</td>\n      <td>231.0</td>\n      <td>3.0</td>\n    </tr>\n    <tr>\n      <th>93</th>\n      <td>datasets/Dataset_C2/12_channel/Train</td>\n      <td>e15802s3_P42496</td>\n      <td>256</td>\n      <td>256</td>\n      <td>256</td>\n      <td>218</td>\n      <td>1</td>\n      <td>180</td>\n      <td>1</td>\n      <td>12</td>\n      <td>2019-03-11</td>\n      <td>3056.0</td>\n      <td>400000.0</td>\n      <td>7376.0</td>\n      <td>10.0</td>\n      <td>healthy</td>\n      <td>NORM138</td>\n      <td>231.0</td>\n      <td>3.0</td>\n    </tr>\n    <tr>\n      <th>96</th>\n      <td>datasets/Dataset_C2/12_channel/Train</td>\n      <td>e15828s13_P65536</td>\n      <td>256</td>\n      <td>256</td>\n      <td>256</td>\n      <td>218</td>\n      <td>1</td>\n      <td>170</td>\n      <td>1</td>\n      <td>12</td>\n      <td>2019-03-14</td>\n      <td>2568.0</td>\n      <td>650000.0</td>\n      <td>6344.0</td>\n      <td>8.0</td>\n      <td>healthy</td>\n      <td>NORM138</td>\n      <td>234.0</td>\n      <td>4.0</td>\n    </tr>\n    <tr>\n      <th>97</th>\n      <td>datasets/Dataset_C2/12_channel/Train</td>\n      <td>e15828s3_P57856</td>\n      <td>256</td>\n      <td>256</td>\n      <td>256</td>\n      <td>218</td>\n      <td>1</td>\n      <td>180</td>\n      <td>1</td>\n      <td>12</td>\n      <td>2019-03-14</td>\n      <td>3056.0</td>\n      <td>400000.0</td>\n      <td>7376.0</td>\n      <td>10.0</td>\n      <td>healthy</td>\n      <td>NORM138</td>\n      <td>234.0</td>\n      <td>4.0</td>\n    </tr>\n    <tr>\n      <th>102</th>\n      <td>datasets/Dataset_C2/12_channel/Train</td>\n      <td>e15862s13_P40960</td>\n      <td>256</td>\n      <td>256</td>\n      <td>256</td>\n      <td>218</td>\n      <td>1</td>\n      <td>170</td>\n      <td>1</td>\n      <td>12</td>\n      <td>2019-03-20</td>\n      <td>2568.0</td>\n      <td>650000.0</td>\n      <td>6344.0</td>\n      <td>8.0</td>\n      <td>healthy</td>\n      <td>NORM138</td>\n      <td>240.0</td>\n      <td>5.0</td>\n    </tr>\n    <tr>\n      <th>103</th>\n      <td>datasets/Dataset_C2/12_channel/Train</td>\n      <td>e15862s3_P33792</td>\n      <td>256</td>\n      <td>256</td>\n      <td>256</td>\n      <td>218</td>\n      <td>1</td>\n      <td>180</td>\n      <td>1</td>\n      <td>12</td>\n      <td>2019-03-20</td>\n      <td>3056.0</td>\n      <td>400000.0</td>\n      <td>7376.0</td>\n      <td>10.0</td>\n      <td>healthy</td>\n      <td>NORM138</td>\n      <td>240.0</td>\n      <td>5.0</td>\n    </tr>\n    <tr>\n      <th>155</th>\n      <td>datasets/Dataset_C2/12_channel/Train</td>\n      <td>e16882s14_P46080</td>\n      <td>256</td>\n      <td>256</td>\n      <td>256</td>\n      <td>218</td>\n      <td>1</td>\n      <td>170</td>\n      <td>1</td>\n      <td>12</td>\n      <td>2019-09-05</td>\n      <td>2568.0</td>\n      <td>650000.0</td>\n      <td>6344.0</td>\n      <td>8.0</td>\n      <td>healthy</td>\n      <td>NORM101</td>\n      <td>0.0</td>\n      <td>1.0</td>\n    </tr>\n    <tr>\n      <th>156</th>\n      <td>datasets/Dataset_C2/12_channel/Train</td>\n      <td>e16882s4_P38912</td>\n      <td>256</td>\n      <td>256</td>\n      <td>256</td>\n      <td>218</td>\n      <td>1</td>\n      <td>180</td>\n      <td>1</td>\n      <td>12</td>\n      <td>2019-09-05</td>\n      <td>3056.0</td>\n      <td>400000.0</td>\n      <td>7376.0</td>\n      <td>10.0</td>\n      <td>healthy</td>\n      <td>NORM101</td>\n      <td>0.0</td>\n      <td>1.0</td>\n    </tr>\n    <tr>\n      <th>163</th>\n      <td>datasets/Dataset_C2/12_channel/Train</td>\n      <td>e16971s3_P23040</td>\n      <td>256</td>\n      <td>256</td>\n      <td>256</td>\n      <td>218</td>\n      <td>1</td>\n      <td>180</td>\n      <td>1</td>\n      <td>12</td>\n      <td>2019-09-25</td>\n      <td>3056.0</td>\n      <td>400000.0</td>\n      <td>7376.0</td>\n      <td>10.0</td>\n      <td>healthy</td>\n      <td>NORM710</td>\n      <td>0.0</td>\n      <td>1.0</td>\n    </tr>\n    <tr>\n      <th>164</th>\n      <td>datasets/Dataset_C2/12_channel/Train</td>\n      <td>e16972s3_P31232</td>\n      <td>256</td>\n      <td>256</td>\n      <td>256</td>\n      <td>218</td>\n      <td>1</td>\n      <td>180</td>\n      <td>1</td>\n      <td>12</td>\n      <td>2019-09-25</td>\n      <td>3056.0</td>\n      <td>400000.0</td>\n      <td>7376.0</td>\n      <td>10.0</td>\n      <td>healthy</td>\n      <td>NORM709</td>\n      <td>0.0</td>\n      <td>1.0</td>\n    </tr>\n  </tbody>\n</table>\n</div>"
     },
     "execution_count": 6,
     "metadata": {},
     "output_type": "execute_result"
    }
   ],
   "source": [
    "train"
   ],
   "metadata": {
    "collapsed": false,
    "ExecuteTime": {
     "end_time": "2024-02-08T01:28:08.110429947Z",
     "start_time": "2024-02-08T01:28:08.103024036Z"
    }
   },
   "id": "cbb1ba6e1d21048d"
  },
  {
   "cell_type": "code",
   "execution_count": 163,
   "outputs": [],
   "source": [
    "train_x = train.loc[train[\"Number of scan\"] == 1]\n",
    "train_sv = train_x[~train_x['Patient ID'].isin(train['Patient ID'][train[\"Number of scan\"] != 1])]\n",
    "train_mv = train[train['Patient ID'].isin(train['Patient ID'][train[\"Number of scan\"] != 1])]\n",
    "\n",
    "val_x = val.loc[val[\"Number of scan\"] == 1]\n",
    "val_sv = val_x[~val_x['Patient ID'].isin(val['Patient ID'][val[\"Number of scan\"] != 1])]\n",
    "val_mv = val[val['Patient ID'].isin(val['Patient ID'][val[\"Number of scan\"] != 1])]\n",
    "\n",
    "test_x = test.loc[test[\"Number of scan\"] == 1]\n",
    "test_sv = test_x[~test_x['Patient ID'].isin(test['Patient ID'][test[\"Number of scan\"] != 1])]\n",
    "test_mv = test[test['Patient ID'].isin(test['Patient ID'][test[\"Number of scan\"] != 1])]\n",
    "\n",
    "train_sv.to_csv('csvs/train_sv.csv')\n",
    "val_sv.to_csv('csvs/val_sv.csv')\n",
    "test_sv.to_csv('csvs/test_sv.csv')\n",
    "\n",
    "test_mv = pd.concat([val_mv,test_mv])\n",
    "\n",
    "train_mv.loc[data[\"Number of scan\"] == 1].drop_duplicates(subset='Patient ID').to_csv('csvs/train_mv_fv.csv')\n",
    "test_mv.loc[data[\"Number of scan\"] == 1].drop_duplicates(subset='Patient ID').to_csv('csvs/test_mv_fv.csv')\n",
    "\n",
    "train_mv.loc[data[\"Number of scan\"] != 1].to_csv('csvs/train_mv_subv.csv')\n",
    "test_mv.loc[data[\"Number of scan\"] != 1].to_csv('csvs/test_mv_subv.csv')"
   ],
   "metadata": {
    "collapsed": false,
    "ExecuteTime": {
     "end_time": "2024-01-17T18:16:15.577179500Z",
     "start_time": "2024-01-17T18:16:15.562416800Z"
    }
   },
   "id": "d24262d0243b2c6"
  },
  {
   "cell_type": "code",
   "execution_count": 164,
   "outputs": [
    {
     "data": {
      "text/plain": "'No overlap between train, validation, and test sets. The partition is correct.'"
     },
     "execution_count": 164,
     "metadata": {},
     "output_type": "execute_result"
    }
   ],
   "source": [
    "# Convert the patient IDs to sets\n",
    "train_ids = set(train_sv['Patient ID'])\n",
    "val_ids = set(val_sv['Patient ID'])\n",
    "test_ids = set(test_sv['Patient ID'])\n",
    "\n",
    "# Run the test function\n",
    "test_no_overlap(train_ids, val_ids, test_ids)"
   ],
   "metadata": {
    "collapsed": false,
    "ExecuteTime": {
     "end_time": "2024-01-17T18:16:17.110256600Z",
     "start_time": "2024-01-17T18:16:17.102826500Z"
    }
   },
   "id": "3db936ce87102aae"
  },
  {
   "cell_type": "code",
   "execution_count": 7,
   "outputs": [],
   "source": [
    "train.loc[data[\"Number of scan\"] == 1].to_csv('csvs/train_chal_fv.csv')\n",
    "val.loc[data[\"Number of scan\"] == 1].to_csv('csvs/val_chal_fv.csv')\n",
    "test.loc[data[\"Number of scan\"] == 1].to_csv('csvs/test_chal_fv.csv')"
   ],
   "metadata": {
    "collapsed": false,
    "ExecuteTime": {
     "end_time": "2024-02-08T01:29:03.544074541Z",
     "start_time": "2024-02-08T01:29:03.527859620Z"
    }
   },
   "id": "dfa770bf43a32e55"
  },
  {
   "cell_type": "code",
   "execution_count": 9,
   "outputs": [],
   "source": [
    "train.loc[data[\"Number of scan\"] != 1].to_csv('csvs/train_chal_subv.csv')\n",
    "# val.loc[data[\"Number of scan\"] != 1].to_csv('csvs/val_subv.csv')\n",
    "merged_df = pd.concat([test.loc[data[\"Number of scan\"] != 1],val.loc[data[\"Number of scan\"] != 1]])\n",
    "merged_df.to_csv('csvs/test_chal_subv.csv')"
   ],
   "metadata": {
    "collapsed": false,
    "ExecuteTime": {
     "end_time": "2024-02-08T01:31:35.706113582Z",
     "start_time": "2024-02-08T01:31:35.692232756Z"
    }
   },
   "id": "ea1cc503d43b8fa0"
  },
  {
   "cell_type": "code",
   "execution_count": 85,
   "outputs": [],
   "source": [
    "# train_mv = train[train['Patient ID'].isin(mv_patients_train.keys())]\n",
    "# train_sv = train[train['Patient ID'].isin(sv_patients_train.keys())]\n",
    "# val_mv = val[val['Patient ID'].isin(mv_patients_val.keys())]\n",
    "# val_sv = val[val['Patient ID'].isin(sv_patients_val.keys())]\n",
    "# test_mv = test[test['Patient ID'].isin(mv_patients_test.keys())]\n",
    "# test_sv = test[test['Patient ID'].isin(sv_patients_test.keys())]\n",
    "# \n",
    "# \n",
    "# new[new['Patient ID'].isin(sv_patients_train.keys())]\n",
    "# # train_sv = pd.concat([train_sv,new[new['Patient ID'].isin(sv_patients_train.keys())]])\n",
    "# # val_sv = pd.concat([train_sv,new[new['Patient ID'].isin(sv_patients_val.keys())]])\n",
    "# # test_sv = pd.concat([train_sv,new[new['Patient ID'].isin(sv_patients_test.keys())]])\n",
    "# # \n",
    "# # train_mv = pd.concat([train_mv,new[new['Patient ID'].isin(mv_patients_train.keys())]])\n",
    "# # val_mv = pd.concat([train_mv,new[new['Patient ID'].isin(mv_patients_val.keys())]])\n",
    "# # test_mv = pd.concat([train_mv,new[new['Patient ID'].isin(mv_patients_test.keys())]])\n",
    "# \n",
    "# test_mv = pd.concat([val_mv,test_mv])\n",
    "# \n",
    "# \n",
    "# train_sv.to_csv('csvs/train_sv.csv')\n",
    "# val_sv.to_csv('csvs/val_sv.csv')\n",
    "# test_sv.to_csv('csvs/test_sv.csv')\n",
    "# \n",
    "# \n",
    "# train_mv.loc[data[\"Number of scan\"] == 1].drop_duplicates(subset='Patient ID').to_csv('csvs/train_mv_fv.csv')\n",
    "# test_mv.loc[data[\"Number of scan\"] == 1].drop_duplicates(subset='Patient ID').to_csv('csvs/test_mv_fv.csv')\n",
    "# \n",
    "# train_mv.loc[data[\"Number of scan\"] != 1].to_csv('csvs/train_mv_subv.csv')\n",
    "# test_mv.loc[data[\"Number of scan\"] != 1].to_csv('csvs/test_mv_subv.csv')\n",
    "# \n",
    "# # train_mv.to_csv('csvs/train_mv.csv')\n",
    "# # val_mv.to_csv('csvs/val_mv.csv')\n",
    "# # test_mv.to_csv('csvs/test_mv.csv')"
   ],
   "metadata": {
    "collapsed": false,
    "ExecuteTime": {
     "end_time": "2024-01-17T17:21:43.344839400Z",
     "start_time": "2024-01-17T17:21:43.338272Z"
    }
   },
   "id": "4291cfbff49dbef1"
  },
  {
   "cell_type": "code",
   "execution_count": 68,
   "outputs": [
    {
     "data": {
      "text/plain": "                          Relative path        File name  Image X res  \\\n319  datasets/Dataset_C2/12_channel/new  e19850s3_P09728          256   \n320  datasets/Dataset_C2/12_channel/new  e19861s3_P16384          256   \n321  datasets/Dataset_C2/12_channel/new  e19864s3_P17408          256   \n322  datasets/Dataset_C2/12_channel/new  e19869s3_P60928          256   \n323  datasets/Dataset_C2/12_channel/new  e19870s3_P70656          256   \n324  datasets/Dataset_C2/12_channel/new  e19890s3_P36352          256   \n326  datasets/Dataset_C2/12_channel/new  e19928s3_P17408          256   \n327  datasets/Dataset_C2/12_channel/new  e19933s5_P59904          256   \n328  datasets/Dataset_C2/12_channel/new  e19932s3_P49664          256   \n329  datasets/Dataset_C2/12_channel/new  e19961s3_P20480          256   \n330  datasets/Dataset_C2/12_channel/new  e19963s3_P39936          256   \n331  datasets/Dataset_C2/12_channel/new  e19967s4_P16896          256   \n332  datasets/Dataset_C2/12_channel/new  e19977s3_P37888          256   \n333  datasets/Dataset_C2/12_channel/new  e19994s3_P54784          256   \n334  datasets/Dataset_C2/12_channel/new  e19993s9_P50176          256   \n335  datasets/Dataset_C2/12_channel/new  e20039s3_P33792          256   \n336  datasets/Dataset_C2/12_channel/new  e20059s3_P51200          256   \n337  datasets/Dataset_C2/12_channel/new  e20060s3_P59904          256   \n\n     Image Y res  k space X res  k space Y res  Phases  Slices  Echos  \\\n319          256            256            218       1     170      1   \n320          256            256            218       1     170      1   \n321          256            256            218       1     170      1   \n322          256            256            218       1     170      1   \n323          256            256            218       1     170      1   \n324          256            256            218       1     170      1   \n326          256            256            218       1     170      1   \n327          256            256            218       1     170      1   \n328          256            256            218       1     170      1   \n329          256            256            218       1     170      1   \n330          256            256            218       1     170      1   \n331          256            256            218       1     170      1   \n332          256            256            218       1     170      1   \n333          256            256            218       1     170      1   \n334          256            256            218       1     170      1   \n335          256            256            218       1     170      1   \n336          256            256            218       1     170      1   \n337          256            256            218       1     170      1   \n\n     Channels   Scan date      TE        TI      TR  Flip angle     Type  \\\n319        12  2022-03-17  2584.0  650000.0  6380.0         8.0  healthy   \n320        12  2022-03-21  2584.0  650000.0  6380.0         8.0  healthy   \n321        12  2022-03-22  2584.0  650000.0  6380.0         8.0  healthy   \n322        12  2022-03-23  2584.0  650000.0  6380.0         8.0  healthy   \n323        12  2022-03-23  2584.0  650000.0  6380.0         8.0  healthy   \n324        12  2022-03-28  2584.0  650000.0  6380.0         8.0  healthy   \n326        12  2022-04-06  2584.0  650000.0  6380.0         8.0  healthy   \n327        12  2022-04-07  2584.0  650000.0  6380.0         8.0  healthy   \n328        12  2022-04-07  2584.0  650000.0  6380.0         8.0  healthy   \n329        12  2022-04-13  2584.0  650000.0  6380.0         8.0  healthy   \n330        12  2022-04-13  2584.0  650000.0  6380.0         8.0  healthy   \n331        12  2022-04-14  2584.0  650000.0  6380.0         8.0  healthy   \n332        12  2022-04-18  2584.0  650000.0  6380.0         8.0  healthy   \n333        12  2022-04-21  2584.0  650000.0  6380.0         8.0  healthy   \n334        12  2022-04-21  2584.0  650000.0  6380.0         8.0  healthy   \n335        12  2022-05-03  2584.0  650000.0  6380.0         8.0  healthy   \n336        12  2022-05-05  2584.0  650000.0  6380.0         8.0  healthy   \n337        12  2022-05-05  2584.0  650000.0  6380.0         8.0  healthy   \n\n    Patient ID  Relative scan date  Number of scan  \n319    NORM414                 0.0             1.0  \n320    NORM406                 0.0             1.0  \n321    NORM422                 0.0             1.0  \n322    NORM438                 0.0             1.0  \n323    NORM410                 0.0             1.0  \n324    NORM424                 0.0             1.0  \n326    NORM426                 0.0             1.0  \n327    NORM441                 0.0             1.0  \n328    NORM421                 0.0             1.0  \n329    NORM411                 0.0             1.0  \n330    NORM404                 0.0             1.0  \n331    NORM435                 0.0             1.0  \n332    NROM405                 0.0             1.0  \n333    NORM448                 0.0             1.0  \n334    NORM440                 0.0             1.0  \n335    NORM423                 0.0             1.0  \n336    NORM446                 0.0             1.0  \n337    NORM444                 0.0             1.0  ",
      "text/html": "<div>\n<style scoped>\n    .dataframe tbody tr th:only-of-type {\n        vertical-align: middle;\n    }\n\n    .dataframe tbody tr th {\n        vertical-align: top;\n    }\n\n    .dataframe thead th {\n        text-align: right;\n    }\n</style>\n<table border=\"1\" class=\"dataframe\">\n  <thead>\n    <tr style=\"text-align: right;\">\n      <th></th>\n      <th>Relative path</th>\n      <th>File name</th>\n      <th>Image X res</th>\n      <th>Image Y res</th>\n      <th>k space X res</th>\n      <th>k space Y res</th>\n      <th>Phases</th>\n      <th>Slices</th>\n      <th>Echos</th>\n      <th>Channels</th>\n      <th>Scan date</th>\n      <th>TE</th>\n      <th>TI</th>\n      <th>TR</th>\n      <th>Flip angle</th>\n      <th>Type</th>\n      <th>Patient ID</th>\n      <th>Relative scan date</th>\n      <th>Number of scan</th>\n    </tr>\n  </thead>\n  <tbody>\n    <tr>\n      <th>319</th>\n      <td>datasets/Dataset_C2/12_channel/new</td>\n      <td>e19850s3_P09728</td>\n      <td>256</td>\n      <td>256</td>\n      <td>256</td>\n      <td>218</td>\n      <td>1</td>\n      <td>170</td>\n      <td>1</td>\n      <td>12</td>\n      <td>2022-03-17</td>\n      <td>2584.0</td>\n      <td>650000.0</td>\n      <td>6380.0</td>\n      <td>8.0</td>\n      <td>healthy</td>\n      <td>NORM414</td>\n      <td>0.0</td>\n      <td>1.0</td>\n    </tr>\n    <tr>\n      <th>320</th>\n      <td>datasets/Dataset_C2/12_channel/new</td>\n      <td>e19861s3_P16384</td>\n      <td>256</td>\n      <td>256</td>\n      <td>256</td>\n      <td>218</td>\n      <td>1</td>\n      <td>170</td>\n      <td>1</td>\n      <td>12</td>\n      <td>2022-03-21</td>\n      <td>2584.0</td>\n      <td>650000.0</td>\n      <td>6380.0</td>\n      <td>8.0</td>\n      <td>healthy</td>\n      <td>NORM406</td>\n      <td>0.0</td>\n      <td>1.0</td>\n    </tr>\n    <tr>\n      <th>321</th>\n      <td>datasets/Dataset_C2/12_channel/new</td>\n      <td>e19864s3_P17408</td>\n      <td>256</td>\n      <td>256</td>\n      <td>256</td>\n      <td>218</td>\n      <td>1</td>\n      <td>170</td>\n      <td>1</td>\n      <td>12</td>\n      <td>2022-03-22</td>\n      <td>2584.0</td>\n      <td>650000.0</td>\n      <td>6380.0</td>\n      <td>8.0</td>\n      <td>healthy</td>\n      <td>NORM422</td>\n      <td>0.0</td>\n      <td>1.0</td>\n    </tr>\n    <tr>\n      <th>322</th>\n      <td>datasets/Dataset_C2/12_channel/new</td>\n      <td>e19869s3_P60928</td>\n      <td>256</td>\n      <td>256</td>\n      <td>256</td>\n      <td>218</td>\n      <td>1</td>\n      <td>170</td>\n      <td>1</td>\n      <td>12</td>\n      <td>2022-03-23</td>\n      <td>2584.0</td>\n      <td>650000.0</td>\n      <td>6380.0</td>\n      <td>8.0</td>\n      <td>healthy</td>\n      <td>NORM438</td>\n      <td>0.0</td>\n      <td>1.0</td>\n    </tr>\n    <tr>\n      <th>323</th>\n      <td>datasets/Dataset_C2/12_channel/new</td>\n      <td>e19870s3_P70656</td>\n      <td>256</td>\n      <td>256</td>\n      <td>256</td>\n      <td>218</td>\n      <td>1</td>\n      <td>170</td>\n      <td>1</td>\n      <td>12</td>\n      <td>2022-03-23</td>\n      <td>2584.0</td>\n      <td>650000.0</td>\n      <td>6380.0</td>\n      <td>8.0</td>\n      <td>healthy</td>\n      <td>NORM410</td>\n      <td>0.0</td>\n      <td>1.0</td>\n    </tr>\n    <tr>\n      <th>324</th>\n      <td>datasets/Dataset_C2/12_channel/new</td>\n      <td>e19890s3_P36352</td>\n      <td>256</td>\n      <td>256</td>\n      <td>256</td>\n      <td>218</td>\n      <td>1</td>\n      <td>170</td>\n      <td>1</td>\n      <td>12</td>\n      <td>2022-03-28</td>\n      <td>2584.0</td>\n      <td>650000.0</td>\n      <td>6380.0</td>\n      <td>8.0</td>\n      <td>healthy</td>\n      <td>NORM424</td>\n      <td>0.0</td>\n      <td>1.0</td>\n    </tr>\n    <tr>\n      <th>326</th>\n      <td>datasets/Dataset_C2/12_channel/new</td>\n      <td>e19928s3_P17408</td>\n      <td>256</td>\n      <td>256</td>\n      <td>256</td>\n      <td>218</td>\n      <td>1</td>\n      <td>170</td>\n      <td>1</td>\n      <td>12</td>\n      <td>2022-04-06</td>\n      <td>2584.0</td>\n      <td>650000.0</td>\n      <td>6380.0</td>\n      <td>8.0</td>\n      <td>healthy</td>\n      <td>NORM426</td>\n      <td>0.0</td>\n      <td>1.0</td>\n    </tr>\n    <tr>\n      <th>327</th>\n      <td>datasets/Dataset_C2/12_channel/new</td>\n      <td>e19933s5_P59904</td>\n      <td>256</td>\n      <td>256</td>\n      <td>256</td>\n      <td>218</td>\n      <td>1</td>\n      <td>170</td>\n      <td>1</td>\n      <td>12</td>\n      <td>2022-04-07</td>\n      <td>2584.0</td>\n      <td>650000.0</td>\n      <td>6380.0</td>\n      <td>8.0</td>\n      <td>healthy</td>\n      <td>NORM441</td>\n      <td>0.0</td>\n      <td>1.0</td>\n    </tr>\n    <tr>\n      <th>328</th>\n      <td>datasets/Dataset_C2/12_channel/new</td>\n      <td>e19932s3_P49664</td>\n      <td>256</td>\n      <td>256</td>\n      <td>256</td>\n      <td>218</td>\n      <td>1</td>\n      <td>170</td>\n      <td>1</td>\n      <td>12</td>\n      <td>2022-04-07</td>\n      <td>2584.0</td>\n      <td>650000.0</td>\n      <td>6380.0</td>\n      <td>8.0</td>\n      <td>healthy</td>\n      <td>NORM421</td>\n      <td>0.0</td>\n      <td>1.0</td>\n    </tr>\n    <tr>\n      <th>329</th>\n      <td>datasets/Dataset_C2/12_channel/new</td>\n      <td>e19961s3_P20480</td>\n      <td>256</td>\n      <td>256</td>\n      <td>256</td>\n      <td>218</td>\n      <td>1</td>\n      <td>170</td>\n      <td>1</td>\n      <td>12</td>\n      <td>2022-04-13</td>\n      <td>2584.0</td>\n      <td>650000.0</td>\n      <td>6380.0</td>\n      <td>8.0</td>\n      <td>healthy</td>\n      <td>NORM411</td>\n      <td>0.0</td>\n      <td>1.0</td>\n    </tr>\n    <tr>\n      <th>330</th>\n      <td>datasets/Dataset_C2/12_channel/new</td>\n      <td>e19963s3_P39936</td>\n      <td>256</td>\n      <td>256</td>\n      <td>256</td>\n      <td>218</td>\n      <td>1</td>\n      <td>170</td>\n      <td>1</td>\n      <td>12</td>\n      <td>2022-04-13</td>\n      <td>2584.0</td>\n      <td>650000.0</td>\n      <td>6380.0</td>\n      <td>8.0</td>\n      <td>healthy</td>\n      <td>NORM404</td>\n      <td>0.0</td>\n      <td>1.0</td>\n    </tr>\n    <tr>\n      <th>331</th>\n      <td>datasets/Dataset_C2/12_channel/new</td>\n      <td>e19967s4_P16896</td>\n      <td>256</td>\n      <td>256</td>\n      <td>256</td>\n      <td>218</td>\n      <td>1</td>\n      <td>170</td>\n      <td>1</td>\n      <td>12</td>\n      <td>2022-04-14</td>\n      <td>2584.0</td>\n      <td>650000.0</td>\n      <td>6380.0</td>\n      <td>8.0</td>\n      <td>healthy</td>\n      <td>NORM435</td>\n      <td>0.0</td>\n      <td>1.0</td>\n    </tr>\n    <tr>\n      <th>332</th>\n      <td>datasets/Dataset_C2/12_channel/new</td>\n      <td>e19977s3_P37888</td>\n      <td>256</td>\n      <td>256</td>\n      <td>256</td>\n      <td>218</td>\n      <td>1</td>\n      <td>170</td>\n      <td>1</td>\n      <td>12</td>\n      <td>2022-04-18</td>\n      <td>2584.0</td>\n      <td>650000.0</td>\n      <td>6380.0</td>\n      <td>8.0</td>\n      <td>healthy</td>\n      <td>NROM405</td>\n      <td>0.0</td>\n      <td>1.0</td>\n    </tr>\n    <tr>\n      <th>333</th>\n      <td>datasets/Dataset_C2/12_channel/new</td>\n      <td>e19994s3_P54784</td>\n      <td>256</td>\n      <td>256</td>\n      <td>256</td>\n      <td>218</td>\n      <td>1</td>\n      <td>170</td>\n      <td>1</td>\n      <td>12</td>\n      <td>2022-04-21</td>\n      <td>2584.0</td>\n      <td>650000.0</td>\n      <td>6380.0</td>\n      <td>8.0</td>\n      <td>healthy</td>\n      <td>NORM448</td>\n      <td>0.0</td>\n      <td>1.0</td>\n    </tr>\n    <tr>\n      <th>334</th>\n      <td>datasets/Dataset_C2/12_channel/new</td>\n      <td>e19993s9_P50176</td>\n      <td>256</td>\n      <td>256</td>\n      <td>256</td>\n      <td>218</td>\n      <td>1</td>\n      <td>170</td>\n      <td>1</td>\n      <td>12</td>\n      <td>2022-04-21</td>\n      <td>2584.0</td>\n      <td>650000.0</td>\n      <td>6380.0</td>\n      <td>8.0</td>\n      <td>healthy</td>\n      <td>NORM440</td>\n      <td>0.0</td>\n      <td>1.0</td>\n    </tr>\n    <tr>\n      <th>335</th>\n      <td>datasets/Dataset_C2/12_channel/new</td>\n      <td>e20039s3_P33792</td>\n      <td>256</td>\n      <td>256</td>\n      <td>256</td>\n      <td>218</td>\n      <td>1</td>\n      <td>170</td>\n      <td>1</td>\n      <td>12</td>\n      <td>2022-05-03</td>\n      <td>2584.0</td>\n      <td>650000.0</td>\n      <td>6380.0</td>\n      <td>8.0</td>\n      <td>healthy</td>\n      <td>NORM423</td>\n      <td>0.0</td>\n      <td>1.0</td>\n    </tr>\n    <tr>\n      <th>336</th>\n      <td>datasets/Dataset_C2/12_channel/new</td>\n      <td>e20059s3_P51200</td>\n      <td>256</td>\n      <td>256</td>\n      <td>256</td>\n      <td>218</td>\n      <td>1</td>\n      <td>170</td>\n      <td>1</td>\n      <td>12</td>\n      <td>2022-05-05</td>\n      <td>2584.0</td>\n      <td>650000.0</td>\n      <td>6380.0</td>\n      <td>8.0</td>\n      <td>healthy</td>\n      <td>NORM446</td>\n      <td>0.0</td>\n      <td>1.0</td>\n    </tr>\n    <tr>\n      <th>337</th>\n      <td>datasets/Dataset_C2/12_channel/new</td>\n      <td>e20060s3_P59904</td>\n      <td>256</td>\n      <td>256</td>\n      <td>256</td>\n      <td>218</td>\n      <td>1</td>\n      <td>170</td>\n      <td>1</td>\n      <td>12</td>\n      <td>2022-05-05</td>\n      <td>2584.0</td>\n      <td>650000.0</td>\n      <td>6380.0</td>\n      <td>8.0</td>\n      <td>healthy</td>\n      <td>NORM444</td>\n      <td>0.0</td>\n      <td>1.0</td>\n    </tr>\n  </tbody>\n</table>\n</div>"
     },
     "execution_count": 68,
     "metadata": {},
     "output_type": "execute_result"
    }
   ],
   "source": [
    "# new[~(new['Patient ID'].isin(patient_counts_train.keys()) | new['Patient ID'].isin(patient_counts_test.keys()) | new['Patient ID'].isin(patient_counts_val.keys()))]"
   ],
   "metadata": {
    "collapsed": false,
    "ExecuteTime": {
     "end_time": "2024-01-17T17:11:36.795396100Z",
     "start_time": "2024-01-17T17:11:36.789386300Z"
    }
   },
   "id": "26e7e005e8d72155"
  },
  {
   "cell_type": "code",
   "execution_count": 44,
   "outputs": [
    {
     "data": {
      "text/plain": "                            Relative path         File name  Image X res  \\\n9    datasets/Dataset_C2/12_channel/Train   e14089s3_P53248          256   \n12   datasets/Dataset_C2/12_channel/Train   e14134s3_P06656          256   \n13   datasets/Dataset_C2/12_channel/Train   e14141s3_P58880          256   \n14   datasets/Dataset_C2/12_channel/Train   e14140s3_P52224          256   \n16   datasets/Dataset_C2/12_channel/Train   e14191s3_P58368          256   \n17   datasets/Dataset_C2/12_channel/Train   e14195s3_P03584          256   \n22   datasets/Dataset_C2/12_channel/Train   e14292s3_P85504          256   \n23   datasets/Dataset_C2/12_channel/Train   e14302s3_P52224          256   \n24   datasets/Dataset_C2/12_channel/Train   e14304s3_P64000          256   \n25   datasets/Dataset_C2/12_channel/Train   e14296s4_P09216          256   \n27   datasets/Dataset_C2/12_channel/Train   e14351s3_P29184          256   \n28   datasets/Dataset_C2/12_channel/Train   e14352s3_P35840          256   \n29   datasets/Dataset_C2/12_channel/Train   e14369s5_P40960          256   \n30   datasets/Dataset_C2/12_channel/Train   e14378s5_P40448          256   \n31   datasets/Dataset_C2/12_channel/Train   e14377s6_P33280          256   \n32   datasets/Dataset_C2/12_channel/Train   e14396s3_P52224          256   \n33   datasets/Dataset_C2/12_channel/Train   e14423s3_P29696          256   \n34   datasets/Dataset_C2/12_channel/Train   e14427s3_P76288          256   \n35   datasets/Dataset_C2/12_channel/Train   e14441s5_P76800          256   \n36   datasets/Dataset_C2/12_channel/Train   e14437s5_P49152          256   \n37   datasets/Dataset_C2/12_channel/Train   e14477s5_P34816          256   \n38   datasets/Dataset_C2/12_channel/Train   e14487s5_P47616          256   \n40   datasets/Dataset_C2/12_channel/Train   e14508s5_P48128          256   \n41   datasets/Dataset_C2/12_channel/Train   e14507s5_P41472          256   \n92   datasets/Dataset_C2/12_channel/Train  e15802s13_P50176          256   \n93   datasets/Dataset_C2/12_channel/Train   e15802s3_P42496          256   \n96   datasets/Dataset_C2/12_channel/Train  e15828s13_P65536          256   \n97   datasets/Dataset_C2/12_channel/Train   e15828s3_P57856          256   \n102  datasets/Dataset_C2/12_channel/Train  e15862s13_P40960          256   \n103  datasets/Dataset_C2/12_channel/Train   e15862s3_P33792          256   \n155  datasets/Dataset_C2/12_channel/Train  e16882s14_P46080          256   \n156  datasets/Dataset_C2/12_channel/Train   e16882s4_P38912          256   \n303    datasets/Dataset_C2/12_channel/new   e19249s3_P11264          256   \n304    datasets/Dataset_C2/12_channel/new   e19250s3_P20480          256   \n305    datasets/Dataset_C2/12_channel/new   e19256s4_P05120          256   \n306    datasets/Dataset_C2/12_channel/new  e19256s14_P12288          256   \n325    datasets/Dataset_C2/12_channel/new   e19913s3_P55808          256   \n\n     Image Y res  k space X res  k space Y res  Phases  Slices  Echos  \\\n9            256            256            218       1     170      1   \n12           256            256            218       1     170      1   \n13           256            256            218       1     170      1   \n14           256            256            218       1     170      1   \n16           256            256            218       1     170      1   \n17           256            256            218       1     170      1   \n22           256            256            218       1     170      1   \n23           256            256            218       1     170      1   \n24           256            256            218       1     170      1   \n25           256            256            218       1     170      1   \n27           256            256            218       1     170      1   \n28           256            256            218       1     170      1   \n29           256            256            218       1     170      1   \n30           256            256            218       1     170      1   \n31           256            256            218       1     170      1   \n32           256            256            218       1     170      1   \n33           256            256            218       1     170      1   \n34           256            256            218       1     170      1   \n35           256            256            218       1     170      1   \n36           256            256            218       1     170      1   \n37           256            256            218       1     170      1   \n38           256            256            218       1     170      1   \n40           256            256            218       1     170      1   \n41           256            256            218       1     170      1   \n92           256            256            218       1     170      1   \n93           256            256            218       1     180      1   \n96           256            256            218       1     170      1   \n97           256            256            218       1     180      1   \n102          256            256            218       1     170      1   \n103          256            256            218       1     180      1   \n155          256            256            218       1     170      1   \n156          256            256            218       1     180      1   \n303          256            256            218       1     180      1   \n304          256            256            218       1     180      1   \n305          256            256            218       1     180      1   \n306          256            256            218       1     170      1   \n325          256            256            218       1     170      1   \n\n     Channels   Scan date      TE        TI      TR  Flip angle     Type  \\\n9          12  2018-06-11  2568.0  650000.0  6344.0         8.0  healthy   \n12         12  2018-06-18  2568.0  650000.0  6344.0         8.0  healthy   \n13         12  2018-06-18  2568.0  650000.0  6344.0         8.0  healthy   \n14         12  2018-06-18  2568.0  650000.0  6344.0         8.0  healthy   \n16         12  2018-06-26  2568.0  650000.0  6344.0         8.0  healthy   \n17         12  2018-06-27  2568.0  650000.0  6344.0         8.0  healthy   \n22         12  2018-07-10  2568.0  650000.0  6344.0         8.0  healthy   \n23         12  2018-07-11  2568.0  650000.0  6344.0         8.0  healthy   \n24         12  2018-07-11  2568.0  650000.0  6344.0         8.0  healthy   \n25         12  2018-07-11  2568.0  650000.0  6344.0         8.0  healthy   \n27         12  2018-07-19  2568.0  650000.0  6344.0         8.0  healthy   \n28         12  2018-07-19  2568.0  650000.0  6344.0         8.0  healthy   \n29         12  2018-07-23  2568.0  650000.0  6344.0         8.0  healthy   \n30         12  2018-07-24  2568.0  650000.0  6344.0         8.0  healthy   \n31         12  2018-07-24  2568.0  650000.0  6344.0         8.0  healthy   \n32         12  2018-07-26  2568.0  650000.0  6344.0         8.0  healthy   \n33         12  2018-07-31  2568.0  650000.0  6344.0         8.0  healthy   \n34         12  2018-07-31  2568.0  650000.0  6344.0         8.0  healthy   \n35         12  2018-08-01  2568.0  650000.0  6344.0         8.0  healthy   \n36         12  2018-08-01  2568.0  650000.0  6344.0         8.0  healthy   \n37         12  2018-08-08  2568.0  650000.0  6344.0         8.0  healthy   \n38         12  2018-08-09  2568.0  650000.0  6344.0         8.0  healthy   \n40         12  2018-08-13  2568.0  650000.0  6344.0         8.0  healthy   \n41         12  2018-08-13  2568.0  650000.0  6344.0         8.0  healthy   \n92         12  2019-03-11  2568.0  650000.0  6344.0         8.0  healthy   \n93         12  2019-03-11  3056.0  400000.0  7376.0        10.0  healthy   \n96         12  2019-03-14  2568.0  650000.0  6344.0         8.0  healthy   \n97         12  2019-03-14  3056.0  400000.0  7376.0        10.0  healthy   \n102        12  2019-03-20  2568.0  650000.0  6344.0         8.0  healthy   \n103        12  2019-03-20  3056.0  400000.0  7376.0        10.0  healthy   \n155        12  2019-09-05  2568.0  650000.0  6344.0         8.0  healthy   \n156        12  2019-09-05  3056.0  400000.0  7376.0        10.0  healthy   \n303        12  2021-10-26  3064.0  400000.0  7392.0        10.0  healthy   \n304        12  2021-10-26  3064.0  400000.0  7392.0        10.0  healthy   \n305        12  2021-10-27  3064.0  400000.0  7392.0        10.0  healthy   \n306        12  2021-10-27  2584.0  650000.0  6380.0         8.0  healthy   \n325        12  2022-04-01  2584.0  650000.0  6380.0         8.0  healthy   \n\n    Patient ID  Relative scan date  Number of scan  \n9      NORM400                 0.0             1.0  \n12     NORM476                 0.0             1.0  \n13     NORM476                 0.0             1.0  \n14     NORM400                 7.0             2.0  \n16     NORM478                 0.0             1.0  \n17     NORM478                 1.0             2.0  \n22     NORM483                 0.0             1.0  \n23     NORM483                 1.0             2.0  \n24     NORM480                 0.0             1.0  \n25     NORM480                 0.0             1.0  \n27     Norm488                 0.0             1.0  \n28     Norm488                 0.0             1.0  \n29     NORM138                 0.0             1.0  \n30     NORM487                 0.0             1.0  \n31     NORM487                 0.0             1.0  \n32     NORM138                 3.0             2.0  \n33     NORM489                 0.0             1.0  \n34     NORM489                 0.0             1.0  \n35     NORM486                 0.0             1.0  \n36     NORM486                 0.0             1.0  \n37     NORM442                 0.0             1.0  \n38     NORM442                 1.0             2.0  \n40     NORM491                 0.0             1.0  \n41     NORM491                 0.0             1.0  \n92     NORM138               231.0             3.0  \n93     NORM138               231.0             3.0  \n96     NORM138               234.0             4.0  \n97     NORM138               234.0             4.0  \n102    NORM138               240.0             5.0  \n103    NORM138               240.0             5.0  \n155    NORM101                 0.0             1.0  \n156    NORM101                 0.0             1.0  \n303    NORM101               782.0             4.0  \n304    NORM101               782.0             4.0  \n305    NORM101               783.0             5.0  \n306    NORM101               783.0             5.0  \n325    NORM442              1332.0             3.0  ",
      "text/html": "<div>\n<style scoped>\n    .dataframe tbody tr th:only-of-type {\n        vertical-align: middle;\n    }\n\n    .dataframe tbody tr th {\n        vertical-align: top;\n    }\n\n    .dataframe thead th {\n        text-align: right;\n    }\n</style>\n<table border=\"1\" class=\"dataframe\">\n  <thead>\n    <tr style=\"text-align: right;\">\n      <th></th>\n      <th>Relative path</th>\n      <th>File name</th>\n      <th>Image X res</th>\n      <th>Image Y res</th>\n      <th>k space X res</th>\n      <th>k space Y res</th>\n      <th>Phases</th>\n      <th>Slices</th>\n      <th>Echos</th>\n      <th>Channels</th>\n      <th>Scan date</th>\n      <th>TE</th>\n      <th>TI</th>\n      <th>TR</th>\n      <th>Flip angle</th>\n      <th>Type</th>\n      <th>Patient ID</th>\n      <th>Relative scan date</th>\n      <th>Number of scan</th>\n    </tr>\n  </thead>\n  <tbody>\n    <tr>\n      <th>9</th>\n      <td>datasets/Dataset_C2/12_channel/Train</td>\n      <td>e14089s3_P53248</td>\n      <td>256</td>\n      <td>256</td>\n      <td>256</td>\n      <td>218</td>\n      <td>1</td>\n      <td>170</td>\n      <td>1</td>\n      <td>12</td>\n      <td>2018-06-11</td>\n      <td>2568.0</td>\n      <td>650000.0</td>\n      <td>6344.0</td>\n      <td>8.0</td>\n      <td>healthy</td>\n      <td>NORM400</td>\n      <td>0.0</td>\n      <td>1.0</td>\n    </tr>\n    <tr>\n      <th>12</th>\n      <td>datasets/Dataset_C2/12_channel/Train</td>\n      <td>e14134s3_P06656</td>\n      <td>256</td>\n      <td>256</td>\n      <td>256</td>\n      <td>218</td>\n      <td>1</td>\n      <td>170</td>\n      <td>1</td>\n      <td>12</td>\n      <td>2018-06-18</td>\n      <td>2568.0</td>\n      <td>650000.0</td>\n      <td>6344.0</td>\n      <td>8.0</td>\n      <td>healthy</td>\n      <td>NORM476</td>\n      <td>0.0</td>\n      <td>1.0</td>\n    </tr>\n    <tr>\n      <th>13</th>\n      <td>datasets/Dataset_C2/12_channel/Train</td>\n      <td>e14141s3_P58880</td>\n      <td>256</td>\n      <td>256</td>\n      <td>256</td>\n      <td>218</td>\n      <td>1</td>\n      <td>170</td>\n      <td>1</td>\n      <td>12</td>\n      <td>2018-06-18</td>\n      <td>2568.0</td>\n      <td>650000.0</td>\n      <td>6344.0</td>\n      <td>8.0</td>\n      <td>healthy</td>\n      <td>NORM476</td>\n      <td>0.0</td>\n      <td>1.0</td>\n    </tr>\n    <tr>\n      <th>14</th>\n      <td>datasets/Dataset_C2/12_channel/Train</td>\n      <td>e14140s3_P52224</td>\n      <td>256</td>\n      <td>256</td>\n      <td>256</td>\n      <td>218</td>\n      <td>1</td>\n      <td>170</td>\n      <td>1</td>\n      <td>12</td>\n      <td>2018-06-18</td>\n      <td>2568.0</td>\n      <td>650000.0</td>\n      <td>6344.0</td>\n      <td>8.0</td>\n      <td>healthy</td>\n      <td>NORM400</td>\n      <td>7.0</td>\n      <td>2.0</td>\n    </tr>\n    <tr>\n      <th>16</th>\n      <td>datasets/Dataset_C2/12_channel/Train</td>\n      <td>e14191s3_P58368</td>\n      <td>256</td>\n      <td>256</td>\n      <td>256</td>\n      <td>218</td>\n      <td>1</td>\n      <td>170</td>\n      <td>1</td>\n      <td>12</td>\n      <td>2018-06-26</td>\n      <td>2568.0</td>\n      <td>650000.0</td>\n      <td>6344.0</td>\n      <td>8.0</td>\n      <td>healthy</td>\n      <td>NORM478</td>\n      <td>0.0</td>\n      <td>1.0</td>\n    </tr>\n    <tr>\n      <th>17</th>\n      <td>datasets/Dataset_C2/12_channel/Train</td>\n      <td>e14195s3_P03584</td>\n      <td>256</td>\n      <td>256</td>\n      <td>256</td>\n      <td>218</td>\n      <td>1</td>\n      <td>170</td>\n      <td>1</td>\n      <td>12</td>\n      <td>2018-06-27</td>\n      <td>2568.0</td>\n      <td>650000.0</td>\n      <td>6344.0</td>\n      <td>8.0</td>\n      <td>healthy</td>\n      <td>NORM478</td>\n      <td>1.0</td>\n      <td>2.0</td>\n    </tr>\n    <tr>\n      <th>22</th>\n      <td>datasets/Dataset_C2/12_channel/Train</td>\n      <td>e14292s3_P85504</td>\n      <td>256</td>\n      <td>256</td>\n      <td>256</td>\n      <td>218</td>\n      <td>1</td>\n      <td>170</td>\n      <td>1</td>\n      <td>12</td>\n      <td>2018-07-10</td>\n      <td>2568.0</td>\n      <td>650000.0</td>\n      <td>6344.0</td>\n      <td>8.0</td>\n      <td>healthy</td>\n      <td>NORM483</td>\n      <td>0.0</td>\n      <td>1.0</td>\n    </tr>\n    <tr>\n      <th>23</th>\n      <td>datasets/Dataset_C2/12_channel/Train</td>\n      <td>e14302s3_P52224</td>\n      <td>256</td>\n      <td>256</td>\n      <td>256</td>\n      <td>218</td>\n      <td>1</td>\n      <td>170</td>\n      <td>1</td>\n      <td>12</td>\n      <td>2018-07-11</td>\n      <td>2568.0</td>\n      <td>650000.0</td>\n      <td>6344.0</td>\n      <td>8.0</td>\n      <td>healthy</td>\n      <td>NORM483</td>\n      <td>1.0</td>\n      <td>2.0</td>\n    </tr>\n    <tr>\n      <th>24</th>\n      <td>datasets/Dataset_C2/12_channel/Train</td>\n      <td>e14304s3_P64000</td>\n      <td>256</td>\n      <td>256</td>\n      <td>256</td>\n      <td>218</td>\n      <td>1</td>\n      <td>170</td>\n      <td>1</td>\n      <td>12</td>\n      <td>2018-07-11</td>\n      <td>2568.0</td>\n      <td>650000.0</td>\n      <td>6344.0</td>\n      <td>8.0</td>\n      <td>healthy</td>\n      <td>NORM480</td>\n      <td>0.0</td>\n      <td>1.0</td>\n    </tr>\n    <tr>\n      <th>25</th>\n      <td>datasets/Dataset_C2/12_channel/Train</td>\n      <td>e14296s4_P09216</td>\n      <td>256</td>\n      <td>256</td>\n      <td>256</td>\n      <td>218</td>\n      <td>1</td>\n      <td>170</td>\n      <td>1</td>\n      <td>12</td>\n      <td>2018-07-11</td>\n      <td>2568.0</td>\n      <td>650000.0</td>\n      <td>6344.0</td>\n      <td>8.0</td>\n      <td>healthy</td>\n      <td>NORM480</td>\n      <td>0.0</td>\n      <td>1.0</td>\n    </tr>\n    <tr>\n      <th>27</th>\n      <td>datasets/Dataset_C2/12_channel/Train</td>\n      <td>e14351s3_P29184</td>\n      <td>256</td>\n      <td>256</td>\n      <td>256</td>\n      <td>218</td>\n      <td>1</td>\n      <td>170</td>\n      <td>1</td>\n      <td>12</td>\n      <td>2018-07-19</td>\n      <td>2568.0</td>\n      <td>650000.0</td>\n      <td>6344.0</td>\n      <td>8.0</td>\n      <td>healthy</td>\n      <td>Norm488</td>\n      <td>0.0</td>\n      <td>1.0</td>\n    </tr>\n    <tr>\n      <th>28</th>\n      <td>datasets/Dataset_C2/12_channel/Train</td>\n      <td>e14352s3_P35840</td>\n      <td>256</td>\n      <td>256</td>\n      <td>256</td>\n      <td>218</td>\n      <td>1</td>\n      <td>170</td>\n      <td>1</td>\n      <td>12</td>\n      <td>2018-07-19</td>\n      <td>2568.0</td>\n      <td>650000.0</td>\n      <td>6344.0</td>\n      <td>8.0</td>\n      <td>healthy</td>\n      <td>Norm488</td>\n      <td>0.0</td>\n      <td>1.0</td>\n    </tr>\n    <tr>\n      <th>29</th>\n      <td>datasets/Dataset_C2/12_channel/Train</td>\n      <td>e14369s5_P40960</td>\n      <td>256</td>\n      <td>256</td>\n      <td>256</td>\n      <td>218</td>\n      <td>1</td>\n      <td>170</td>\n      <td>1</td>\n      <td>12</td>\n      <td>2018-07-23</td>\n      <td>2568.0</td>\n      <td>650000.0</td>\n      <td>6344.0</td>\n      <td>8.0</td>\n      <td>healthy</td>\n      <td>NORM138</td>\n      <td>0.0</td>\n      <td>1.0</td>\n    </tr>\n    <tr>\n      <th>30</th>\n      <td>datasets/Dataset_C2/12_channel/Train</td>\n      <td>e14378s5_P40448</td>\n      <td>256</td>\n      <td>256</td>\n      <td>256</td>\n      <td>218</td>\n      <td>1</td>\n      <td>170</td>\n      <td>1</td>\n      <td>12</td>\n      <td>2018-07-24</td>\n      <td>2568.0</td>\n      <td>650000.0</td>\n      <td>6344.0</td>\n      <td>8.0</td>\n      <td>healthy</td>\n      <td>NORM487</td>\n      <td>0.0</td>\n      <td>1.0</td>\n    </tr>\n    <tr>\n      <th>31</th>\n      <td>datasets/Dataset_C2/12_channel/Train</td>\n      <td>e14377s6_P33280</td>\n      <td>256</td>\n      <td>256</td>\n      <td>256</td>\n      <td>218</td>\n      <td>1</td>\n      <td>170</td>\n      <td>1</td>\n      <td>12</td>\n      <td>2018-07-24</td>\n      <td>2568.0</td>\n      <td>650000.0</td>\n      <td>6344.0</td>\n      <td>8.0</td>\n      <td>healthy</td>\n      <td>NORM487</td>\n      <td>0.0</td>\n      <td>1.0</td>\n    </tr>\n    <tr>\n      <th>32</th>\n      <td>datasets/Dataset_C2/12_channel/Train</td>\n      <td>e14396s3_P52224</td>\n      <td>256</td>\n      <td>256</td>\n      <td>256</td>\n      <td>218</td>\n      <td>1</td>\n      <td>170</td>\n      <td>1</td>\n      <td>12</td>\n      <td>2018-07-26</td>\n      <td>2568.0</td>\n      <td>650000.0</td>\n      <td>6344.0</td>\n      <td>8.0</td>\n      <td>healthy</td>\n      <td>NORM138</td>\n      <td>3.0</td>\n      <td>2.0</td>\n    </tr>\n    <tr>\n      <th>33</th>\n      <td>datasets/Dataset_C2/12_channel/Train</td>\n      <td>e14423s3_P29696</td>\n      <td>256</td>\n      <td>256</td>\n      <td>256</td>\n      <td>218</td>\n      <td>1</td>\n      <td>170</td>\n      <td>1</td>\n      <td>12</td>\n      <td>2018-07-31</td>\n      <td>2568.0</td>\n      <td>650000.0</td>\n      <td>6344.0</td>\n      <td>8.0</td>\n      <td>healthy</td>\n      <td>NORM489</td>\n      <td>0.0</td>\n      <td>1.0</td>\n    </tr>\n    <tr>\n      <th>34</th>\n      <td>datasets/Dataset_C2/12_channel/Train</td>\n      <td>e14427s3_P76288</td>\n      <td>256</td>\n      <td>256</td>\n      <td>256</td>\n      <td>218</td>\n      <td>1</td>\n      <td>170</td>\n      <td>1</td>\n      <td>12</td>\n      <td>2018-07-31</td>\n      <td>2568.0</td>\n      <td>650000.0</td>\n      <td>6344.0</td>\n      <td>8.0</td>\n      <td>healthy</td>\n      <td>NORM489</td>\n      <td>0.0</td>\n      <td>1.0</td>\n    </tr>\n    <tr>\n      <th>35</th>\n      <td>datasets/Dataset_C2/12_channel/Train</td>\n      <td>e14441s5_P76800</td>\n      <td>256</td>\n      <td>256</td>\n      <td>256</td>\n      <td>218</td>\n      <td>1</td>\n      <td>170</td>\n      <td>1</td>\n      <td>12</td>\n      <td>2018-08-01</td>\n      <td>2568.0</td>\n      <td>650000.0</td>\n      <td>6344.0</td>\n      <td>8.0</td>\n      <td>healthy</td>\n      <td>NORM486</td>\n      <td>0.0</td>\n      <td>1.0</td>\n    </tr>\n    <tr>\n      <th>36</th>\n      <td>datasets/Dataset_C2/12_channel/Train</td>\n      <td>e14437s5_P49152</td>\n      <td>256</td>\n      <td>256</td>\n      <td>256</td>\n      <td>218</td>\n      <td>1</td>\n      <td>170</td>\n      <td>1</td>\n      <td>12</td>\n      <td>2018-08-01</td>\n      <td>2568.0</td>\n      <td>650000.0</td>\n      <td>6344.0</td>\n      <td>8.0</td>\n      <td>healthy</td>\n      <td>NORM486</td>\n      <td>0.0</td>\n      <td>1.0</td>\n    </tr>\n    <tr>\n      <th>37</th>\n      <td>datasets/Dataset_C2/12_channel/Train</td>\n      <td>e14477s5_P34816</td>\n      <td>256</td>\n      <td>256</td>\n      <td>256</td>\n      <td>218</td>\n      <td>1</td>\n      <td>170</td>\n      <td>1</td>\n      <td>12</td>\n      <td>2018-08-08</td>\n      <td>2568.0</td>\n      <td>650000.0</td>\n      <td>6344.0</td>\n      <td>8.0</td>\n      <td>healthy</td>\n      <td>NORM442</td>\n      <td>0.0</td>\n      <td>1.0</td>\n    </tr>\n    <tr>\n      <th>38</th>\n      <td>datasets/Dataset_C2/12_channel/Train</td>\n      <td>e14487s5_P47616</td>\n      <td>256</td>\n      <td>256</td>\n      <td>256</td>\n      <td>218</td>\n      <td>1</td>\n      <td>170</td>\n      <td>1</td>\n      <td>12</td>\n      <td>2018-08-09</td>\n      <td>2568.0</td>\n      <td>650000.0</td>\n      <td>6344.0</td>\n      <td>8.0</td>\n      <td>healthy</td>\n      <td>NORM442</td>\n      <td>1.0</td>\n      <td>2.0</td>\n    </tr>\n    <tr>\n      <th>40</th>\n      <td>datasets/Dataset_C2/12_channel/Train</td>\n      <td>e14508s5_P48128</td>\n      <td>256</td>\n      <td>256</td>\n      <td>256</td>\n      <td>218</td>\n      <td>1</td>\n      <td>170</td>\n      <td>1</td>\n      <td>12</td>\n      <td>2018-08-13</td>\n      <td>2568.0</td>\n      <td>650000.0</td>\n      <td>6344.0</td>\n      <td>8.0</td>\n      <td>healthy</td>\n      <td>NORM491</td>\n      <td>0.0</td>\n      <td>1.0</td>\n    </tr>\n    <tr>\n      <th>41</th>\n      <td>datasets/Dataset_C2/12_channel/Train</td>\n      <td>e14507s5_P41472</td>\n      <td>256</td>\n      <td>256</td>\n      <td>256</td>\n      <td>218</td>\n      <td>1</td>\n      <td>170</td>\n      <td>1</td>\n      <td>12</td>\n      <td>2018-08-13</td>\n      <td>2568.0</td>\n      <td>650000.0</td>\n      <td>6344.0</td>\n      <td>8.0</td>\n      <td>healthy</td>\n      <td>NORM491</td>\n      <td>0.0</td>\n      <td>1.0</td>\n    </tr>\n    <tr>\n      <th>92</th>\n      <td>datasets/Dataset_C2/12_channel/Train</td>\n      <td>e15802s13_P50176</td>\n      <td>256</td>\n      <td>256</td>\n      <td>256</td>\n      <td>218</td>\n      <td>1</td>\n      <td>170</td>\n      <td>1</td>\n      <td>12</td>\n      <td>2019-03-11</td>\n      <td>2568.0</td>\n      <td>650000.0</td>\n      <td>6344.0</td>\n      <td>8.0</td>\n      <td>healthy</td>\n      <td>NORM138</td>\n      <td>231.0</td>\n      <td>3.0</td>\n    </tr>\n    <tr>\n      <th>93</th>\n      <td>datasets/Dataset_C2/12_channel/Train</td>\n      <td>e15802s3_P42496</td>\n      <td>256</td>\n      <td>256</td>\n      <td>256</td>\n      <td>218</td>\n      <td>1</td>\n      <td>180</td>\n      <td>1</td>\n      <td>12</td>\n      <td>2019-03-11</td>\n      <td>3056.0</td>\n      <td>400000.0</td>\n      <td>7376.0</td>\n      <td>10.0</td>\n      <td>healthy</td>\n      <td>NORM138</td>\n      <td>231.0</td>\n      <td>3.0</td>\n    </tr>\n    <tr>\n      <th>96</th>\n      <td>datasets/Dataset_C2/12_channel/Train</td>\n      <td>e15828s13_P65536</td>\n      <td>256</td>\n      <td>256</td>\n      <td>256</td>\n      <td>218</td>\n      <td>1</td>\n      <td>170</td>\n      <td>1</td>\n      <td>12</td>\n      <td>2019-03-14</td>\n      <td>2568.0</td>\n      <td>650000.0</td>\n      <td>6344.0</td>\n      <td>8.0</td>\n      <td>healthy</td>\n      <td>NORM138</td>\n      <td>234.0</td>\n      <td>4.0</td>\n    </tr>\n    <tr>\n      <th>97</th>\n      <td>datasets/Dataset_C2/12_channel/Train</td>\n      <td>e15828s3_P57856</td>\n      <td>256</td>\n      <td>256</td>\n      <td>256</td>\n      <td>218</td>\n      <td>1</td>\n      <td>180</td>\n      <td>1</td>\n      <td>12</td>\n      <td>2019-03-14</td>\n      <td>3056.0</td>\n      <td>400000.0</td>\n      <td>7376.0</td>\n      <td>10.0</td>\n      <td>healthy</td>\n      <td>NORM138</td>\n      <td>234.0</td>\n      <td>4.0</td>\n    </tr>\n    <tr>\n      <th>102</th>\n      <td>datasets/Dataset_C2/12_channel/Train</td>\n      <td>e15862s13_P40960</td>\n      <td>256</td>\n      <td>256</td>\n      <td>256</td>\n      <td>218</td>\n      <td>1</td>\n      <td>170</td>\n      <td>1</td>\n      <td>12</td>\n      <td>2019-03-20</td>\n      <td>2568.0</td>\n      <td>650000.0</td>\n      <td>6344.0</td>\n      <td>8.0</td>\n      <td>healthy</td>\n      <td>NORM138</td>\n      <td>240.0</td>\n      <td>5.0</td>\n    </tr>\n    <tr>\n      <th>103</th>\n      <td>datasets/Dataset_C2/12_channel/Train</td>\n      <td>e15862s3_P33792</td>\n      <td>256</td>\n      <td>256</td>\n      <td>256</td>\n      <td>218</td>\n      <td>1</td>\n      <td>180</td>\n      <td>1</td>\n      <td>12</td>\n      <td>2019-03-20</td>\n      <td>3056.0</td>\n      <td>400000.0</td>\n      <td>7376.0</td>\n      <td>10.0</td>\n      <td>healthy</td>\n      <td>NORM138</td>\n      <td>240.0</td>\n      <td>5.0</td>\n    </tr>\n    <tr>\n      <th>155</th>\n      <td>datasets/Dataset_C2/12_channel/Train</td>\n      <td>e16882s14_P46080</td>\n      <td>256</td>\n      <td>256</td>\n      <td>256</td>\n      <td>218</td>\n      <td>1</td>\n      <td>170</td>\n      <td>1</td>\n      <td>12</td>\n      <td>2019-09-05</td>\n      <td>2568.0</td>\n      <td>650000.0</td>\n      <td>6344.0</td>\n      <td>8.0</td>\n      <td>healthy</td>\n      <td>NORM101</td>\n      <td>0.0</td>\n      <td>1.0</td>\n    </tr>\n    <tr>\n      <th>156</th>\n      <td>datasets/Dataset_C2/12_channel/Train</td>\n      <td>e16882s4_P38912</td>\n      <td>256</td>\n      <td>256</td>\n      <td>256</td>\n      <td>218</td>\n      <td>1</td>\n      <td>180</td>\n      <td>1</td>\n      <td>12</td>\n      <td>2019-09-05</td>\n      <td>3056.0</td>\n      <td>400000.0</td>\n      <td>7376.0</td>\n      <td>10.0</td>\n      <td>healthy</td>\n      <td>NORM101</td>\n      <td>0.0</td>\n      <td>1.0</td>\n    </tr>\n    <tr>\n      <th>303</th>\n      <td>datasets/Dataset_C2/12_channel/new</td>\n      <td>e19249s3_P11264</td>\n      <td>256</td>\n      <td>256</td>\n      <td>256</td>\n      <td>218</td>\n      <td>1</td>\n      <td>180</td>\n      <td>1</td>\n      <td>12</td>\n      <td>2021-10-26</td>\n      <td>3064.0</td>\n      <td>400000.0</td>\n      <td>7392.0</td>\n      <td>10.0</td>\n      <td>healthy</td>\n      <td>NORM101</td>\n      <td>782.0</td>\n      <td>4.0</td>\n    </tr>\n    <tr>\n      <th>304</th>\n      <td>datasets/Dataset_C2/12_channel/new</td>\n      <td>e19250s3_P20480</td>\n      <td>256</td>\n      <td>256</td>\n      <td>256</td>\n      <td>218</td>\n      <td>1</td>\n      <td>180</td>\n      <td>1</td>\n      <td>12</td>\n      <td>2021-10-26</td>\n      <td>3064.0</td>\n      <td>400000.0</td>\n      <td>7392.0</td>\n      <td>10.0</td>\n      <td>healthy</td>\n      <td>NORM101</td>\n      <td>782.0</td>\n      <td>4.0</td>\n    </tr>\n    <tr>\n      <th>305</th>\n      <td>datasets/Dataset_C2/12_channel/new</td>\n      <td>e19256s4_P05120</td>\n      <td>256</td>\n      <td>256</td>\n      <td>256</td>\n      <td>218</td>\n      <td>1</td>\n      <td>180</td>\n      <td>1</td>\n      <td>12</td>\n      <td>2021-10-27</td>\n      <td>3064.0</td>\n      <td>400000.0</td>\n      <td>7392.0</td>\n      <td>10.0</td>\n      <td>healthy</td>\n      <td>NORM101</td>\n      <td>783.0</td>\n      <td>5.0</td>\n    </tr>\n    <tr>\n      <th>306</th>\n      <td>datasets/Dataset_C2/12_channel/new</td>\n      <td>e19256s14_P12288</td>\n      <td>256</td>\n      <td>256</td>\n      <td>256</td>\n      <td>218</td>\n      <td>1</td>\n      <td>170</td>\n      <td>1</td>\n      <td>12</td>\n      <td>2021-10-27</td>\n      <td>2584.0</td>\n      <td>650000.0</td>\n      <td>6380.0</td>\n      <td>8.0</td>\n      <td>healthy</td>\n      <td>NORM101</td>\n      <td>783.0</td>\n      <td>5.0</td>\n    </tr>\n    <tr>\n      <th>325</th>\n      <td>datasets/Dataset_C2/12_channel/new</td>\n      <td>e19913s3_P55808</td>\n      <td>256</td>\n      <td>256</td>\n      <td>256</td>\n      <td>218</td>\n      <td>1</td>\n      <td>170</td>\n      <td>1</td>\n      <td>12</td>\n      <td>2022-04-01</td>\n      <td>2584.0</td>\n      <td>650000.0</td>\n      <td>6380.0</td>\n      <td>8.0</td>\n      <td>healthy</td>\n      <td>NORM442</td>\n      <td>1332.0</td>\n      <td>3.0</td>\n    </tr>\n  </tbody>\n</table>\n</div>"
     },
     "execution_count": 44,
     "metadata": {},
     "output_type": "execute_result"
    }
   ],
   "source": [
    "# train_mv"
   ],
   "metadata": {
    "collapsed": false,
    "ExecuteTime": {
     "end_time": "2024-01-17T16:52:42.890537800Z",
     "start_time": "2024-01-17T16:52:42.886290500Z"
    }
   },
   "id": "f5a059fbfa5c70b4"
  },
  {
   "cell_type": "code",
   "execution_count": 148,
   "outputs": [
    {
     "data": {
      "text/plain": "\"There is overlap between the sets:\\nOverlap between Train and Validation: {'NORM345', 'NORM602', 'Norm493', 'NORM370', 'NORM101', 'NORM709', 'NORM355', 'NORM352', 'NORM372', 'NORM710', 'NORM360', 'NORM500', 'NORM480', 'NORM478', 'NORM486', 'NORM483', 'NORM442', 'NORM476', 'NORM138', 'NORM487', 'NORM346', 'NORM481', 'Norm488', 'NORM491', 'NORM489', 'NORM380', 'NORM493', 'NORM400'}\\nOverlap between Train and Test: {'NORM101', 'NORM411', 'NORM446', 'NORM406', 'NORM444', 'NORM441', 'NORM435', 'NORM448', 'NORM438', 'NORM421', 'NORM424', 'NROM405', 'NORM442', 'NORM423', 'NORM404', 'NORM426', 'NORM440', 'NORM422', 'NORM410', 'NORM414'}\\nOverlap between Validation and Test: {'NORM405', 'NORM100', 'NORM101', 'NORM442'}\\n\""
     },
     "execution_count": 148,
     "metadata": {},
     "output_type": "execute_result"
    }
   ],
   "source": [
    "# # Convert the patient IDs to sets\n",
    "# train_ids = set(train['Patient ID'])\n",
    "# val_ids = set(test['Patient ID'])\n",
    "# test_ids = set(new['Patient ID'])\n",
    "# \n",
    "# # Run the test function\n",
    "# test_no_overlap(train_ids, val_ids, test_ids)"
   ],
   "metadata": {
    "collapsed": false,
    "ExecuteTime": {
     "end_time": "2024-01-17T18:13:09.495633400Z",
     "start_time": "2024-01-17T18:13:09.486707200Z"
    }
   },
   "id": "e81742c6b683270f"
  },
  {
   "cell_type": "code",
   "execution_count": 72,
   "outputs": [
    {
     "data": {
      "text/plain": "                           Relative path         File name  Image X res  \\\n10    datasets/Dataset_C2/12_channel/Val   e14110s3_P59904          256   \n11    datasets/Dataset_C2/12_channel/Val  e14120s11_P66048          256   \n18    datasets/Dataset_C2/12_channel/Val   e14258s3_P76800          256   \n19    datasets/Dataset_C2/12_channel/Val   e14264s3_P08192          256   \n26    datasets/Dataset_C2/12_channel/Val   e14313s5_P37888          256   \n39    datasets/Dataset_C2/12_channel/Val   e14498s5_P60928          256   \n44    datasets/Dataset_C2/12_channel/Val   e14531s6_P68096          256   \n45    datasets/Dataset_C2/12_channel/Val   e14542s5_P52224          256   \n48    datasets/Dataset_C2/12_channel/Val   e14584s5_P30208          256   \n49    datasets/Dataset_C2/12_channel/Val   e14583s3_P21504          256   \n53    datasets/Dataset_C2/12_channel/Val   e14691s3_P06656          256   \n54    datasets/Dataset_C2/12_channel/Val   e14692s5_P14848          256   \n82    datasets/Dataset_C2/12_channel/Val  e15652s14_P51712          256   \n83    datasets/Dataset_C2/12_channel/Val   e15652s4_P45056          256   \n147   datasets/Dataset_C2/12_channel/Val   e16673s3_P24576          256   \n148   datasets/Dataset_C2/12_channel/Val  e16673s13_P31744          256   \n85   datasets/Dataset_C2/12_channel/Test  e15768s13_P14848          256   \n86   datasets/Dataset_C2/12_channel/Test   e15768s3_P07168          256   \n87   datasets/Dataset_C2/12_channel/Test   e15781s3_P89088          256   \n88   datasets/Dataset_C2/12_channel/Test  e15781s13_P96256          256   \n94   datasets/Dataset_C2/12_channel/Test   e15812s3_P44544          256   \n95   datasets/Dataset_C2/12_channel/Test  e15812s13_P51712          256   \n98   datasets/Dataset_C2/12_channel/Test  e15866s13_P72192          256   \n99   datasets/Dataset_C2/12_channel/Test   e15866s3_P65024          256   \n100  datasets/Dataset_C2/12_channel/Test   e15865s3_P55296          256   \n101  datasets/Dataset_C2/12_channel/Test  e15865s13_P62464          256   \n104  datasets/Dataset_C2/12_channel/Test  e16031s13_P70656          256   \n105  datasets/Dataset_C2/12_channel/Test   e16031s3_P63488          256   \n137  datasets/Dataset_C2/12_channel/Test   e16650s3_P47104          256   \n138  datasets/Dataset_C2/12_channel/Test   e16649s3_P37376          256   \n139  datasets/Dataset_C2/12_channel/Test  e16650s13_P54272          256   \n140  datasets/Dataset_C2/12_channel/Test  e16649s13_P44544          256   \n\n     Image Y res  k space X res  k space Y res  Phases  Slices  Echos  \\\n10           256            256            218       1     170      1   \n11           256            256            218       1     170      1   \n18           256            256            218       1     170      1   \n19           256            256            218       1     170      1   \n26           256            256            218       1     170      1   \n39           256            256            218       1     170      1   \n44           256            256            218       1     170      1   \n45           256            256            218       1     170      1   \n48           256            256            218       1     170      1   \n49           256            256            218       1     170      1   \n53           256            256            218       1     170      1   \n54           256            256            218       1     170      1   \n82           256            256            218       1     180      1   \n83           256            256            218       1     180      1   \n147          256            256            218       1     180      1   \n148          256            256            218       1     170      1   \n85           256            256            218       1     170      1   \n86           256            256            218       1     180      1   \n87           256            256            218       1     180      1   \n88           256            256            218       1     170      1   \n94           256            256            218       1     180      1   \n95           256            256            218       1     170      1   \n98           256            256            218       1     170      1   \n99           256            256            218       1     180      1   \n100          256            256            218       1     180      1   \n101          256            256            218       1     170      1   \n104          256            256            218       1     170      1   \n105          256            256            218       1     180      1   \n137          256            256            218       1     180      1   \n138          256            256            218       1     180      1   \n139          256            256            218       1     170      1   \n140          256            256            218       1     170      1   \n\n     Channels   Scan date      TE        TI      TR  Flip angle     Type  \\\n10         12  2018-06-13  2568.0  650000.0  6344.0         8.0  healthy   \n11         12  2018-06-14  2568.0  650000.0  6344.0         8.0  healthy   \n18         12  2018-07-05  2568.0  650000.0  6344.0         8.0  healthy   \n19         12  2018-07-06  2568.0  650000.0  6344.0         8.0  healthy   \n26         12  2018-07-12  2568.0  650000.0  6344.0         8.0  healthy   \n39         12  2018-08-10  2568.0  650000.0  6344.0         8.0  healthy   \n44         12  2018-08-15  2568.0  650000.0  6344.0         8.0  healthy   \n45         12  2018-08-16  2568.0  650000.0  6344.0         8.0  healthy   \n48         12  2018-08-23  2568.0  650000.0  6344.0         8.0  healthy   \n49         12  2018-08-23  2568.0  650000.0  6344.0         8.0  healthy   \n53         12  2018-09-11  2568.0  650000.0  6344.0         8.0  healthy   \n54         12  2018-09-11  2568.0  650000.0  6344.0         8.0  healthy   \n82         12  2019-02-14  3056.0  400000.0  7376.0        10.0  healthy   \n83         12  2019-02-14  3056.0  400000.0  7376.0        10.0  healthy   \n147        12  2019-07-25  3056.0  400000.0  7376.0        10.0  healthy   \n148        12  2019-07-25  2568.0  650000.0  6344.0         8.0  healthy   \n85         12  2019-03-06  2568.0  650000.0  6344.0         8.0  healthy   \n86         12  2019-03-06  3056.0  400000.0  7376.0        10.0  healthy   \n87         12  2019-03-07  3056.0  400000.0  7376.0        10.0  healthy   \n88         12  2019-03-07  2568.0  650000.0  6344.0         8.0  healthy   \n94         12  2019-03-12  3056.0  400000.0  7376.0        10.0  healthy   \n95         12  2019-03-12  2568.0  650000.0  6344.0         8.0  healthy   \n98         12  2019-03-20  2568.0  650000.0  6344.0         8.0  healthy   \n99         12  2019-03-20  3056.0  400000.0  7376.0        10.0  healthy   \n100        12  2019-03-20  3056.0  400000.0  7376.0        10.0  healthy   \n101        12  2019-03-20  2568.0  650000.0  6344.0         8.0  healthy   \n104        12  2019-04-15  2568.0  650000.0  6344.0         8.0  healthy   \n105        12  2019-04-15  3056.0  400000.0  7376.0        10.0  healthy   \n137        12  2019-07-19  3056.0  400000.0  7376.0        10.0  healthy   \n138        12  2019-07-19  3056.0  400000.0  7376.0        10.0  healthy   \n139        12  2019-07-19  2568.0  650000.0  6344.0         8.0  healthy   \n140        12  2019-07-19  2568.0  650000.0  6344.0         8.0  healthy   \n\n    Patient ID  Relative scan date  Number of scan  \n10     NORM477                 0.0             1.0  \n11     NORM477                 1.0             2.0  \n18     NORM485                 0.0             1.0  \n19     NORM485                 1.0             2.0  \n26     NORM479                 0.0             1.0  \n39     NORM479                29.0             2.0  \n44     NORM484                 0.0             1.0  \n45     NORM484                 1.0             2.0  \n48     NORM492                 0.0             1.0  \n49     NORM492                 0.0             1.0  \n53     NORM494                 0.0             1.0  \n54     NORM494                 0.0             1.0  \n82     NORM603                 0.0             1.0  \n83     NORM603                 0.0             1.0  \n147    NORM100                 6.0             2.0  \n148    NORM100                 6.0             2.0  \n85     NORM405                 0.0             1.0  \n86     NORM405                 0.0             1.0  \n87     NORM613                 0.0             1.0  \n88     NORM613                 0.0             1.0  \n94     NORM405                 6.0             2.0  \n95     NORM405                 6.0             2.0  \n98     NORM613                13.0             2.0  \n99     NORM613                13.0             2.0  \n100    NORM405                14.0             3.0  \n101    NORM405                14.0             3.0  \n104    NORM613                39.0             3.0  \n105    NORM613                39.0             3.0  \n137    NORM100                 0.0             1.0  \n138    NORM100                 0.0             1.0  \n139    NORM100                 0.0             1.0  \n140    NORM100                 0.0             1.0  ",
      "text/html": "<div>\n<style scoped>\n    .dataframe tbody tr th:only-of-type {\n        vertical-align: middle;\n    }\n\n    .dataframe tbody tr th {\n        vertical-align: top;\n    }\n\n    .dataframe thead th {\n        text-align: right;\n    }\n</style>\n<table border=\"1\" class=\"dataframe\">\n  <thead>\n    <tr style=\"text-align: right;\">\n      <th></th>\n      <th>Relative path</th>\n      <th>File name</th>\n      <th>Image X res</th>\n      <th>Image Y res</th>\n      <th>k space X res</th>\n      <th>k space Y res</th>\n      <th>Phases</th>\n      <th>Slices</th>\n      <th>Echos</th>\n      <th>Channels</th>\n      <th>Scan date</th>\n      <th>TE</th>\n      <th>TI</th>\n      <th>TR</th>\n      <th>Flip angle</th>\n      <th>Type</th>\n      <th>Patient ID</th>\n      <th>Relative scan date</th>\n      <th>Number of scan</th>\n    </tr>\n  </thead>\n  <tbody>\n    <tr>\n      <th>10</th>\n      <td>datasets/Dataset_C2/12_channel/Val</td>\n      <td>e14110s3_P59904</td>\n      <td>256</td>\n      <td>256</td>\n      <td>256</td>\n      <td>218</td>\n      <td>1</td>\n      <td>170</td>\n      <td>1</td>\n      <td>12</td>\n      <td>2018-06-13</td>\n      <td>2568.0</td>\n      <td>650000.0</td>\n      <td>6344.0</td>\n      <td>8.0</td>\n      <td>healthy</td>\n      <td>NORM477</td>\n      <td>0.0</td>\n      <td>1.0</td>\n    </tr>\n    <tr>\n      <th>11</th>\n      <td>datasets/Dataset_C2/12_channel/Val</td>\n      <td>e14120s11_P66048</td>\n      <td>256</td>\n      <td>256</td>\n      <td>256</td>\n      <td>218</td>\n      <td>1</td>\n      <td>170</td>\n      <td>1</td>\n      <td>12</td>\n      <td>2018-06-14</td>\n      <td>2568.0</td>\n      <td>650000.0</td>\n      <td>6344.0</td>\n      <td>8.0</td>\n      <td>healthy</td>\n      <td>NORM477</td>\n      <td>1.0</td>\n      <td>2.0</td>\n    </tr>\n    <tr>\n      <th>18</th>\n      <td>datasets/Dataset_C2/12_channel/Val</td>\n      <td>e14258s3_P76800</td>\n      <td>256</td>\n      <td>256</td>\n      <td>256</td>\n      <td>218</td>\n      <td>1</td>\n      <td>170</td>\n      <td>1</td>\n      <td>12</td>\n      <td>2018-07-05</td>\n      <td>2568.0</td>\n      <td>650000.0</td>\n      <td>6344.0</td>\n      <td>8.0</td>\n      <td>healthy</td>\n      <td>NORM485</td>\n      <td>0.0</td>\n      <td>1.0</td>\n    </tr>\n    <tr>\n      <th>19</th>\n      <td>datasets/Dataset_C2/12_channel/Val</td>\n      <td>e14264s3_P08192</td>\n      <td>256</td>\n      <td>256</td>\n      <td>256</td>\n      <td>218</td>\n      <td>1</td>\n      <td>170</td>\n      <td>1</td>\n      <td>12</td>\n      <td>2018-07-06</td>\n      <td>2568.0</td>\n      <td>650000.0</td>\n      <td>6344.0</td>\n      <td>8.0</td>\n      <td>healthy</td>\n      <td>NORM485</td>\n      <td>1.0</td>\n      <td>2.0</td>\n    </tr>\n    <tr>\n      <th>26</th>\n      <td>datasets/Dataset_C2/12_channel/Val</td>\n      <td>e14313s5_P37888</td>\n      <td>256</td>\n      <td>256</td>\n      <td>256</td>\n      <td>218</td>\n      <td>1</td>\n      <td>170</td>\n      <td>1</td>\n      <td>12</td>\n      <td>2018-07-12</td>\n      <td>2568.0</td>\n      <td>650000.0</td>\n      <td>6344.0</td>\n      <td>8.0</td>\n      <td>healthy</td>\n      <td>NORM479</td>\n      <td>0.0</td>\n      <td>1.0</td>\n    </tr>\n    <tr>\n      <th>39</th>\n      <td>datasets/Dataset_C2/12_channel/Val</td>\n      <td>e14498s5_P60928</td>\n      <td>256</td>\n      <td>256</td>\n      <td>256</td>\n      <td>218</td>\n      <td>1</td>\n      <td>170</td>\n      <td>1</td>\n      <td>12</td>\n      <td>2018-08-10</td>\n      <td>2568.0</td>\n      <td>650000.0</td>\n      <td>6344.0</td>\n      <td>8.0</td>\n      <td>healthy</td>\n      <td>NORM479</td>\n      <td>29.0</td>\n      <td>2.0</td>\n    </tr>\n    <tr>\n      <th>44</th>\n      <td>datasets/Dataset_C2/12_channel/Val</td>\n      <td>e14531s6_P68096</td>\n      <td>256</td>\n      <td>256</td>\n      <td>256</td>\n      <td>218</td>\n      <td>1</td>\n      <td>170</td>\n      <td>1</td>\n      <td>12</td>\n      <td>2018-08-15</td>\n      <td>2568.0</td>\n      <td>650000.0</td>\n      <td>6344.0</td>\n      <td>8.0</td>\n      <td>healthy</td>\n      <td>NORM484</td>\n      <td>0.0</td>\n      <td>1.0</td>\n    </tr>\n    <tr>\n      <th>45</th>\n      <td>datasets/Dataset_C2/12_channel/Val</td>\n      <td>e14542s5_P52224</td>\n      <td>256</td>\n      <td>256</td>\n      <td>256</td>\n      <td>218</td>\n      <td>1</td>\n      <td>170</td>\n      <td>1</td>\n      <td>12</td>\n      <td>2018-08-16</td>\n      <td>2568.0</td>\n      <td>650000.0</td>\n      <td>6344.0</td>\n      <td>8.0</td>\n      <td>healthy</td>\n      <td>NORM484</td>\n      <td>1.0</td>\n      <td>2.0</td>\n    </tr>\n    <tr>\n      <th>48</th>\n      <td>datasets/Dataset_C2/12_channel/Val</td>\n      <td>e14584s5_P30208</td>\n      <td>256</td>\n      <td>256</td>\n      <td>256</td>\n      <td>218</td>\n      <td>1</td>\n      <td>170</td>\n      <td>1</td>\n      <td>12</td>\n      <td>2018-08-23</td>\n      <td>2568.0</td>\n      <td>650000.0</td>\n      <td>6344.0</td>\n      <td>8.0</td>\n      <td>healthy</td>\n      <td>NORM492</td>\n      <td>0.0</td>\n      <td>1.0</td>\n    </tr>\n    <tr>\n      <th>49</th>\n      <td>datasets/Dataset_C2/12_channel/Val</td>\n      <td>e14583s3_P21504</td>\n      <td>256</td>\n      <td>256</td>\n      <td>256</td>\n      <td>218</td>\n      <td>1</td>\n      <td>170</td>\n      <td>1</td>\n      <td>12</td>\n      <td>2018-08-23</td>\n      <td>2568.0</td>\n      <td>650000.0</td>\n      <td>6344.0</td>\n      <td>8.0</td>\n      <td>healthy</td>\n      <td>NORM492</td>\n      <td>0.0</td>\n      <td>1.0</td>\n    </tr>\n    <tr>\n      <th>53</th>\n      <td>datasets/Dataset_C2/12_channel/Val</td>\n      <td>e14691s3_P06656</td>\n      <td>256</td>\n      <td>256</td>\n      <td>256</td>\n      <td>218</td>\n      <td>1</td>\n      <td>170</td>\n      <td>1</td>\n      <td>12</td>\n      <td>2018-09-11</td>\n      <td>2568.0</td>\n      <td>650000.0</td>\n      <td>6344.0</td>\n      <td>8.0</td>\n      <td>healthy</td>\n      <td>NORM494</td>\n      <td>0.0</td>\n      <td>1.0</td>\n    </tr>\n    <tr>\n      <th>54</th>\n      <td>datasets/Dataset_C2/12_channel/Val</td>\n      <td>e14692s5_P14848</td>\n      <td>256</td>\n      <td>256</td>\n      <td>256</td>\n      <td>218</td>\n      <td>1</td>\n      <td>170</td>\n      <td>1</td>\n      <td>12</td>\n      <td>2018-09-11</td>\n      <td>2568.0</td>\n      <td>650000.0</td>\n      <td>6344.0</td>\n      <td>8.0</td>\n      <td>healthy</td>\n      <td>NORM494</td>\n      <td>0.0</td>\n      <td>1.0</td>\n    </tr>\n    <tr>\n      <th>82</th>\n      <td>datasets/Dataset_C2/12_channel/Val</td>\n      <td>e15652s14_P51712</td>\n      <td>256</td>\n      <td>256</td>\n      <td>256</td>\n      <td>218</td>\n      <td>1</td>\n      <td>180</td>\n      <td>1</td>\n      <td>12</td>\n      <td>2019-02-14</td>\n      <td>3056.0</td>\n      <td>400000.0</td>\n      <td>7376.0</td>\n      <td>10.0</td>\n      <td>healthy</td>\n      <td>NORM603</td>\n      <td>0.0</td>\n      <td>1.0</td>\n    </tr>\n    <tr>\n      <th>83</th>\n      <td>datasets/Dataset_C2/12_channel/Val</td>\n      <td>e15652s4_P45056</td>\n      <td>256</td>\n      <td>256</td>\n      <td>256</td>\n      <td>218</td>\n      <td>1</td>\n      <td>180</td>\n      <td>1</td>\n      <td>12</td>\n      <td>2019-02-14</td>\n      <td>3056.0</td>\n      <td>400000.0</td>\n      <td>7376.0</td>\n      <td>10.0</td>\n      <td>healthy</td>\n      <td>NORM603</td>\n      <td>0.0</td>\n      <td>1.0</td>\n    </tr>\n    <tr>\n      <th>147</th>\n      <td>datasets/Dataset_C2/12_channel/Val</td>\n      <td>e16673s3_P24576</td>\n      <td>256</td>\n      <td>256</td>\n      <td>256</td>\n      <td>218</td>\n      <td>1</td>\n      <td>180</td>\n      <td>1</td>\n      <td>12</td>\n      <td>2019-07-25</td>\n      <td>3056.0</td>\n      <td>400000.0</td>\n      <td>7376.0</td>\n      <td>10.0</td>\n      <td>healthy</td>\n      <td>NORM100</td>\n      <td>6.0</td>\n      <td>2.0</td>\n    </tr>\n    <tr>\n      <th>148</th>\n      <td>datasets/Dataset_C2/12_channel/Val</td>\n      <td>e16673s13_P31744</td>\n      <td>256</td>\n      <td>256</td>\n      <td>256</td>\n      <td>218</td>\n      <td>1</td>\n      <td>170</td>\n      <td>1</td>\n      <td>12</td>\n      <td>2019-07-25</td>\n      <td>2568.0</td>\n      <td>650000.0</td>\n      <td>6344.0</td>\n      <td>8.0</td>\n      <td>healthy</td>\n      <td>NORM100</td>\n      <td>6.0</td>\n      <td>2.0</td>\n    </tr>\n    <tr>\n      <th>85</th>\n      <td>datasets/Dataset_C2/12_channel/Test</td>\n      <td>e15768s13_P14848</td>\n      <td>256</td>\n      <td>256</td>\n      <td>256</td>\n      <td>218</td>\n      <td>1</td>\n      <td>170</td>\n      <td>1</td>\n      <td>12</td>\n      <td>2019-03-06</td>\n      <td>2568.0</td>\n      <td>650000.0</td>\n      <td>6344.0</td>\n      <td>8.0</td>\n      <td>healthy</td>\n      <td>NORM405</td>\n      <td>0.0</td>\n      <td>1.0</td>\n    </tr>\n    <tr>\n      <th>86</th>\n      <td>datasets/Dataset_C2/12_channel/Test</td>\n      <td>e15768s3_P07168</td>\n      <td>256</td>\n      <td>256</td>\n      <td>256</td>\n      <td>218</td>\n      <td>1</td>\n      <td>180</td>\n      <td>1</td>\n      <td>12</td>\n      <td>2019-03-06</td>\n      <td>3056.0</td>\n      <td>400000.0</td>\n      <td>7376.0</td>\n      <td>10.0</td>\n      <td>healthy</td>\n      <td>NORM405</td>\n      <td>0.0</td>\n      <td>1.0</td>\n    </tr>\n    <tr>\n      <th>87</th>\n      <td>datasets/Dataset_C2/12_channel/Test</td>\n      <td>e15781s3_P89088</td>\n      <td>256</td>\n      <td>256</td>\n      <td>256</td>\n      <td>218</td>\n      <td>1</td>\n      <td>180</td>\n      <td>1</td>\n      <td>12</td>\n      <td>2019-03-07</td>\n      <td>3056.0</td>\n      <td>400000.0</td>\n      <td>7376.0</td>\n      <td>10.0</td>\n      <td>healthy</td>\n      <td>NORM613</td>\n      <td>0.0</td>\n      <td>1.0</td>\n    </tr>\n    <tr>\n      <th>88</th>\n      <td>datasets/Dataset_C2/12_channel/Test</td>\n      <td>e15781s13_P96256</td>\n      <td>256</td>\n      <td>256</td>\n      <td>256</td>\n      <td>218</td>\n      <td>1</td>\n      <td>170</td>\n      <td>1</td>\n      <td>12</td>\n      <td>2019-03-07</td>\n      <td>2568.0</td>\n      <td>650000.0</td>\n      <td>6344.0</td>\n      <td>8.0</td>\n      <td>healthy</td>\n      <td>NORM613</td>\n      <td>0.0</td>\n      <td>1.0</td>\n    </tr>\n    <tr>\n      <th>94</th>\n      <td>datasets/Dataset_C2/12_channel/Test</td>\n      <td>e15812s3_P44544</td>\n      <td>256</td>\n      <td>256</td>\n      <td>256</td>\n      <td>218</td>\n      <td>1</td>\n      <td>180</td>\n      <td>1</td>\n      <td>12</td>\n      <td>2019-03-12</td>\n      <td>3056.0</td>\n      <td>400000.0</td>\n      <td>7376.0</td>\n      <td>10.0</td>\n      <td>healthy</td>\n      <td>NORM405</td>\n      <td>6.0</td>\n      <td>2.0</td>\n    </tr>\n    <tr>\n      <th>95</th>\n      <td>datasets/Dataset_C2/12_channel/Test</td>\n      <td>e15812s13_P51712</td>\n      <td>256</td>\n      <td>256</td>\n      <td>256</td>\n      <td>218</td>\n      <td>1</td>\n      <td>170</td>\n      <td>1</td>\n      <td>12</td>\n      <td>2019-03-12</td>\n      <td>2568.0</td>\n      <td>650000.0</td>\n      <td>6344.0</td>\n      <td>8.0</td>\n      <td>healthy</td>\n      <td>NORM405</td>\n      <td>6.0</td>\n      <td>2.0</td>\n    </tr>\n    <tr>\n      <th>98</th>\n      <td>datasets/Dataset_C2/12_channel/Test</td>\n      <td>e15866s13_P72192</td>\n      <td>256</td>\n      <td>256</td>\n      <td>256</td>\n      <td>218</td>\n      <td>1</td>\n      <td>170</td>\n      <td>1</td>\n      <td>12</td>\n      <td>2019-03-20</td>\n      <td>2568.0</td>\n      <td>650000.0</td>\n      <td>6344.0</td>\n      <td>8.0</td>\n      <td>healthy</td>\n      <td>NORM613</td>\n      <td>13.0</td>\n      <td>2.0</td>\n    </tr>\n    <tr>\n      <th>99</th>\n      <td>datasets/Dataset_C2/12_channel/Test</td>\n      <td>e15866s3_P65024</td>\n      <td>256</td>\n      <td>256</td>\n      <td>256</td>\n      <td>218</td>\n      <td>1</td>\n      <td>180</td>\n      <td>1</td>\n      <td>12</td>\n      <td>2019-03-20</td>\n      <td>3056.0</td>\n      <td>400000.0</td>\n      <td>7376.0</td>\n      <td>10.0</td>\n      <td>healthy</td>\n      <td>NORM613</td>\n      <td>13.0</td>\n      <td>2.0</td>\n    </tr>\n    <tr>\n      <th>100</th>\n      <td>datasets/Dataset_C2/12_channel/Test</td>\n      <td>e15865s3_P55296</td>\n      <td>256</td>\n      <td>256</td>\n      <td>256</td>\n      <td>218</td>\n      <td>1</td>\n      <td>180</td>\n      <td>1</td>\n      <td>12</td>\n      <td>2019-03-20</td>\n      <td>3056.0</td>\n      <td>400000.0</td>\n      <td>7376.0</td>\n      <td>10.0</td>\n      <td>healthy</td>\n      <td>NORM405</td>\n      <td>14.0</td>\n      <td>3.0</td>\n    </tr>\n    <tr>\n      <th>101</th>\n      <td>datasets/Dataset_C2/12_channel/Test</td>\n      <td>e15865s13_P62464</td>\n      <td>256</td>\n      <td>256</td>\n      <td>256</td>\n      <td>218</td>\n      <td>1</td>\n      <td>170</td>\n      <td>1</td>\n      <td>12</td>\n      <td>2019-03-20</td>\n      <td>2568.0</td>\n      <td>650000.0</td>\n      <td>6344.0</td>\n      <td>8.0</td>\n      <td>healthy</td>\n      <td>NORM405</td>\n      <td>14.0</td>\n      <td>3.0</td>\n    </tr>\n    <tr>\n      <th>104</th>\n      <td>datasets/Dataset_C2/12_channel/Test</td>\n      <td>e16031s13_P70656</td>\n      <td>256</td>\n      <td>256</td>\n      <td>256</td>\n      <td>218</td>\n      <td>1</td>\n      <td>170</td>\n      <td>1</td>\n      <td>12</td>\n      <td>2019-04-15</td>\n      <td>2568.0</td>\n      <td>650000.0</td>\n      <td>6344.0</td>\n      <td>8.0</td>\n      <td>healthy</td>\n      <td>NORM613</td>\n      <td>39.0</td>\n      <td>3.0</td>\n    </tr>\n    <tr>\n      <th>105</th>\n      <td>datasets/Dataset_C2/12_channel/Test</td>\n      <td>e16031s3_P63488</td>\n      <td>256</td>\n      <td>256</td>\n      <td>256</td>\n      <td>218</td>\n      <td>1</td>\n      <td>180</td>\n      <td>1</td>\n      <td>12</td>\n      <td>2019-04-15</td>\n      <td>3056.0</td>\n      <td>400000.0</td>\n      <td>7376.0</td>\n      <td>10.0</td>\n      <td>healthy</td>\n      <td>NORM613</td>\n      <td>39.0</td>\n      <td>3.0</td>\n    </tr>\n    <tr>\n      <th>137</th>\n      <td>datasets/Dataset_C2/12_channel/Test</td>\n      <td>e16650s3_P47104</td>\n      <td>256</td>\n      <td>256</td>\n      <td>256</td>\n      <td>218</td>\n      <td>1</td>\n      <td>180</td>\n      <td>1</td>\n      <td>12</td>\n      <td>2019-07-19</td>\n      <td>3056.0</td>\n      <td>400000.0</td>\n      <td>7376.0</td>\n      <td>10.0</td>\n      <td>healthy</td>\n      <td>NORM100</td>\n      <td>0.0</td>\n      <td>1.0</td>\n    </tr>\n    <tr>\n      <th>138</th>\n      <td>datasets/Dataset_C2/12_channel/Test</td>\n      <td>e16649s3_P37376</td>\n      <td>256</td>\n      <td>256</td>\n      <td>256</td>\n      <td>218</td>\n      <td>1</td>\n      <td>180</td>\n      <td>1</td>\n      <td>12</td>\n      <td>2019-07-19</td>\n      <td>3056.0</td>\n      <td>400000.0</td>\n      <td>7376.0</td>\n      <td>10.0</td>\n      <td>healthy</td>\n      <td>NORM100</td>\n      <td>0.0</td>\n      <td>1.0</td>\n    </tr>\n    <tr>\n      <th>139</th>\n      <td>datasets/Dataset_C2/12_channel/Test</td>\n      <td>e16650s13_P54272</td>\n      <td>256</td>\n      <td>256</td>\n      <td>256</td>\n      <td>218</td>\n      <td>1</td>\n      <td>170</td>\n      <td>1</td>\n      <td>12</td>\n      <td>2019-07-19</td>\n      <td>2568.0</td>\n      <td>650000.0</td>\n      <td>6344.0</td>\n      <td>8.0</td>\n      <td>healthy</td>\n      <td>NORM100</td>\n      <td>0.0</td>\n      <td>1.0</td>\n    </tr>\n    <tr>\n      <th>140</th>\n      <td>datasets/Dataset_C2/12_channel/Test</td>\n      <td>e16649s13_P44544</td>\n      <td>256</td>\n      <td>256</td>\n      <td>256</td>\n      <td>218</td>\n      <td>1</td>\n      <td>170</td>\n      <td>1</td>\n      <td>12</td>\n      <td>2019-07-19</td>\n      <td>2568.0</td>\n      <td>650000.0</td>\n      <td>6344.0</td>\n      <td>8.0</td>\n      <td>healthy</td>\n      <td>NORM100</td>\n      <td>0.0</td>\n      <td>1.0</td>\n    </tr>\n  </tbody>\n</table>\n</div>"
     },
     "execution_count": 72,
     "metadata": {},
     "output_type": "execute_result"
    }
   ],
   "source": [
    "# merged_df = pd.concat([val_mv,test_mv])\n",
    "# merged_df"
   ],
   "metadata": {
    "collapsed": false,
    "ExecuteTime": {
     "end_time": "2024-01-11T18:02:27.324214400Z",
     "start_time": "2024-01-11T18:02:27.321116Z"
    }
   },
   "id": "4c4955d76127d8a2"
  },
  {
   "cell_type": "code",
   "execution_count": 4,
   "outputs": [],
   "source": [
    "# get NORMITAVE data only first scan\n",
    "# data_first = data.loc[data[\"Type\"] == \"healthy\"].loc[data[\"Channels\"] == 12].loc[data[\"Relative path\"].str.contains(\"Train\")]\n",
    "# data_first.to_csv('csvs/train_chal.csv')\n",
    "# get NORMITAVE data only first scan\n",
    "# data_first = data.loc[data[\"Type\"] == \"healthy\"].loc[data[\"Channels\"] == 12].loc[data[\"Relative path\"].str.contains(\"Val\")]\n",
    "# data_first.to_csv('csvs/val_chal.csv')\n",
    "# # get NORMITAVE data only first scan\n",
    "# data_first = data.loc[data[\"Type\"] == \"healthy\"].loc[data[\"Channels\"] == 12].loc[data[\"Relative path\"].str.contains(\"Test\")]\n",
    "# data_first.to_csv('csvs/test_chal.csv')\n",
    "# # GBM data first scan\n",
    "# data_first = data.loc[data[\"Type\"] == \"GBM\"].loc[data[\"Number of scan\"] == 1]\n",
    "# data_first.to_csv('GBM_01.csv')\n",
    "# # GBM data following scans\n",
    "# data_first = data.loc[data[\"Type\"] == \"GBM\"].loc[data[\"Number of scan\"] != 1]\n",
    "# data_first.to_csv('GBM_02.csv')\n",
    "# \n",
    "# # get NORMITAVE data only first scan\n",
    "# data_first = data.loc[data[\"Type\"] == \"healthy\"].loc[data[\"Number of scan\"] != 1].loc[data[\"Relative path\"].str.contains(\"Train\")]\n",
    "# data_first.to_csv('train02.csv')\n",
    "# # get NORMITAVE data only first scan\n",
    "# data_first = data.loc[data[\"Type\"] == \"healthy\"].loc[data[\"Number of scan\"] != 1].loc[data[\"Relative path\"].str.contains(\"Val\")]\n",
    "# data_first.to_csv('val02.csv')\n",
    "# # # get NORMITAVE data only first scan\n",
    "# data_first = data.loc[data[\"Type\"] == \"healthy\"].loc[data[\"Number of scan\"] != 1].loc[data[\"Relative path\"].str.contains(\"Test\")]\n",
    "# data_first.to_csv('test02.csv')"
   ],
   "metadata": {
    "collapsed": false,
    "ExecuteTime": {
     "end_time": "2023-11-13T00:12:26.901697382Z",
     "start_time": "2023-11-13T00:12:26.899850462Z"
    }
   },
   "id": "8f3d3e0530ffa10f"
  },
  {
   "cell_type": "code",
   "execution_count": 15,
   "outputs": [
    {
     "data": {
      "text/plain": "120"
     },
     "execution_count": 15,
     "metadata": {},
     "output_type": "execute_result"
    }
   ],
   "source": [
    "# Filter the data to include only healthy subjects\n",
    "# healthy_data = data[data['Type'] == 'healthy']\n",
    "# \n",
    "# # Group by 'Patient ID' and count the occurrences\n",
    "# patient_counts = healthy_data['Patient ID'].value_counts()\n",
    "# \n",
    "# # Identify patients with only one entry (no repeated measurements)\n",
    "# healthy_unique_patients = patient_counts[patient_counts == 1]\n",
    "# \n",
    "# # Number of healthy subjects with no repeated measurements\n",
    "# num_healthy_unique_patients = healthy_unique_patients.count()\n",
    "# num_healthy_unique_patients\n"
   ],
   "metadata": {
    "collapsed": false,
    "ExecuteTime": {
     "end_time": "2024-01-09T21:48:43.564322100Z",
     "start_time": "2024-01-09T21:48:43.551177300Z"
    }
   },
   "id": "9f5f69eca6bb2c71"
  },
  {
   "cell_type": "code",
   "execution_count": 83,
   "outputs": [],
   "source": [
    "# data_first = data.loc[data[\"Type\"] == \"healthy\"].loc[data[\"Number of scan\"] == 1].loc[data[\"Relative path\"].str.contains(\"Train\")].loc[data[\"Slices\"]==170].loc[data[\"Channels\"]==12]\n",
    "# data_first.to_csv('train01_170.csv')\n",
    "# # get NORMITAVE data only first scan\n",
    "# data_first = data.loc[data[\"Type\"] == \"healthy\"].loc[data[\"Number of scan\"] == 1].loc[data[\"Relative path\"].str.contains(\"Val\")].loc[data[\"Slices\"]==170].loc[data[\"Channels\"]==12]\n",
    "# data_first.to_csv('val01_170.csv')\n",
    "# # # get NORMITAVE data only first scan\n",
    "# data_first = data.loc[data[\"Type\"] == \"healthy\"].loc[data[\"Number of scan\"] == 1].loc[data[\"Relative path\"].str.contains(\"Test\")].loc[data[\"Slices\"]==170].loc[data[\"Channels\"]==12]\n",
    "# data_first.to_csv('test01_170.csv')"
   ],
   "metadata": {
    "collapsed": false,
    "ExecuteTime": {
     "end_time": "2023-11-12T20:32:10.936925793Z",
     "start_time": "2023-11-12T20:32:10.879080369Z"
    }
   },
   "id": "40addbc1958fdbbe"
  },
  {
   "cell_type": "code",
   "execution_count": 16,
   "outputs": [
    {
     "data": {
      "text/plain": "3"
     },
     "execution_count": 16,
     "metadata": {},
     "output_type": "execute_result"
    }
   ],
   "source": [
    "# data_healthy = data.loc[data[\"Type\"] == \"healthy\"].loc[data[\"Relative path\"].str.contains(\"new\")].loc[data[\"Channels\"] == 12]\n",
    "# data_healthy\n",
    "# patient_counts = data_healthy['Patient ID'].value_counts()\n",
    "# patient_counts\n",
    "# # Identify patients with only one entry (no repeated measurements)\n",
    "# healthy_unique_patients = patient_counts[patient_counts != 1]\n",
    "# \n",
    "# # Number of healthy subjects with no repeated measurements\n",
    "# num_healthy_unique_patients = healthy_unique_patients.count()\n",
    "# num_healthy_unique_patients\n",
    "# \n",
    "# # healthy_unique_patients\n",
    "# # healthy_unique_patients = data_healthy\n"
   ],
   "metadata": {
    "collapsed": false,
    "ExecuteTime": {
     "end_time": "2024-01-09T21:49:17.220811600Z",
     "start_time": "2024-01-09T21:49:17.216110600Z"
    }
   },
   "id": "7e52666e68fe11ef"
  },
  {
   "cell_type": "code",
   "execution_count": 7,
   "outputs": [
    {
     "data": {
      "text/plain": "31"
     },
     "execution_count": 7,
     "metadata": {},
     "output_type": "execute_result"
    }
   ],
   "source": [
    "# len(data_healthy)"
   ],
   "metadata": {
    "collapsed": false,
    "ExecuteTime": {
     "end_time": "2023-11-13T00:12:48.636461016Z",
     "start_time": "2023-11-13T00:12:48.573231819Z"
    }
   },
   "id": "5d791da89a1bfc57"
  },
  {
   "cell_type": "code",
   "execution_count": 8,
   "outputs": [
    {
     "data": {
      "text/plain": "                          Relative path        File name  Image X res  \\\n319  datasets/Dataset_C2/12_channel/new  e19850s3_P09728          256   \n320  datasets/Dataset_C2/12_channel/new  e19861s3_P16384          256   \n321  datasets/Dataset_C2/12_channel/new  e19864s3_P17408          256   \n322  datasets/Dataset_C2/12_channel/new  e19869s3_P60928          256   \n323  datasets/Dataset_C2/12_channel/new  e19870s3_P70656          256   \n324  datasets/Dataset_C2/12_channel/new  e19890s3_P36352          256   \n326  datasets/Dataset_C2/12_channel/new  e19928s3_P17408          256   \n327  datasets/Dataset_C2/12_channel/new  e19933s5_P59904          256   \n328  datasets/Dataset_C2/12_channel/new  e19932s3_P49664          256   \n329  datasets/Dataset_C2/12_channel/new  e19961s3_P20480          256   \n330  datasets/Dataset_C2/12_channel/new  e19963s3_P39936          256   \n331  datasets/Dataset_C2/12_channel/new  e19967s4_P16896          256   \n332  datasets/Dataset_C2/12_channel/new  e19977s3_P37888          256   \n333  datasets/Dataset_C2/12_channel/new  e19994s3_P54784          256   \n334  datasets/Dataset_C2/12_channel/new  e19993s9_P50176          256   \n335  datasets/Dataset_C2/12_channel/new  e20039s3_P33792          256   \n336  datasets/Dataset_C2/12_channel/new  e20059s3_P51200          256   \n337  datasets/Dataset_C2/12_channel/new  e20060s3_P59904          256   \n\n     Image Y res  k space X res  k space Y res  Phases  Slices  Echos  \\\n319          256            256            218       1     170      1   \n320          256            256            218       1     170      1   \n321          256            256            218       1     170      1   \n322          256            256            218       1     170      1   \n323          256            256            218       1     170      1   \n324          256            256            218       1     170      1   \n326          256            256            218       1     170      1   \n327          256            256            218       1     170      1   \n328          256            256            218       1     170      1   \n329          256            256            218       1     170      1   \n330          256            256            218       1     170      1   \n331          256            256            218       1     170      1   \n332          256            256            218       1     170      1   \n333          256            256            218       1     170      1   \n334          256            256            218       1     170      1   \n335          256            256            218       1     170      1   \n336          256            256            218       1     170      1   \n337          256            256            218       1     170      1   \n\n     Channels   Scan date      TE        TI      TR  Flip angle     Type  \\\n319        12  2022-03-17  2584.0  650000.0  6380.0         8.0  healthy   \n320        12  2022-03-21  2584.0  650000.0  6380.0         8.0  healthy   \n321        12  2022-03-22  2584.0  650000.0  6380.0         8.0  healthy   \n322        12  2022-03-23  2584.0  650000.0  6380.0         8.0  healthy   \n323        12  2022-03-23  2584.0  650000.0  6380.0         8.0  healthy   \n324        12  2022-03-28  2584.0  650000.0  6380.0         8.0  healthy   \n326        12  2022-04-06  2584.0  650000.0  6380.0         8.0  healthy   \n327        12  2022-04-07  2584.0  650000.0  6380.0         8.0  healthy   \n328        12  2022-04-07  2584.0  650000.0  6380.0         8.0  healthy   \n329        12  2022-04-13  2584.0  650000.0  6380.0         8.0  healthy   \n330        12  2022-04-13  2584.0  650000.0  6380.0         8.0  healthy   \n331        12  2022-04-14  2584.0  650000.0  6380.0         8.0  healthy   \n332        12  2022-04-18  2584.0  650000.0  6380.0         8.0  healthy   \n333        12  2022-04-21  2584.0  650000.0  6380.0         8.0  healthy   \n334        12  2022-04-21  2584.0  650000.0  6380.0         8.0  healthy   \n335        12  2022-05-03  2584.0  650000.0  6380.0         8.0  healthy   \n336        12  2022-05-05  2584.0  650000.0  6380.0         8.0  healthy   \n337        12  2022-05-05  2584.0  650000.0  6380.0         8.0  healthy   \n\n    Patient ID  Relative scan date  Number of scan  \n319    NORM414                 0.0             1.0  \n320    NORM406                 0.0             1.0  \n321    NORM422                 0.0             1.0  \n322    NORM438                 0.0             1.0  \n323    NORM410                 0.0             1.0  \n324    NORM424                 0.0             1.0  \n326    NORM426                 0.0             1.0  \n327    NORM441                 0.0             1.0  \n328    NORM421                 0.0             1.0  \n329    NORM411                 0.0             1.0  \n330    NORM404                 0.0             1.0  \n331    NORM435                 0.0             1.0  \n332    NROM405                 0.0             1.0  \n333    NORM448                 0.0             1.0  \n334    NORM440                 0.0             1.0  \n335    NORM423                 0.0             1.0  \n336    NORM446                 0.0             1.0  \n337    NORM444                 0.0             1.0  ",
      "text/html": "<div>\n<style scoped>\n    .dataframe tbody tr th:only-of-type {\n        vertical-align: middle;\n    }\n\n    .dataframe tbody tr th {\n        vertical-align: top;\n    }\n\n    .dataframe thead th {\n        text-align: right;\n    }\n</style>\n<table border=\"1\" class=\"dataframe\">\n  <thead>\n    <tr style=\"text-align: right;\">\n      <th></th>\n      <th>Relative path</th>\n      <th>File name</th>\n      <th>Image X res</th>\n      <th>Image Y res</th>\n      <th>k space X res</th>\n      <th>k space Y res</th>\n      <th>Phases</th>\n      <th>Slices</th>\n      <th>Echos</th>\n      <th>Channels</th>\n      <th>Scan date</th>\n      <th>TE</th>\n      <th>TI</th>\n      <th>TR</th>\n      <th>Flip angle</th>\n      <th>Type</th>\n      <th>Patient ID</th>\n      <th>Relative scan date</th>\n      <th>Number of scan</th>\n    </tr>\n  </thead>\n  <tbody>\n    <tr>\n      <th>319</th>\n      <td>datasets/Dataset_C2/12_channel/new</td>\n      <td>e19850s3_P09728</td>\n      <td>256</td>\n      <td>256</td>\n      <td>256</td>\n      <td>218</td>\n      <td>1</td>\n      <td>170</td>\n      <td>1</td>\n      <td>12</td>\n      <td>2022-03-17</td>\n      <td>2584.0</td>\n      <td>650000.0</td>\n      <td>6380.0</td>\n      <td>8.0</td>\n      <td>healthy</td>\n      <td>NORM414</td>\n      <td>0.0</td>\n      <td>1.0</td>\n    </tr>\n    <tr>\n      <th>320</th>\n      <td>datasets/Dataset_C2/12_channel/new</td>\n      <td>e19861s3_P16384</td>\n      <td>256</td>\n      <td>256</td>\n      <td>256</td>\n      <td>218</td>\n      <td>1</td>\n      <td>170</td>\n      <td>1</td>\n      <td>12</td>\n      <td>2022-03-21</td>\n      <td>2584.0</td>\n      <td>650000.0</td>\n      <td>6380.0</td>\n      <td>8.0</td>\n      <td>healthy</td>\n      <td>NORM406</td>\n      <td>0.0</td>\n      <td>1.0</td>\n    </tr>\n    <tr>\n      <th>321</th>\n      <td>datasets/Dataset_C2/12_channel/new</td>\n      <td>e19864s3_P17408</td>\n      <td>256</td>\n      <td>256</td>\n      <td>256</td>\n      <td>218</td>\n      <td>1</td>\n      <td>170</td>\n      <td>1</td>\n      <td>12</td>\n      <td>2022-03-22</td>\n      <td>2584.0</td>\n      <td>650000.0</td>\n      <td>6380.0</td>\n      <td>8.0</td>\n      <td>healthy</td>\n      <td>NORM422</td>\n      <td>0.0</td>\n      <td>1.0</td>\n    </tr>\n    <tr>\n      <th>322</th>\n      <td>datasets/Dataset_C2/12_channel/new</td>\n      <td>e19869s3_P60928</td>\n      <td>256</td>\n      <td>256</td>\n      <td>256</td>\n      <td>218</td>\n      <td>1</td>\n      <td>170</td>\n      <td>1</td>\n      <td>12</td>\n      <td>2022-03-23</td>\n      <td>2584.0</td>\n      <td>650000.0</td>\n      <td>6380.0</td>\n      <td>8.0</td>\n      <td>healthy</td>\n      <td>NORM438</td>\n      <td>0.0</td>\n      <td>1.0</td>\n    </tr>\n    <tr>\n      <th>323</th>\n      <td>datasets/Dataset_C2/12_channel/new</td>\n      <td>e19870s3_P70656</td>\n      <td>256</td>\n      <td>256</td>\n      <td>256</td>\n      <td>218</td>\n      <td>1</td>\n      <td>170</td>\n      <td>1</td>\n      <td>12</td>\n      <td>2022-03-23</td>\n      <td>2584.0</td>\n      <td>650000.0</td>\n      <td>6380.0</td>\n      <td>8.0</td>\n      <td>healthy</td>\n      <td>NORM410</td>\n      <td>0.0</td>\n      <td>1.0</td>\n    </tr>\n    <tr>\n      <th>324</th>\n      <td>datasets/Dataset_C2/12_channel/new</td>\n      <td>e19890s3_P36352</td>\n      <td>256</td>\n      <td>256</td>\n      <td>256</td>\n      <td>218</td>\n      <td>1</td>\n      <td>170</td>\n      <td>1</td>\n      <td>12</td>\n      <td>2022-03-28</td>\n      <td>2584.0</td>\n      <td>650000.0</td>\n      <td>6380.0</td>\n      <td>8.0</td>\n      <td>healthy</td>\n      <td>NORM424</td>\n      <td>0.0</td>\n      <td>1.0</td>\n    </tr>\n    <tr>\n      <th>326</th>\n      <td>datasets/Dataset_C2/12_channel/new</td>\n      <td>e19928s3_P17408</td>\n      <td>256</td>\n      <td>256</td>\n      <td>256</td>\n      <td>218</td>\n      <td>1</td>\n      <td>170</td>\n      <td>1</td>\n      <td>12</td>\n      <td>2022-04-06</td>\n      <td>2584.0</td>\n      <td>650000.0</td>\n      <td>6380.0</td>\n      <td>8.0</td>\n      <td>healthy</td>\n      <td>NORM426</td>\n      <td>0.0</td>\n      <td>1.0</td>\n    </tr>\n    <tr>\n      <th>327</th>\n      <td>datasets/Dataset_C2/12_channel/new</td>\n      <td>e19933s5_P59904</td>\n      <td>256</td>\n      <td>256</td>\n      <td>256</td>\n      <td>218</td>\n      <td>1</td>\n      <td>170</td>\n      <td>1</td>\n      <td>12</td>\n      <td>2022-04-07</td>\n      <td>2584.0</td>\n      <td>650000.0</td>\n      <td>6380.0</td>\n      <td>8.0</td>\n      <td>healthy</td>\n      <td>NORM441</td>\n      <td>0.0</td>\n      <td>1.0</td>\n    </tr>\n    <tr>\n      <th>328</th>\n      <td>datasets/Dataset_C2/12_channel/new</td>\n      <td>e19932s3_P49664</td>\n      <td>256</td>\n      <td>256</td>\n      <td>256</td>\n      <td>218</td>\n      <td>1</td>\n      <td>170</td>\n      <td>1</td>\n      <td>12</td>\n      <td>2022-04-07</td>\n      <td>2584.0</td>\n      <td>650000.0</td>\n      <td>6380.0</td>\n      <td>8.0</td>\n      <td>healthy</td>\n      <td>NORM421</td>\n      <td>0.0</td>\n      <td>1.0</td>\n    </tr>\n    <tr>\n      <th>329</th>\n      <td>datasets/Dataset_C2/12_channel/new</td>\n      <td>e19961s3_P20480</td>\n      <td>256</td>\n      <td>256</td>\n      <td>256</td>\n      <td>218</td>\n      <td>1</td>\n      <td>170</td>\n      <td>1</td>\n      <td>12</td>\n      <td>2022-04-13</td>\n      <td>2584.0</td>\n      <td>650000.0</td>\n      <td>6380.0</td>\n      <td>8.0</td>\n      <td>healthy</td>\n      <td>NORM411</td>\n      <td>0.0</td>\n      <td>1.0</td>\n    </tr>\n    <tr>\n      <th>330</th>\n      <td>datasets/Dataset_C2/12_channel/new</td>\n      <td>e19963s3_P39936</td>\n      <td>256</td>\n      <td>256</td>\n      <td>256</td>\n      <td>218</td>\n      <td>1</td>\n      <td>170</td>\n      <td>1</td>\n      <td>12</td>\n      <td>2022-04-13</td>\n      <td>2584.0</td>\n      <td>650000.0</td>\n      <td>6380.0</td>\n      <td>8.0</td>\n      <td>healthy</td>\n      <td>NORM404</td>\n      <td>0.0</td>\n      <td>1.0</td>\n    </tr>\n    <tr>\n      <th>331</th>\n      <td>datasets/Dataset_C2/12_channel/new</td>\n      <td>e19967s4_P16896</td>\n      <td>256</td>\n      <td>256</td>\n      <td>256</td>\n      <td>218</td>\n      <td>1</td>\n      <td>170</td>\n      <td>1</td>\n      <td>12</td>\n      <td>2022-04-14</td>\n      <td>2584.0</td>\n      <td>650000.0</td>\n      <td>6380.0</td>\n      <td>8.0</td>\n      <td>healthy</td>\n      <td>NORM435</td>\n      <td>0.0</td>\n      <td>1.0</td>\n    </tr>\n    <tr>\n      <th>332</th>\n      <td>datasets/Dataset_C2/12_channel/new</td>\n      <td>e19977s3_P37888</td>\n      <td>256</td>\n      <td>256</td>\n      <td>256</td>\n      <td>218</td>\n      <td>1</td>\n      <td>170</td>\n      <td>1</td>\n      <td>12</td>\n      <td>2022-04-18</td>\n      <td>2584.0</td>\n      <td>650000.0</td>\n      <td>6380.0</td>\n      <td>8.0</td>\n      <td>healthy</td>\n      <td>NROM405</td>\n      <td>0.0</td>\n      <td>1.0</td>\n    </tr>\n    <tr>\n      <th>333</th>\n      <td>datasets/Dataset_C2/12_channel/new</td>\n      <td>e19994s3_P54784</td>\n      <td>256</td>\n      <td>256</td>\n      <td>256</td>\n      <td>218</td>\n      <td>1</td>\n      <td>170</td>\n      <td>1</td>\n      <td>12</td>\n      <td>2022-04-21</td>\n      <td>2584.0</td>\n      <td>650000.0</td>\n      <td>6380.0</td>\n      <td>8.0</td>\n      <td>healthy</td>\n      <td>NORM448</td>\n      <td>0.0</td>\n      <td>1.0</td>\n    </tr>\n    <tr>\n      <th>334</th>\n      <td>datasets/Dataset_C2/12_channel/new</td>\n      <td>e19993s9_P50176</td>\n      <td>256</td>\n      <td>256</td>\n      <td>256</td>\n      <td>218</td>\n      <td>1</td>\n      <td>170</td>\n      <td>1</td>\n      <td>12</td>\n      <td>2022-04-21</td>\n      <td>2584.0</td>\n      <td>650000.0</td>\n      <td>6380.0</td>\n      <td>8.0</td>\n      <td>healthy</td>\n      <td>NORM440</td>\n      <td>0.0</td>\n      <td>1.0</td>\n    </tr>\n    <tr>\n      <th>335</th>\n      <td>datasets/Dataset_C2/12_channel/new</td>\n      <td>e20039s3_P33792</td>\n      <td>256</td>\n      <td>256</td>\n      <td>256</td>\n      <td>218</td>\n      <td>1</td>\n      <td>170</td>\n      <td>1</td>\n      <td>12</td>\n      <td>2022-05-03</td>\n      <td>2584.0</td>\n      <td>650000.0</td>\n      <td>6380.0</td>\n      <td>8.0</td>\n      <td>healthy</td>\n      <td>NORM423</td>\n      <td>0.0</td>\n      <td>1.0</td>\n    </tr>\n    <tr>\n      <th>336</th>\n      <td>datasets/Dataset_C2/12_channel/new</td>\n      <td>e20059s3_P51200</td>\n      <td>256</td>\n      <td>256</td>\n      <td>256</td>\n      <td>218</td>\n      <td>1</td>\n      <td>170</td>\n      <td>1</td>\n      <td>12</td>\n      <td>2022-05-05</td>\n      <td>2584.0</td>\n      <td>650000.0</td>\n      <td>6380.0</td>\n      <td>8.0</td>\n      <td>healthy</td>\n      <td>NORM446</td>\n      <td>0.0</td>\n      <td>1.0</td>\n    </tr>\n    <tr>\n      <th>337</th>\n      <td>datasets/Dataset_C2/12_channel/new</td>\n      <td>e20060s3_P59904</td>\n      <td>256</td>\n      <td>256</td>\n      <td>256</td>\n      <td>218</td>\n      <td>1</td>\n      <td>170</td>\n      <td>1</td>\n      <td>12</td>\n      <td>2022-05-05</td>\n      <td>2584.0</td>\n      <td>650000.0</td>\n      <td>6380.0</td>\n      <td>8.0</td>\n      <td>healthy</td>\n      <td>NORM444</td>\n      <td>0.0</td>\n      <td>1.0</td>\n    </tr>\n  </tbody>\n</table>\n</div>"
     },
     "execution_count": 8,
     "metadata": {},
     "output_type": "execute_result"
    }
   ],
   "source": [
    "# from sklearn.model_selection import train_test_split\n",
    "# \n",
    "# # Sort the data by 'Patient ID' and 'Scan date'\n",
    "# # df_sorted = data_healthy.sort_values(by=['Patient ID', 'Scan date'])\n",
    "# \n",
    "# # Remove duplicate entries based on 'Patient ID', keeping the first scan for each patient\n",
    "# df_unique_patients = data_healthy.loc[data[\"Number of scan\"] == 1].drop_duplicates(subset='Patient ID')\n",
    "# \n",
    "# # Split the unique patients into train (70%), validation (15%), and test (15%) sets\n",
    "# train, val_test = train_test_split(df_unique_patients, test_size=0.3, random_state=42)\n",
    "# val, test = train_test_split(val_test, test_size=0.5, random_state=42)\n",
    "# \n",
    "# # Show the number of patients in each set\n",
    "# len(train), len(val), len(test)\n",
    "# df_unique_patients"
   ],
   "metadata": {
    "collapsed": false,
    "ExecuteTime": {
     "end_time": "2023-11-13T00:12:51.516053462Z",
     "start_time": "2023-11-13T00:12:51.089441553Z"
    }
   },
   "id": "a0bd006fa024df1"
  },
  {
   "cell_type": "code",
   "execution_count": 9,
   "outputs": [
    {
     "data": {
      "text/plain": "(12, 3, 3, 18)"
     },
     "execution_count": 9,
     "metadata": {},
     "output_type": "execute_result"
    }
   ],
   "source": [
    "# # Get the corresponding scans for each patient in the train, validation, and test sets\n",
    "# train_data = data_healthy[data_healthy['Patient ID'].isin(train['Patient ID'])]\n",
    "# val_data = data_healthy[data_healthy['Patient ID'].isin(val['Patient ID'])]\n",
    "# test_data = data_healthy[data_healthy['Patient ID'].isin(test['Patient ID'])]\n",
    "# \n",
    "# # Show the number of scans in each set\n",
    "# len(train_data), len(val_data), len(test_data), len(train_data)+len(val_data)+len(test_data)\n"
   ],
   "metadata": {
    "collapsed": false,
    "ExecuteTime": {
     "end_time": "2023-11-13T00:13:06.641615349Z",
     "start_time": "2023-11-13T00:13:06.639766521Z"
    }
   },
   "id": "3ffed4e69f18468c"
  },
  {
   "cell_type": "code",
   "execution_count": 87,
   "outputs": [
    {
     "data": {
      "text/plain": "31"
     },
     "execution_count": 87,
     "metadata": {},
     "output_type": "execute_result"
    }
   ],
   "source": [
    "# train_data"
   ],
   "metadata": {
    "collapsed": false,
    "ExecuteTime": {
     "end_time": "2023-11-12T20:36:05.134730709Z",
     "start_time": "2023-11-12T20:36:05.085618333Z"
    }
   },
   "id": "b1c92f9e340a94e0"
  },
  {
   "cell_type": "code",
   "execution_count": 11,
   "outputs": [
    {
     "data": {
      "text/plain": "\"There is overlap between the sets:\\nOverlap between Validation and Test: {'NORM100'}\\n\""
     },
     "execution_count": 11,
     "metadata": {},
     "output_type": "execute_result"
    }
   ],
   "source": [
    "# def test_no_overlap(train_ids, val_ids, test_ids):\n",
    "#     \"\"\"\n",
    "#     Test function to ensure there is no overlap in patient IDs between train, validation, and test sets.\n",
    "# \n",
    "#     Parameters:\n",
    "#     train_ids (set): Set of patient IDs in the train set.\n",
    "#     val_ids (set): Set of patient IDs in the validation set.\n",
    "#     test_ids (set): Set of patient IDs in the test set.\n",
    "# \n",
    "#     Returns:\n",
    "#     str: A message indicating whether there is any overlap and, if so, which IDs are overlapping.\n",
    "#     \"\"\"\n",
    "# \n",
    "#     # Find the intersection between the sets\n",
    "#     train_val_overlap = train_ids.intersection(val_ids)\n",
    "#     train_test_overlap = train_ids.intersection(test_ids)\n",
    "#     val_test_overlap = val_ids.intersection(test_ids)\n",
    "# \n",
    "#     # Prepare a message to indicate if there is any overlap\n",
    "#     overlap_message = \"\"\n",
    "#     if train_val_overlap:\n",
    "#         overlap_message += f\"Overlap between Train and Validation: {train_val_overlap}\\n\"\n",
    "#     if train_test_overlap:\n",
    "#         overlap_message += f\"Overlap between Train and Test: {train_test_overlap}\\n\"\n",
    "#     if val_test_overlap:\n",
    "#         overlap_message += f\"Overlap between Validation and Test: {val_test_overlap}\\n\"\n",
    "#     \n",
    "#     # If there is any overlap, return the message\n",
    "#     if overlap_message:\n",
    "#         return f\"There is overlap between the sets:\\n{overlap_message}\"\n",
    "#     else:\n",
    "#         return \"No overlap between train, validation, and test sets. The partition is correct.\"\n",
    "# \n",
    "# # Convert the patient IDs to sets\n",
    "# train_ids = set(train['Patient ID'])\n",
    "# val_ids = set(val['Patient ID'])\n",
    "# test_ids = set(test['Patient ID'])\n",
    "# \n",
    "# # Run the test function\n",
    "# test_no_overlap(train_ids, val_ids, test_ids)\n"
   ],
   "metadata": {
    "collapsed": false,
    "ExecuteTime": {
     "end_time": "2024-01-12T18:29:41.411863200Z",
     "start_time": "2024-01-12T18:29:41.405633700Z"
    }
   },
   "id": "61440f6ac604458c"
  },
  {
   "cell_type": "code",
   "execution_count": 86,
   "outputs": [
    {
     "data": {
      "text/plain": "(19, 2, 10, 31)"
     },
     "execution_count": 86,
     "metadata": {},
     "output_type": "execute_result"
    }
   ],
   "source": [
    "# train.loc[data[\"Channels\"]==12].loc[data[\"Number of scan\"] == 1].to_csv('csvs/train_sv.csv')\n",
    "# val.loc[data[\"Channels\"]==12].loc[data[\"Number of scan\"] == 1].to_csv('csvs/val_sv.csv')\n",
    "# test.loc[data[\"Channels\"]==12].loc[data[\"Number of scan\"] == 1].to_csv('csvs/test_sv.csv')"
   ],
   "metadata": {
    "collapsed": false,
    "ExecuteTime": {
     "end_time": "2023-11-12T20:35:39.876331910Z",
     "start_time": "2023-11-12T20:35:39.829605877Z"
    }
   },
   "id": "d2cd429caea1dc6a"
  }
 ],
 "metadata": {
  "kernelspec": {
   "display_name": "Python 3",
   "language": "python",
   "name": "python3"
  },
  "language_info": {
   "codemirror_mode": {
    "name": "ipython",
    "version": 2
   },
   "file_extension": ".py",
   "mimetype": "text/x-python",
   "name": "python",
   "nbconvert_exporter": "python",
   "pygments_lexer": "ipython2",
   "version": "2.7.6"
  }
 },
 "nbformat": 4,
 "nbformat_minor": 5
}
